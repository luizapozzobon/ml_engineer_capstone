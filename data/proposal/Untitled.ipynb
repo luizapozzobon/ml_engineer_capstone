{
 "cells": [
  {
   "cell_type": "code",
   "execution_count": 1,
   "metadata": {},
   "outputs": [],
   "source": [
    "import pandas as pd"
   ]
  },
  {
   "cell_type": "code",
   "execution_count": 2,
   "metadata": {},
   "outputs": [
    {
     "name": "stdout",
     "output_type": "stream",
     "text": [
      "filtered_data.csv  profile.json  transcript.json\r\n",
      "portfolio.json     proposal.pdf  Untitled.ipynb\r\n"
     ]
    }
   ],
   "source": [
    "ls"
   ]
  },
  {
   "cell_type": "code",
   "execution_count": 6,
   "metadata": {},
   "outputs": [],
   "source": [
    "fd = pd.read_csv('filtered_data.csv')"
   ]
  },
  {
   "cell_type": "code",
   "execution_count": 8,
   "metadata": {},
   "outputs": [
    {
     "data": {
      "text/html": [
       "<div>\n",
       "<style scoped>\n",
       "    .dataframe tbody tr th:only-of-type {\n",
       "        vertical-align: middle;\n",
       "    }\n",
       "\n",
       "    .dataframe tbody tr th {\n",
       "        vertical-align: top;\n",
       "    }\n",
       "\n",
       "    .dataframe thead th {\n",
       "        text-align: right;\n",
       "    }\n",
       "</style>\n",
       "<table border=\"1\" class=\"dataframe\">\n",
       "  <thead>\n",
       "    <tr style=\"text-align: right;\">\n",
       "      <th></th>\n",
       "      <th>Unnamed: 0</th>\n",
       "      <th>event</th>\n",
       "      <th>person</th>\n",
       "      <th>time</th>\n",
       "      <th>offer id</th>\n",
       "      <th>reward</th>\n",
       "    </tr>\n",
       "  </thead>\n",
       "  <tbody>\n",
       "    <tr>\n",
       "      <th>118878</th>\n",
       "      <td>210711</td>\n",
       "      <td>offer received</td>\n",
       "      <td>78e971bddb2842208b226249593b424f</td>\n",
       "      <td>504</td>\n",
       "      <td>5a8bc65990b245e5a138643cd4eb9837</td>\n",
       "      <td>NaN</td>\n",
       "    </tr>\n",
       "    <tr>\n",
       "      <th>11860</th>\n",
       "      <td>11860</td>\n",
       "      <td>offer received</td>\n",
       "      <td>258df44b49644e28873287c18a2d3474</td>\n",
       "      <td>0</td>\n",
       "      <td>2906b810c7d4411798c6938adc9daaa5</td>\n",
       "      <td>NaN</td>\n",
       "    </tr>\n",
       "    <tr>\n",
       "      <th>130332</th>\n",
       "      <td>227530</td>\n",
       "      <td>offer completed</td>\n",
       "      <td>7af54ea6250c4aa0941733ec8a18b821</td>\n",
       "      <td>522</td>\n",
       "      <td>2906b810c7d4411798c6938adc9daaa5</td>\n",
       "      <td>2.0</td>\n",
       "    </tr>\n",
       "    <tr>\n",
       "      <th>37580</th>\n",
       "      <td>63503</td>\n",
       "      <td>offer received</td>\n",
       "      <td>159ba13189d54daeaa55f4f8399d9779</td>\n",
       "      <td>168</td>\n",
       "      <td>fafdcd668e3743c1bb461111dcafc2a4</td>\n",
       "      <td>NaN</td>\n",
       "    </tr>\n",
       "    <tr>\n",
       "      <th>55457</th>\n",
       "      <td>110032</td>\n",
       "      <td>offer viewed</td>\n",
       "      <td>95e86569c15d455fa02041dd12f3d308</td>\n",
       "      <td>330</td>\n",
       "      <td>9b98b8c7a33c4b65b9aebfe6a799e6d9</td>\n",
       "      <td>NaN</td>\n",
       "    </tr>\n",
       "  </tbody>\n",
       "</table>\n",
       "</div>"
      ],
      "text/plain": [
       "        Unnamed: 0            event                            person  time  \\\n",
       "118878      210711   offer received  78e971bddb2842208b226249593b424f   504   \n",
       "11860        11860   offer received  258df44b49644e28873287c18a2d3474     0   \n",
       "130332      227530  offer completed  7af54ea6250c4aa0941733ec8a18b821   522   \n",
       "37580        63503   offer received  159ba13189d54daeaa55f4f8399d9779   168   \n",
       "55457       110032     offer viewed  95e86569c15d455fa02041dd12f3d308   330   \n",
       "\n",
       "                                offer id  reward  \n",
       "118878  5a8bc65990b245e5a138643cd4eb9837     NaN  \n",
       "11860   2906b810c7d4411798c6938adc9daaa5     NaN  \n",
       "130332  2906b810c7d4411798c6938adc9daaa5     2.0  \n",
       "37580   fafdcd668e3743c1bb461111dcafc2a4     NaN  \n",
       "55457   9b98b8c7a33c4b65b9aebfe6a799e6d9     NaN  "
      ]
     },
     "execution_count": 8,
     "metadata": {},
     "output_type": "execute_result"
    }
   ],
   "source": [
    "carl.sample(100).head()"
   ]
  },
  {
   "cell_type": "code",
   "execution_count": 19,
   "metadata": {},
   "outputs": [],
   "source": [
    "a = carl[carl['event'] == 'offer completed']"
   ]
  },
  {
   "cell_type": "code",
   "execution_count": 20,
   "metadata": {},
   "outputs": [
    {
     "data": {
      "text/plain": [
       "0.2003747441535735"
      ]
     },
     "execution_count": 20,
     "metadata": {},
     "output_type": "execute_result"
    }
   ],
   "source": [
    "len(a) / len(carl)"
   ]
  },
  {
   "cell_type": "code",
   "execution_count": 15,
   "metadata": {},
   "outputs": [
    {
     "data": {
      "text/plain": [
       "167581"
      ]
     },
     "execution_count": 15,
     "metadata": {},
     "output_type": "execute_result"
    }
   ],
   "source": []
  },
  {
   "cell_type": "code",
   "execution_count": null,
   "metadata": {},
   "outputs": [],
   "source": [
    "viewed = 0.34\n",
    "received = 0.45\n",
    "offer completed = 0.20\n"
   ]
  }
 ],
 "metadata": {
  "kernelspec": {
   "display_name": "Python 3",
   "language": "python",
   "name": "python3"
  },
  "language_info": {
   "codemirror_mode": {
    "name": "ipython",
    "version": 3
   },
   "file_extension": ".py",
   "mimetype": "text/x-python",
   "name": "python",
   "nbconvert_exporter": "python",
   "pygments_lexer": "ipython3",
   "version": "3.7.6"
  }
 },
 "nbformat": 4,
 "nbformat_minor": 4
}
