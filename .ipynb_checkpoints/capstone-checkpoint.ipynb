{
 "cells": [
  {
   "cell_type": "code",
   "execution_count": 1,
   "metadata": {},
   "outputs": [],
   "source": [
    "import pandas as pd\n",
    "import numpy as np\n",
    "\n",
    "from pathlib import Path\n",
    "from tqdm.notebook import tqdm"
   ]
  },
  {
   "cell_type": "code",
   "execution_count": 2,
   "metadata": {},
   "outputs": [],
   "source": [
    "path = Path('./data')\n",
    "\n",
    "transcript = pd.read_json(path / 'transcript.json', orient='records', lines=True)\n",
    "portfolio = pd.read_json(path / 'portfolio.json', orient='records', lines=True)\n",
    "profile = pd.read_json(path / 'profile.json', orient='records', lines=True)\n",
    "\n",
    "filtered_data = pd.read_csv(path / 'filtered_data.csv', index_col=0)"
   ]
  },
  {
   "cell_type": "code",
   "execution_count": 3,
   "metadata": {},
   "outputs": [
    {
     "data": {
      "text/html": [
       "<div>\n",
       "<style scoped>\n",
       "    .dataframe tbody tr th:only-of-type {\n",
       "        vertical-align: middle;\n",
       "    }\n",
       "\n",
       "    .dataframe tbody tr th {\n",
       "        vertical-align: top;\n",
       "    }\n",
       "\n",
       "    .dataframe thead th {\n",
       "        text-align: right;\n",
       "    }\n",
       "</style>\n",
       "<table border=\"1\" class=\"dataframe\">\n",
       "  <thead>\n",
       "    <tr style=\"text-align: right;\">\n",
       "      <th></th>\n",
       "      <th>gender</th>\n",
       "      <th>age</th>\n",
       "      <th>id</th>\n",
       "      <th>became_member_on</th>\n",
       "      <th>income</th>\n",
       "    </tr>\n",
       "  </thead>\n",
       "  <tbody>\n",
       "    <tr>\n",
       "      <th>0</th>\n",
       "      <td>None</td>\n",
       "      <td>118</td>\n",
       "      <td>68be06ca386d4c31939f3a4f0e3dd783</td>\n",
       "      <td>20170212</td>\n",
       "      <td>NaN</td>\n",
       "    </tr>\n",
       "    <tr>\n",
       "      <th>1</th>\n",
       "      <td>F</td>\n",
       "      <td>55</td>\n",
       "      <td>0610b486422d4921ae7d2bf64640c50b</td>\n",
       "      <td>20170715</td>\n",
       "      <td>112000.0</td>\n",
       "    </tr>\n",
       "    <tr>\n",
       "      <th>2</th>\n",
       "      <td>None</td>\n",
       "      <td>118</td>\n",
       "      <td>38fe809add3b4fcf9315a9694bb96ff5</td>\n",
       "      <td>20180712</td>\n",
       "      <td>NaN</td>\n",
       "    </tr>\n",
       "    <tr>\n",
       "      <th>3</th>\n",
       "      <td>F</td>\n",
       "      <td>75</td>\n",
       "      <td>78afa995795e4d85b5d9ceeca43f5fef</td>\n",
       "      <td>20170509</td>\n",
       "      <td>100000.0</td>\n",
       "    </tr>\n",
       "    <tr>\n",
       "      <th>4</th>\n",
       "      <td>None</td>\n",
       "      <td>118</td>\n",
       "      <td>a03223e636434f42ac4c3df47e8bac43</td>\n",
       "      <td>20170804</td>\n",
       "      <td>NaN</td>\n",
       "    </tr>\n",
       "    <tr>\n",
       "      <th>...</th>\n",
       "      <td>...</td>\n",
       "      <td>...</td>\n",
       "      <td>...</td>\n",
       "      <td>...</td>\n",
       "      <td>...</td>\n",
       "    </tr>\n",
       "    <tr>\n",
       "      <th>16995</th>\n",
       "      <td>F</td>\n",
       "      <td>45</td>\n",
       "      <td>6d5f3a774f3d4714ab0c092238f3a1d7</td>\n",
       "      <td>20180604</td>\n",
       "      <td>54000.0</td>\n",
       "    </tr>\n",
       "    <tr>\n",
       "      <th>16996</th>\n",
       "      <td>M</td>\n",
       "      <td>61</td>\n",
       "      <td>2cb4f97358b841b9a9773a7aa05a9d77</td>\n",
       "      <td>20180713</td>\n",
       "      <td>72000.0</td>\n",
       "    </tr>\n",
       "    <tr>\n",
       "      <th>16997</th>\n",
       "      <td>M</td>\n",
       "      <td>49</td>\n",
       "      <td>01d26f638c274aa0b965d24cefe3183f</td>\n",
       "      <td>20170126</td>\n",
       "      <td>73000.0</td>\n",
       "    </tr>\n",
       "    <tr>\n",
       "      <th>16998</th>\n",
       "      <td>F</td>\n",
       "      <td>83</td>\n",
       "      <td>9dc1421481194dcd9400aec7c9ae6366</td>\n",
       "      <td>20160307</td>\n",
       "      <td>50000.0</td>\n",
       "    </tr>\n",
       "    <tr>\n",
       "      <th>16999</th>\n",
       "      <td>F</td>\n",
       "      <td>62</td>\n",
       "      <td>e4052622e5ba45a8b96b59aba68cf068</td>\n",
       "      <td>20170722</td>\n",
       "      <td>82000.0</td>\n",
       "    </tr>\n",
       "  </tbody>\n",
       "</table>\n",
       "<p>17000 rows × 5 columns</p>\n",
       "</div>"
      ],
      "text/plain": [
       "      gender  age                                id  became_member_on  \\\n",
       "0       None  118  68be06ca386d4c31939f3a4f0e3dd783          20170212   \n",
       "1          F   55  0610b486422d4921ae7d2bf64640c50b          20170715   \n",
       "2       None  118  38fe809add3b4fcf9315a9694bb96ff5          20180712   \n",
       "3          F   75  78afa995795e4d85b5d9ceeca43f5fef          20170509   \n",
       "4       None  118  a03223e636434f42ac4c3df47e8bac43          20170804   \n",
       "...      ...  ...                               ...               ...   \n",
       "16995      F   45  6d5f3a774f3d4714ab0c092238f3a1d7          20180604   \n",
       "16996      M   61  2cb4f97358b841b9a9773a7aa05a9d77          20180713   \n",
       "16997      M   49  01d26f638c274aa0b965d24cefe3183f          20170126   \n",
       "16998      F   83  9dc1421481194dcd9400aec7c9ae6366          20160307   \n",
       "16999      F   62  e4052622e5ba45a8b96b59aba68cf068          20170722   \n",
       "\n",
       "         income  \n",
       "0           NaN  \n",
       "1      112000.0  \n",
       "2           NaN  \n",
       "3      100000.0  \n",
       "4           NaN  \n",
       "...         ...  \n",
       "16995   54000.0  \n",
       "16996   72000.0  \n",
       "16997   73000.0  \n",
       "16998   50000.0  \n",
       "16999   82000.0  \n",
       "\n",
       "[17000 rows x 5 columns]"
      ]
     },
     "execution_count": 3,
     "metadata": {},
     "output_type": "execute_result"
    }
   ],
   "source": [
    "profile"
   ]
  },
  {
   "cell_type": "code",
   "execution_count": 4,
   "metadata": {},
   "outputs": [
    {
     "data": {
      "text/html": [
       "<div>\n",
       "<style scoped>\n",
       "    .dataframe tbody tr th:only-of-type {\n",
       "        vertical-align: middle;\n",
       "    }\n",
       "\n",
       "    .dataframe tbody tr th {\n",
       "        vertical-align: top;\n",
       "    }\n",
       "\n",
       "    .dataframe thead th {\n",
       "        text-align: right;\n",
       "    }\n",
       "</style>\n",
       "<table border=\"1\" class=\"dataframe\">\n",
       "  <thead>\n",
       "    <tr style=\"text-align: right;\">\n",
       "      <th></th>\n",
       "      <th>event</th>\n",
       "      <th>person</th>\n",
       "      <th>time</th>\n",
       "      <th>offer id</th>\n",
       "      <th>reward</th>\n",
       "    </tr>\n",
       "  </thead>\n",
       "  <tbody>\n",
       "    <tr>\n",
       "      <th>0</th>\n",
       "      <td>offer received</td>\n",
       "      <td>78afa995795e4d85b5d9ceeca43f5fef</td>\n",
       "      <td>0</td>\n",
       "      <td>9b98b8c7a33c4b65b9aebfe6a799e6d9</td>\n",
       "      <td>NaN</td>\n",
       "    </tr>\n",
       "    <tr>\n",
       "      <th>1</th>\n",
       "      <td>offer received</td>\n",
       "      <td>a03223e636434f42ac4c3df47e8bac43</td>\n",
       "      <td>0</td>\n",
       "      <td>0b1e1539f2cc45b7b9fa7c272da2e1d7</td>\n",
       "      <td>NaN</td>\n",
       "    </tr>\n",
       "    <tr>\n",
       "      <th>2</th>\n",
       "      <td>offer received</td>\n",
       "      <td>e2127556f4f64592b11af22de27a7932</td>\n",
       "      <td>0</td>\n",
       "      <td>2906b810c7d4411798c6938adc9daaa5</td>\n",
       "      <td>NaN</td>\n",
       "    </tr>\n",
       "    <tr>\n",
       "      <th>3</th>\n",
       "      <td>offer received</td>\n",
       "      <td>8ec6ce2a7e7949b1bf142def7d0e0586</td>\n",
       "      <td>0</td>\n",
       "      <td>fafdcd668e3743c1bb461111dcafc2a4</td>\n",
       "      <td>NaN</td>\n",
       "    </tr>\n",
       "    <tr>\n",
       "      <th>4</th>\n",
       "      <td>offer received</td>\n",
       "      <td>68617ca6246f4fbc85e91a2a49552598</td>\n",
       "      <td>0</td>\n",
       "      <td>4d5c57ea9a6940dd891ad53e9dbe8da0</td>\n",
       "      <td>NaN</td>\n",
       "    </tr>\n",
       "    <tr>\n",
       "      <th>...</th>\n",
       "      <td>...</td>\n",
       "      <td>...</td>\n",
       "      <td>...</td>\n",
       "      <td>...</td>\n",
       "      <td>...</td>\n",
       "    </tr>\n",
       "    <tr>\n",
       "      <th>306497</th>\n",
       "      <td>offer completed</td>\n",
       "      <td>a6f84f4e976f44508c358cc9aba6d2b3</td>\n",
       "      <td>714</td>\n",
       "      <td>2298d6c36e964ae4a3e7e9706d1fb8c2</td>\n",
       "      <td>3.0</td>\n",
       "    </tr>\n",
       "    <tr>\n",
       "      <th>306506</th>\n",
       "      <td>offer completed</td>\n",
       "      <td>b895c57e8cd047a8872ce02aa54759d6</td>\n",
       "      <td>714</td>\n",
       "      <td>fafdcd668e3743c1bb461111dcafc2a4</td>\n",
       "      <td>2.0</td>\n",
       "    </tr>\n",
       "    <tr>\n",
       "      <th>306507</th>\n",
       "      <td>offer viewed</td>\n",
       "      <td>8dda575c2a1d44b9ac8e8b07b93d1f8e</td>\n",
       "      <td>714</td>\n",
       "      <td>0b1e1539f2cc45b7b9fa7c272da2e1d7</td>\n",
       "      <td>NaN</td>\n",
       "    </tr>\n",
       "    <tr>\n",
       "      <th>306509</th>\n",
       "      <td>offer completed</td>\n",
       "      <td>8431c16f8e1d440880db371a68f82dd0</td>\n",
       "      <td>714</td>\n",
       "      <td>fafdcd668e3743c1bb461111dcafc2a4</td>\n",
       "      <td>2.0</td>\n",
       "    </tr>\n",
       "    <tr>\n",
       "      <th>306527</th>\n",
       "      <td>offer completed</td>\n",
       "      <td>24f56b5e1849462093931b164eb803b5</td>\n",
       "      <td>714</td>\n",
       "      <td>fafdcd668e3743c1bb461111dcafc2a4</td>\n",
       "      <td>2.0</td>\n",
       "    </tr>\n",
       "  </tbody>\n",
       "</table>\n",
       "<p>167581 rows × 5 columns</p>\n",
       "</div>"
      ],
      "text/plain": [
       "                  event                            person  time  \\\n",
       "0        offer received  78afa995795e4d85b5d9ceeca43f5fef     0   \n",
       "1        offer received  a03223e636434f42ac4c3df47e8bac43     0   \n",
       "2        offer received  e2127556f4f64592b11af22de27a7932     0   \n",
       "3        offer received  8ec6ce2a7e7949b1bf142def7d0e0586     0   \n",
       "4        offer received  68617ca6246f4fbc85e91a2a49552598     0   \n",
       "...                 ...                               ...   ...   \n",
       "306497  offer completed  a6f84f4e976f44508c358cc9aba6d2b3   714   \n",
       "306506  offer completed  b895c57e8cd047a8872ce02aa54759d6   714   \n",
       "306507     offer viewed  8dda575c2a1d44b9ac8e8b07b93d1f8e   714   \n",
       "306509  offer completed  8431c16f8e1d440880db371a68f82dd0   714   \n",
       "306527  offer completed  24f56b5e1849462093931b164eb803b5   714   \n",
       "\n",
       "                                offer id  reward  \n",
       "0       9b98b8c7a33c4b65b9aebfe6a799e6d9     NaN  \n",
       "1       0b1e1539f2cc45b7b9fa7c272da2e1d7     NaN  \n",
       "2       2906b810c7d4411798c6938adc9daaa5     NaN  \n",
       "3       fafdcd668e3743c1bb461111dcafc2a4     NaN  \n",
       "4       4d5c57ea9a6940dd891ad53e9dbe8da0     NaN  \n",
       "...                                  ...     ...  \n",
       "306497  2298d6c36e964ae4a3e7e9706d1fb8c2     3.0  \n",
       "306506  fafdcd668e3743c1bb461111dcafc2a4     2.0  \n",
       "306507  0b1e1539f2cc45b7b9fa7c272da2e1d7     NaN  \n",
       "306509  fafdcd668e3743c1bb461111dcafc2a4     2.0  \n",
       "306527  fafdcd668e3743c1bb461111dcafc2a4     2.0  \n",
       "\n",
       "[167581 rows x 5 columns]"
      ]
     },
     "execution_count": 4,
     "metadata": {},
     "output_type": "execute_result"
    }
   ],
   "source": [
    "filtered_data"
   ]
  },
  {
   "cell_type": "code",
   "execution_count": 5,
   "metadata": {},
   "outputs": [],
   "source": [
    "people = filtered_data['person'].unique()"
   ]
  },
  {
   "cell_type": "code",
   "execution_count": 6,
   "metadata": {},
   "outputs": [
    {
     "data": {
      "text/html": [
       "<div>\n",
       "<style scoped>\n",
       "    .dataframe tbody tr th:only-of-type {\n",
       "        vertical-align: middle;\n",
       "    }\n",
       "\n",
       "    .dataframe tbody tr th {\n",
       "        vertical-align: top;\n",
       "    }\n",
       "\n",
       "    .dataframe thead th {\n",
       "        text-align: right;\n",
       "    }\n",
       "</style>\n",
       "<table border=\"1\" class=\"dataframe\">\n",
       "  <thead>\n",
       "    <tr style=\"text-align: right;\">\n",
       "      <th></th>\n",
       "      <th>reward</th>\n",
       "      <th>channels</th>\n",
       "      <th>difficulty</th>\n",
       "      <th>duration</th>\n",
       "      <th>offer_type</th>\n",
       "      <th>id</th>\n",
       "    </tr>\n",
       "  </thead>\n",
       "  <tbody>\n",
       "    <tr>\n",
       "      <th>0</th>\n",
       "      <td>10</td>\n",
       "      <td>[email, mobile, social]</td>\n",
       "      <td>10</td>\n",
       "      <td>7</td>\n",
       "      <td>bogo</td>\n",
       "      <td>ae264e3637204a6fb9bb56bc8210ddfd</td>\n",
       "    </tr>\n",
       "    <tr>\n",
       "      <th>1</th>\n",
       "      <td>10</td>\n",
       "      <td>[web, email, mobile, social]</td>\n",
       "      <td>10</td>\n",
       "      <td>5</td>\n",
       "      <td>bogo</td>\n",
       "      <td>4d5c57ea9a6940dd891ad53e9dbe8da0</td>\n",
       "    </tr>\n",
       "    <tr>\n",
       "      <th>2</th>\n",
       "      <td>0</td>\n",
       "      <td>[web, email, mobile]</td>\n",
       "      <td>0</td>\n",
       "      <td>4</td>\n",
       "      <td>informational</td>\n",
       "      <td>3f207df678b143eea3cee63160fa8bed</td>\n",
       "    </tr>\n",
       "    <tr>\n",
       "      <th>3</th>\n",
       "      <td>5</td>\n",
       "      <td>[web, email, mobile]</td>\n",
       "      <td>5</td>\n",
       "      <td>7</td>\n",
       "      <td>bogo</td>\n",
       "      <td>9b98b8c7a33c4b65b9aebfe6a799e6d9</td>\n",
       "    </tr>\n",
       "    <tr>\n",
       "      <th>4</th>\n",
       "      <td>5</td>\n",
       "      <td>[web, email]</td>\n",
       "      <td>20</td>\n",
       "      <td>10</td>\n",
       "      <td>discount</td>\n",
       "      <td>0b1e1539f2cc45b7b9fa7c272da2e1d7</td>\n",
       "    </tr>\n",
       "    <tr>\n",
       "      <th>5</th>\n",
       "      <td>3</td>\n",
       "      <td>[web, email, mobile, social]</td>\n",
       "      <td>7</td>\n",
       "      <td>7</td>\n",
       "      <td>discount</td>\n",
       "      <td>2298d6c36e964ae4a3e7e9706d1fb8c2</td>\n",
       "    </tr>\n",
       "    <tr>\n",
       "      <th>6</th>\n",
       "      <td>2</td>\n",
       "      <td>[web, email, mobile, social]</td>\n",
       "      <td>10</td>\n",
       "      <td>10</td>\n",
       "      <td>discount</td>\n",
       "      <td>fafdcd668e3743c1bb461111dcafc2a4</td>\n",
       "    </tr>\n",
       "    <tr>\n",
       "      <th>7</th>\n",
       "      <td>0</td>\n",
       "      <td>[email, mobile, social]</td>\n",
       "      <td>0</td>\n",
       "      <td>3</td>\n",
       "      <td>informational</td>\n",
       "      <td>5a8bc65990b245e5a138643cd4eb9837</td>\n",
       "    </tr>\n",
       "    <tr>\n",
       "      <th>8</th>\n",
       "      <td>5</td>\n",
       "      <td>[web, email, mobile, social]</td>\n",
       "      <td>5</td>\n",
       "      <td>5</td>\n",
       "      <td>bogo</td>\n",
       "      <td>f19421c1d4aa40978ebb69ca19b0e20d</td>\n",
       "    </tr>\n",
       "    <tr>\n",
       "      <th>9</th>\n",
       "      <td>2</td>\n",
       "      <td>[web, email, mobile]</td>\n",
       "      <td>10</td>\n",
       "      <td>7</td>\n",
       "      <td>discount</td>\n",
       "      <td>2906b810c7d4411798c6938adc9daaa5</td>\n",
       "    </tr>\n",
       "  </tbody>\n",
       "</table>\n",
       "</div>"
      ],
      "text/plain": [
       "   reward                      channels  difficulty  duration     offer_type  \\\n",
       "0      10       [email, mobile, social]          10         7           bogo   \n",
       "1      10  [web, email, mobile, social]          10         5           bogo   \n",
       "2       0          [web, email, mobile]           0         4  informational   \n",
       "3       5          [web, email, mobile]           5         7           bogo   \n",
       "4       5                  [web, email]          20        10       discount   \n",
       "5       3  [web, email, mobile, social]           7         7       discount   \n",
       "6       2  [web, email, mobile, social]          10        10       discount   \n",
       "7       0       [email, mobile, social]           0         3  informational   \n",
       "8       5  [web, email, mobile, social]           5         5           bogo   \n",
       "9       2          [web, email, mobile]          10         7       discount   \n",
       "\n",
       "                                 id  \n",
       "0  ae264e3637204a6fb9bb56bc8210ddfd  \n",
       "1  4d5c57ea9a6940dd891ad53e9dbe8da0  \n",
       "2  3f207df678b143eea3cee63160fa8bed  \n",
       "3  9b98b8c7a33c4b65b9aebfe6a799e6d9  \n",
       "4  0b1e1539f2cc45b7b9fa7c272da2e1d7  \n",
       "5  2298d6c36e964ae4a3e7e9706d1fb8c2  \n",
       "6  fafdcd668e3743c1bb461111dcafc2a4  \n",
       "7  5a8bc65990b245e5a138643cd4eb9837  \n",
       "8  f19421c1d4aa40978ebb69ca19b0e20d  \n",
       "9  2906b810c7d4411798c6938adc9daaa5  "
      ]
     },
     "execution_count": 6,
     "metadata": {},
     "output_type": "execute_result"
    }
   ],
   "source": [
    "portfolio"
   ]
  },
  {
   "cell_type": "markdown",
   "metadata": {},
   "source": [
    "## Build Dataset\n",
    "\n",
    "#### Dataset features\n",
    "1. Person Age\n",
    "2. Person Incomde\n",
    "3. Person join\n",
    "\n",
    "- Offer received, viewed and completed = valid\n",
    "- Offer received, not viewed and completed = not valid\n",
    "- Offer received, viewed and not completed = not valid\n",
    "- Offer received, not viewed and not completed = not valid\n"
   ]
  },
  {
   "cell_type": "code",
   "execution_count": 146,
   "metadata": {},
   "outputs": [
    {
     "data": {
      "application/vnd.jupyter.widget-view+json": {
       "model_id": "71f8f7d0dc58488dbfefc22b3ace12a6",
       "version_major": 2,
       "version_minor": 0
      },
      "text/plain": [
       "HBox(children=(FloatProgress(value=0.0, max=16994.0), HTML(value='')))"
      ]
     },
     "metadata": {},
     "output_type": "display_data"
    },
    {
     "name": "stdout",
     "output_type": "stream",
     "text": [
      "\n"
     ]
    }
   ],
   "source": [
    "dataset = pd.DataFrame()\n",
    "for person in tqdm(people, total=len(people)):\n",
    "    person_data = profile[profile['id'] == person]\n",
    "    \n",
    "    transactions = filtered_data[filtered_data['person'] == person]\n",
    "    \n",
    "    received = transactions[transactions['event'] == 'offer received']\n",
    "    completed = transactions[transactions['event'] == 'offer completed']\n",
    "    viewed = transactions[transactions['event'] == 'offer viewed']\n",
    "    \n",
    "    offers = received['offer id'].values\n",
    "    \n",
    "    for row in received.iterrows():\n",
    "        this_offer = row[1]['offer id']\n",
    "        offer_type = portfolio[portfolio['id'] == this_offer]['offer_type'].values[0]\n",
    "        offer_difficulty = portfolio[portfolio['id'] == this_offer]['difficulty'].values[0]\n",
    "        offer_duration = portfolio[portfolio['id'] == this_offer]['duration'].values[0]\n",
    "        offer_reward = portfolio[portfolio['id'] == this_offer]['reward'].values[0]\n",
    "        \n",
    "        assert offer_type\n",
    "        \n",
    "        # Portfolio duration in days, so duration * 24h\n",
    "        offer_duration = portfolio[portfolio['id'] == this_offer]['duration'].values[0] * 24\n",
    "        \n",
    "        # Start time in hours\n",
    "        start_time = row[1]['time']\n",
    "        max_end_time = start_time + offer_duration\n",
    "        \n",
    "        assert start_time < max_end_time # some tests to assure dataset is correct\n",
    "        \n",
    "        # Get completed offers that have the same id\n",
    "        completed_by_type = completed[completed['offer id'] == this_offer]\n",
    "        \n",
    "        # Of those, check if they were within the allowed completion time\n",
    "        completed_offer = completed_by_type.query(f'time >= {start_time} and time <= {max_end_time}')\n",
    "        \n",
    "        if completed_offer.empty:\n",
    "            # If no completed offer, then it is not valid (no completion)\n",
    "            valid = False\n",
    "        else:\n",
    "            # If there's a completed record, should check if it was viewed before completion\n",
    "            completed_time = completed_offer['time'].values[0]\n",
    "            \n",
    "            assert completed_time <= max_end_time # tests to assure dataset is correct\n",
    "            \n",
    "            viewed_offer = viewed[viewed['offer id'] == this_offer]                \n",
    "            if viewed_offer.empty:\n",
    "                # If there's no view record, not a valid completion\n",
    "                valid = False\n",
    "            else:\n",
    "                # Check if it was viewed in time\n",
    "                viewed_time = viewed_offer['time'].values[0]\n",
    "                valid_view = viewed_offer.query(f'time >= {start_time} and time <= {completed_time}')\n",
    "                \n",
    "                if valid_view.empty:\n",
    "                    valid = False\n",
    "                else:\n",
    "                    assert viewed_time <= completed_time\n",
    "                    valid = True\n",
    "            \n",
    "        this_row = person_data.copy()\n",
    "        transaction_df = pd.DataFrame({'offer_id': this_offer,\n",
    "                                       'type': offer_type,\n",
    "                                       'duration': offer_duration,\n",
    "                                       'difficulty': offer_difficulty,\n",
    "                                       'reward': offer_reward,\n",
    "                                       'completed': valid}, index=this_row.index)\n",
    "        this_row = pd.concat([this_row, transaction_df], axis=1)\n",
    "        dataset = dataset.append(this_row)\n",
    "dataset = dataset.reset_index(drop=True)"
   ]
  },
  {
   "cell_type": "code",
   "execution_count": 147,
   "metadata": {},
   "outputs": [
    {
     "data": {
      "text/html": [
       "<div>\n",
       "<style scoped>\n",
       "    .dataframe tbody tr th:only-of-type {\n",
       "        vertical-align: middle;\n",
       "    }\n",
       "\n",
       "    .dataframe tbody tr th {\n",
       "        vertical-align: top;\n",
       "    }\n",
       "\n",
       "    .dataframe thead th {\n",
       "        text-align: right;\n",
       "    }\n",
       "</style>\n",
       "<table border=\"1\" class=\"dataframe\">\n",
       "  <thead>\n",
       "    <tr style=\"text-align: right;\">\n",
       "      <th></th>\n",
       "      <th>gender</th>\n",
       "      <th>age</th>\n",
       "      <th>id</th>\n",
       "      <th>became_member_on</th>\n",
       "      <th>income</th>\n",
       "      <th>offer_id</th>\n",
       "      <th>type</th>\n",
       "      <th>duration</th>\n",
       "      <th>difficulty</th>\n",
       "      <th>reward</th>\n",
       "      <th>completed</th>\n",
       "    </tr>\n",
       "  </thead>\n",
       "  <tbody>\n",
       "    <tr>\n",
       "      <th>0</th>\n",
       "      <td>F</td>\n",
       "      <td>75</td>\n",
       "      <td>78afa995795e4d85b5d9ceeca43f5fef</td>\n",
       "      <td>20170509</td>\n",
       "      <td>100000.0</td>\n",
       "      <td>9b98b8c7a33c4b65b9aebfe6a799e6d9</td>\n",
       "      <td>bogo</td>\n",
       "      <td>168</td>\n",
       "      <td>5</td>\n",
       "      <td>5</td>\n",
       "      <td>True</td>\n",
       "    </tr>\n",
       "    <tr>\n",
       "      <th>1</th>\n",
       "      <td>F</td>\n",
       "      <td>75</td>\n",
       "      <td>78afa995795e4d85b5d9ceeca43f5fef</td>\n",
       "      <td>20170509</td>\n",
       "      <td>100000.0</td>\n",
       "      <td>5a8bc65990b245e5a138643cd4eb9837</td>\n",
       "      <td>informational</td>\n",
       "      <td>72</td>\n",
       "      <td>0</td>\n",
       "      <td>0</td>\n",
       "      <td>False</td>\n",
       "    </tr>\n",
       "    <tr>\n",
       "      <th>2</th>\n",
       "      <td>F</td>\n",
       "      <td>75</td>\n",
       "      <td>78afa995795e4d85b5d9ceeca43f5fef</td>\n",
       "      <td>20170509</td>\n",
       "      <td>100000.0</td>\n",
       "      <td>ae264e3637204a6fb9bb56bc8210ddfd</td>\n",
       "      <td>bogo</td>\n",
       "      <td>168</td>\n",
       "      <td>10</td>\n",
       "      <td>10</td>\n",
       "      <td>True</td>\n",
       "    </tr>\n",
       "    <tr>\n",
       "      <th>3</th>\n",
       "      <td>F</td>\n",
       "      <td>75</td>\n",
       "      <td>78afa995795e4d85b5d9ceeca43f5fef</td>\n",
       "      <td>20170509</td>\n",
       "      <td>100000.0</td>\n",
       "      <td>f19421c1d4aa40978ebb69ca19b0e20d</td>\n",
       "      <td>bogo</td>\n",
       "      <td>120</td>\n",
       "      <td>5</td>\n",
       "      <td>5</td>\n",
       "      <td>False</td>\n",
       "    </tr>\n",
       "    <tr>\n",
       "      <th>4</th>\n",
       "      <td>None</td>\n",
       "      <td>118</td>\n",
       "      <td>a03223e636434f42ac4c3df47e8bac43</td>\n",
       "      <td>20170804</td>\n",
       "      <td>NaN</td>\n",
       "      <td>0b1e1539f2cc45b7b9fa7c272da2e1d7</td>\n",
       "      <td>discount</td>\n",
       "      <td>240</td>\n",
       "      <td>20</td>\n",
       "      <td>5</td>\n",
       "      <td>False</td>\n",
       "    </tr>\n",
       "    <tr>\n",
       "      <th>5</th>\n",
       "      <td>None</td>\n",
       "      <td>118</td>\n",
       "      <td>a03223e636434f42ac4c3df47e8bac43</td>\n",
       "      <td>20170804</td>\n",
       "      <td>NaN</td>\n",
       "      <td>3f207df678b143eea3cee63160fa8bed</td>\n",
       "      <td>informational</td>\n",
       "      <td>96</td>\n",
       "      <td>0</td>\n",
       "      <td>0</td>\n",
       "      <td>False</td>\n",
       "    </tr>\n",
       "    <tr>\n",
       "      <th>6</th>\n",
       "      <td>None</td>\n",
       "      <td>118</td>\n",
       "      <td>a03223e636434f42ac4c3df47e8bac43</td>\n",
       "      <td>20170804</td>\n",
       "      <td>NaN</td>\n",
       "      <td>5a8bc65990b245e5a138643cd4eb9837</td>\n",
       "      <td>informational</td>\n",
       "      <td>72</td>\n",
       "      <td>0</td>\n",
       "      <td>0</td>\n",
       "      <td>False</td>\n",
       "    </tr>\n",
       "    <tr>\n",
       "      <th>7</th>\n",
       "      <td>None</td>\n",
       "      <td>118</td>\n",
       "      <td>a03223e636434f42ac4c3df47e8bac43</td>\n",
       "      <td>20170804</td>\n",
       "      <td>NaN</td>\n",
       "      <td>0b1e1539f2cc45b7b9fa7c272da2e1d7</td>\n",
       "      <td>discount</td>\n",
       "      <td>240</td>\n",
       "      <td>20</td>\n",
       "      <td>5</td>\n",
       "      <td>False</td>\n",
       "    </tr>\n",
       "    <tr>\n",
       "      <th>8</th>\n",
       "      <td>None</td>\n",
       "      <td>118</td>\n",
       "      <td>a03223e636434f42ac4c3df47e8bac43</td>\n",
       "      <td>20170804</td>\n",
       "      <td>NaN</td>\n",
       "      <td>0b1e1539f2cc45b7b9fa7c272da2e1d7</td>\n",
       "      <td>discount</td>\n",
       "      <td>240</td>\n",
       "      <td>20</td>\n",
       "      <td>5</td>\n",
       "      <td>False</td>\n",
       "    </tr>\n",
       "    <tr>\n",
       "      <th>9</th>\n",
       "      <td>M</td>\n",
       "      <td>68</td>\n",
       "      <td>e2127556f4f64592b11af22de27a7932</td>\n",
       "      <td>20180426</td>\n",
       "      <td>70000.0</td>\n",
       "      <td>2906b810c7d4411798c6938adc9daaa5</td>\n",
       "      <td>discount</td>\n",
       "      <td>168</td>\n",
       "      <td>10</td>\n",
       "      <td>2</td>\n",
       "      <td>False</td>\n",
       "    </tr>\n",
       "  </tbody>\n",
       "</table>\n",
       "</div>"
      ],
      "text/plain": [
       "  gender  age                                id  became_member_on    income  \\\n",
       "0      F   75  78afa995795e4d85b5d9ceeca43f5fef          20170509  100000.0   \n",
       "1      F   75  78afa995795e4d85b5d9ceeca43f5fef          20170509  100000.0   \n",
       "2      F   75  78afa995795e4d85b5d9ceeca43f5fef          20170509  100000.0   \n",
       "3      F   75  78afa995795e4d85b5d9ceeca43f5fef          20170509  100000.0   \n",
       "4   None  118  a03223e636434f42ac4c3df47e8bac43          20170804       NaN   \n",
       "5   None  118  a03223e636434f42ac4c3df47e8bac43          20170804       NaN   \n",
       "6   None  118  a03223e636434f42ac4c3df47e8bac43          20170804       NaN   \n",
       "7   None  118  a03223e636434f42ac4c3df47e8bac43          20170804       NaN   \n",
       "8   None  118  a03223e636434f42ac4c3df47e8bac43          20170804       NaN   \n",
       "9      M   68  e2127556f4f64592b11af22de27a7932          20180426   70000.0   \n",
       "\n",
       "                           offer_id           type  duration  difficulty  \\\n",
       "0  9b98b8c7a33c4b65b9aebfe6a799e6d9           bogo       168           5   \n",
       "1  5a8bc65990b245e5a138643cd4eb9837  informational        72           0   \n",
       "2  ae264e3637204a6fb9bb56bc8210ddfd           bogo       168          10   \n",
       "3  f19421c1d4aa40978ebb69ca19b0e20d           bogo       120           5   \n",
       "4  0b1e1539f2cc45b7b9fa7c272da2e1d7       discount       240          20   \n",
       "5  3f207df678b143eea3cee63160fa8bed  informational        96           0   \n",
       "6  5a8bc65990b245e5a138643cd4eb9837  informational        72           0   \n",
       "7  0b1e1539f2cc45b7b9fa7c272da2e1d7       discount       240          20   \n",
       "8  0b1e1539f2cc45b7b9fa7c272da2e1d7       discount       240          20   \n",
       "9  2906b810c7d4411798c6938adc9daaa5       discount       168          10   \n",
       "\n",
       "   reward  completed  \n",
       "0       5       True  \n",
       "1       0      False  \n",
       "2      10       True  \n",
       "3       5      False  \n",
       "4       5      False  \n",
       "5       0      False  \n",
       "6       0      False  \n",
       "7       5      False  \n",
       "8       5      False  \n",
       "9       2      False  "
      ]
     },
     "execution_count": 147,
     "metadata": {},
     "output_type": "execute_result"
    }
   ],
   "source": [
    "dataset.head(10)"
   ]
  },
  {
   "cell_type": "code",
   "execution_count": 148,
   "metadata": {},
   "outputs": [],
   "source": [
    "dataset.to_csv('data/dataset.csv')"
   ]
  },
  {
   "cell_type": "markdown",
   "metadata": {},
   "source": [
    "### Some cleanups"
   ]
  },
  {
   "cell_type": "code",
   "execution_count": 47,
   "metadata": {},
   "outputs": [],
   "source": [
    "dataset = pd.read_csv('data/dataset.csv', index_col=0)"
   ]
  },
  {
   "cell_type": "code",
   "execution_count": 48,
   "metadata": {},
   "outputs": [
    {
     "data": {
      "text/plain": [
       "False    52600\n",
       "True     23677\n",
       "Name: completed, dtype: int64"
      ]
     },
     "execution_count": 48,
     "metadata": {},
     "output_type": "execute_result"
    }
   ],
   "source": [
    "dataset['completed'].value_counts()"
   ]
  },
  {
   "cell_type": "markdown",
   "metadata": {},
   "source": [
    "Quite imbalanced, let's try to make this a bit better."
   ]
  },
  {
   "cell_type": "code",
   "execution_count": 49,
   "metadata": {},
   "outputs": [
    {
     "data": {
      "text/plain": [
       "False    8798\n",
       "True      978\n",
       "Name: completed, dtype: int64"
      ]
     },
     "execution_count": 49,
     "metadata": {},
     "output_type": "execute_result"
    }
   ],
   "source": [
    "# Most of \"income = NaN\" returns Completed = \"False\"\n",
    "# This is possibly because the info on these people wasn't there to start with\n",
    "dataset[dataset['income'].isna()]['completed'].value_counts()"
   ]
  },
  {
   "cell_type": "code",
   "execution_count": 50,
   "metadata": {},
   "outputs": [
    {
     "data": {
      "text/plain": [
       "array([118])"
      ]
     },
     "execution_count": 50,
     "metadata": {},
     "output_type": "execute_result"
    }
   ],
   "source": [
    "dataset[dataset['income'].isna()]['age'].unique()\n",
    "# 118 seems to be the default age to when there's no income data (or person data at all) lol\n",
    "# i guess this could be too much noise, so i'll remove it"
   ]
  },
  {
   "cell_type": "code",
   "execution_count": 51,
   "metadata": {},
   "outputs": [],
   "source": [
    "dataset = dataset.dropna()"
   ]
  },
  {
   "cell_type": "code",
   "execution_count": 52,
   "metadata": {},
   "outputs": [
    {
     "data": {
      "text/html": [
       "<div>\n",
       "<style scoped>\n",
       "    .dataframe tbody tr th:only-of-type {\n",
       "        vertical-align: middle;\n",
       "    }\n",
       "\n",
       "    .dataframe tbody tr th {\n",
       "        vertical-align: top;\n",
       "    }\n",
       "\n",
       "    .dataframe thead th {\n",
       "        text-align: right;\n",
       "    }\n",
       "</style>\n",
       "<table border=\"1\" class=\"dataframe\">\n",
       "  <thead>\n",
       "    <tr style=\"text-align: right;\">\n",
       "      <th></th>\n",
       "      <th>age</th>\n",
       "      <th>became_member_on</th>\n",
       "      <th>income</th>\n",
       "      <th>duration</th>\n",
       "      <th>difficulty</th>\n",
       "      <th>reward</th>\n",
       "      <th>completed</th>\n",
       "    </tr>\n",
       "    <tr>\n",
       "      <th>gender</th>\n",
       "      <th></th>\n",
       "      <th></th>\n",
       "      <th></th>\n",
       "      <th></th>\n",
       "      <th></th>\n",
       "      <th></th>\n",
       "      <th></th>\n",
       "    </tr>\n",
       "  </thead>\n",
       "  <tbody>\n",
       "    <tr>\n",
       "      <th>F</th>\n",
       "      <td>57.469806</td>\n",
       "      <td>2.016704e+07</td>\n",
       "      <td>71238.599942</td>\n",
       "      <td>155.912587</td>\n",
       "      <td>7.706731</td>\n",
       "      <td>4.200066</td>\n",
       "      <td>0.384579</td>\n",
       "    </tr>\n",
       "    <tr>\n",
       "      <th>M</th>\n",
       "      <td>52.127987</td>\n",
       "      <td>2.016677e+07</td>\n",
       "      <td>61199.979019</td>\n",
       "      <td>156.370427</td>\n",
       "      <td>7.721813</td>\n",
       "      <td>4.201290</td>\n",
       "      <td>0.308086</td>\n",
       "    </tr>\n",
       "    <tr>\n",
       "      <th>O</th>\n",
       "      <td>54.728166</td>\n",
       "      <td>2.016830e+07</td>\n",
       "      <td>63162.663755</td>\n",
       "      <td>156.393013</td>\n",
       "      <td>7.618996</td>\n",
       "      <td>4.058952</td>\n",
       "      <td>0.429039</td>\n",
       "    </tr>\n",
       "  </tbody>\n",
       "</table>\n",
       "</div>"
      ],
      "text/plain": [
       "              age  became_member_on        income    duration  difficulty  \\\n",
       "gender                                                                      \n",
       "F       57.469806      2.016704e+07  71238.599942  155.912587    7.706731   \n",
       "M       52.127987      2.016677e+07  61199.979019  156.370427    7.721813   \n",
       "O       54.728166      2.016830e+07  63162.663755  156.393013    7.618996   \n",
       "\n",
       "          reward  completed  \n",
       "gender                       \n",
       "F       4.200066   0.384579  \n",
       "M       4.201290   0.308086  \n",
       "O       4.058952   0.429039  "
      ]
     },
     "execution_count": 52,
     "metadata": {},
     "output_type": "execute_result"
    }
   ],
   "source": [
    "dataset.groupby('gender').mean()"
   ]
  },
  {
   "cell_type": "code",
   "execution_count": 53,
   "metadata": {},
   "outputs": [
    {
     "data": {
      "text/plain": [
       "Int64Index([ 49,  55,  67,  60,  58,  53,  56,  39,  57,  73,  52,  51,  59,\n",
       "             47,  68,  40,  66,  42,  77,  43,  48,  74,  61,  41,  20,  76,\n",
       "             62,  28,  21,  70,  63,  32,  31,  54,  84,  81,  82,  89,  46,\n",
       "             35,  64,  38,  71,  75,  33,  34,  26,  69,  25,  50,  30,  80,\n",
       "             44,  36,  45,  72,  24,  65,  90,  22,  92,  37,  85,  79,  29,\n",
       "            100],\n",
       "           dtype='int64')"
      ]
     },
     "execution_count": 53,
     "metadata": {},
     "output_type": "execute_result"
    }
   ],
   "source": [
    "dataset[dataset['gender'] == 'O']['age'].value_counts().index"
   ]
  },
  {
   "cell_type": "code",
   "execution_count": 54,
   "metadata": {},
   "outputs": [
    {
     "data": {
      "text/html": [
       "<div>\n",
       "<style scoped>\n",
       "    .dataframe tbody tr th:only-of-type {\n",
       "        vertical-align: middle;\n",
       "    }\n",
       "\n",
       "    .dataframe tbody tr th {\n",
       "        vertical-align: top;\n",
       "    }\n",
       "\n",
       "    .dataframe thead th {\n",
       "        text-align: right;\n",
       "    }\n",
       "</style>\n",
       "<table border=\"1\" class=\"dataframe\">\n",
       "  <thead>\n",
       "    <tr style=\"text-align: right;\">\n",
       "      <th></th>\n",
       "      <th>age</th>\n",
       "      <th>became_member_on</th>\n",
       "      <th>income</th>\n",
       "      <th>duration</th>\n",
       "      <th>difficulty</th>\n",
       "      <th>reward</th>\n",
       "      <th>completed</th>\n",
       "    </tr>\n",
       "    <tr>\n",
       "      <th>type</th>\n",
       "      <th></th>\n",
       "      <th></th>\n",
       "      <th></th>\n",
       "      <th></th>\n",
       "      <th></th>\n",
       "      <th></th>\n",
       "      <th></th>\n",
       "    </tr>\n",
       "  </thead>\n",
       "  <tbody>\n",
       "    <tr>\n",
       "      <th>bogo</th>\n",
       "      <td>54.332555</td>\n",
       "      <td>2.016686e+07</td>\n",
       "      <td>65424.577006</td>\n",
       "      <td>144.179975</td>\n",
       "      <td>7.501413</td>\n",
       "      <td>7.501413</td>\n",
       "      <td>0.406188</td>\n",
       "    </tr>\n",
       "    <tr>\n",
       "      <th>discount</th>\n",
       "      <td>54.310719</td>\n",
       "      <td>2.016696e+07</td>\n",
       "      <td>65318.856886</td>\n",
       "      <td>204.124212</td>\n",
       "      <td>11.773740</td>\n",
       "      <td>3.006338</td>\n",
       "      <td>0.447045</td>\n",
       "    </tr>\n",
       "    <tr>\n",
       "      <th>informational</th>\n",
       "      <td>54.559850</td>\n",
       "      <td>2.016689e+07</td>\n",
       "      <td>65371.729323</td>\n",
       "      <td>84.012632</td>\n",
       "      <td>0.000000</td>\n",
       "      <td>0.000000</td>\n",
       "      <td>0.000000</td>\n",
       "    </tr>\n",
       "  </tbody>\n",
       "</table>\n",
       "</div>"
      ],
      "text/plain": [
       "                     age  became_member_on        income    duration  \\\n",
       "type                                                                   \n",
       "bogo           54.332555      2.016686e+07  65424.577006  144.179975   \n",
       "discount       54.310719      2.016696e+07  65318.856886  204.124212   \n",
       "informational  54.559850      2.016689e+07  65371.729323   84.012632   \n",
       "\n",
       "               difficulty    reward  completed  \n",
       "type                                            \n",
       "bogo             7.501413  7.501413   0.406188  \n",
       "discount        11.773740  3.006338   0.447045  \n",
       "informational    0.000000  0.000000   0.000000  "
      ]
     },
     "execution_count": 54,
     "metadata": {},
     "output_type": "execute_result"
    }
   ],
   "source": [
    "dataset.groupby('type').mean()"
   ]
  },
  {
   "cell_type": "markdown",
   "metadata": {},
   "source": [
    "I guess we could drop informational offers since they don't match the \"completed\" agenda."
   ]
  },
  {
   "cell_type": "code",
   "execution_count": 55,
   "metadata": {},
   "outputs": [],
   "source": [
    "dataset = dataset[dataset['type'] != 'informational']"
   ]
  },
  {
   "cell_type": "code",
   "execution_count": 56,
   "metadata": {},
   "outputs": [
    {
     "data": {
      "text/plain": [
       "False    30502\n",
       "True     22699\n",
       "Name: completed, dtype: int64"
      ]
     },
     "execution_count": 56,
     "metadata": {},
     "output_type": "execute_result"
    }
   ],
   "source": [
    "dataset['completed'].value_counts() # much better!!!"
   ]
  },
  {
   "cell_type": "markdown",
   "metadata": {},
   "source": [
    "### Some stats\n",
    "\n",
    "Now I'll try to check if there's some interesting patterns within the dataset."
   ]
  },
  {
   "cell_type": "code",
   "execution_count": 57,
   "metadata": {},
   "outputs": [
    {
     "data": {
      "text/plain": [
       "<matplotlib.axes._subplots.AxesSubplot at 0x7f49ab078550>"
      ]
     },
     "execution_count": 57,
     "metadata": {},
     "output_type": "execute_result"
    },
    {
     "data": {
      "image/png": "[encoded data removed]",
      "text/plain": [
       "<Figure size 432x288 with 1 Axes>"
      ]
     },
     "metadata": {
      "needs_background": "light"
     },
     "output_type": "display_data"
    }
   ],
   "source": [
    "dataset.groupby('income').mean()['completed'].plot()"
   ]
  },
  {
   "cell_type": "code",
   "execution_count": 58,
   "metadata": {},
   "outputs": [
    {
     "data": {
      "text/html": [
       "<div>\n",
       "<style scoped>\n",
       "    .dataframe tbody tr th:only-of-type {\n",
       "        vertical-align: middle;\n",
       "    }\n",
       "\n",
       "    .dataframe tbody tr th {\n",
       "        vertical-align: top;\n",
       "    }\n",
       "\n",
       "    .dataframe thead th {\n",
       "        text-align: right;\n",
       "    }\n",
       "</style>\n",
       "<table border=\"1\" class=\"dataframe\">\n",
       "  <thead>\n",
       "    <tr style=\"text-align: right;\">\n",
       "      <th></th>\n",
       "      <th></th>\n",
       "      <th>age</th>\n",
       "      <th>became_member_on</th>\n",
       "      <th>income</th>\n",
       "      <th>duration</th>\n",
       "      <th>difficulty</th>\n",
       "      <th>reward</th>\n",
       "      <th>completed</th>\n",
       "    </tr>\n",
       "    <tr>\n",
       "      <th>gender</th>\n",
       "      <th>type</th>\n",
       "      <th></th>\n",
       "      <th></th>\n",
       "      <th></th>\n",
       "      <th></th>\n",
       "      <th></th>\n",
       "      <th></th>\n",
       "      <th></th>\n",
       "    </tr>\n",
       "  </thead>\n",
       "  <tbody>\n",
       "    <tr>\n",
       "      <th rowspan=\"2\" valign=\"top\">F</th>\n",
       "      <th>bogo</th>\n",
       "      <td>57.484920</td>\n",
       "      <td>2.016705e+07</td>\n",
       "      <td>71316.173121</td>\n",
       "      <td>144.129021</td>\n",
       "      <td>7.499772</td>\n",
       "      <td>7.499772</td>\n",
       "      <td>0.480820</td>\n",
       "    </tr>\n",
       "    <tr>\n",
       "      <th>discount</th>\n",
       "      <td>57.494197</td>\n",
       "      <td>2.016696e+07</td>\n",
       "      <td>71211.276615</td>\n",
       "      <td>204.167778</td>\n",
       "      <td>11.814493</td>\n",
       "      <td>3.016266</td>\n",
       "      <td>0.482683</td>\n",
       "    </tr>\n",
       "    <tr>\n",
       "      <th rowspan=\"2\" valign=\"top\">M</th>\n",
       "      <th>bogo</th>\n",
       "      <td>52.038072</td>\n",
       "      <td>2.016670e+07</td>\n",
       "      <td>61218.371910</td>\n",
       "      <td>144.167280</td>\n",
       "      <td>7.506575</td>\n",
       "      <td>7.506575</td>\n",
       "      <td>0.349093</td>\n",
       "    </tr>\n",
       "    <tr>\n",
       "      <th>discount</th>\n",
       "      <td>52.050736</td>\n",
       "      <td>2.016694e+07</td>\n",
       "      <td>61185.033216</td>\n",
       "      <td>204.079719</td>\n",
       "      <td>11.740589</td>\n",
       "      <td>2.997981</td>\n",
       "      <td>0.419304</td>\n",
       "    </tr>\n",
       "    <tr>\n",
       "      <th rowspan=\"2\" valign=\"top\">O</th>\n",
       "      <th>bogo</th>\n",
       "      <td>55.172316</td>\n",
       "      <td>2.016783e+07</td>\n",
       "      <td>63468.926554</td>\n",
       "      <td>146.305085</td>\n",
       "      <td>7.330508</td>\n",
       "      <td>7.330508</td>\n",
       "      <td>0.545198</td>\n",
       "    </tr>\n",
       "    <tr>\n",
       "      <th>discount</th>\n",
       "      <td>53.937330</td>\n",
       "      <td>2.016815e+07</td>\n",
       "      <td>62566.757493</td>\n",
       "      <td>204.686649</td>\n",
       "      <td>11.945504</td>\n",
       "      <td>3.059946</td>\n",
       "      <td>0.544959</td>\n",
       "    </tr>\n",
       "  </tbody>\n",
       "</table>\n",
       "</div>"
      ],
      "text/plain": [
       "                       age  became_member_on        income    duration  \\\n",
       "gender type                                                              \n",
       "F      bogo      57.484920      2.016705e+07  71316.173121  144.129021   \n",
       "       discount  57.494197      2.016696e+07  71211.276615  204.167778   \n",
       "M      bogo      52.038072      2.016670e+07  61218.371910  144.167280   \n",
       "       discount  52.050736      2.016694e+07  61185.033216  204.079719   \n",
       "O      bogo      55.172316      2.016783e+07  63468.926554  146.305085   \n",
       "       discount  53.937330      2.016815e+07  62566.757493  204.686649   \n",
       "\n",
       "                 difficulty    reward  completed  \n",
       "gender type                                       \n",
       "F      bogo        7.499772  7.499772   0.480820  \n",
       "       discount   11.814493  3.016266   0.482683  \n",
       "M      bogo        7.506575  7.506575   0.349093  \n",
       "       discount   11.740589  2.997981   0.419304  \n",
       "O      bogo        7.330508  7.330508   0.545198  \n",
       "       discount   11.945504  3.059946   0.544959  "
      ]
     },
     "execution_count": 58,
     "metadata": {},
     "output_type": "execute_result"
    }
   ],
   "source": [
    "dataset.groupby(['gender', 'type']).mean()"
   ]
  },
  {
   "cell_type": "code",
   "execution_count": 59,
   "metadata": {},
   "outputs": [
    {
     "data": {
      "text/plain": [
       "M    30562\n",
       "F    21918\n",
       "O      721\n",
       "Name: gender, dtype: int64"
      ]
     },
     "execution_count": 59,
     "metadata": {},
     "output_type": "execute_result"
    }
   ],
   "source": [
    "dataset['gender'].value_counts()"
   ]
  },
  {
   "cell_type": "markdown",
   "metadata": {},
   "source": [
    "#### Some takeaways\n",
    "\n",
    "- The discount types seem to be launched somewhat equally by age within genders (mean is virtually the same).\n",
    "- Offers seem to be the same to all genders (same difficulty, reward and duration). All offers seem to be launched to all customers.\n",
    "- Males seem to respond a bit better to discounts, while females respond equally to bogo and discounts.\n",
    "- The higher completion rate when gender == 'O' could be due to sample disparity (much less samples of 'O' than of females and males). I think it would be nice to keep these anyway."
   ]
  },
  {
   "cell_type": "markdown",
   "metadata": {},
   "source": [
    "### Binning by age"
   ]
  },
  {
   "cell_type": "code",
   "execution_count": 60,
   "metadata": {},
   "outputs": [],
   "source": [
    "def get_gender_age_binned(dataset, gender, bins):\n",
    "    \"\"\"\n",
    "        Bins ages for a given gender.\n",
    "    \"\"\"\n",
    "    binned = dataset.copy()\n",
    "    binned = binned[binned['gender'] == gender]\n",
    "    binned['binned'] = pd.cut(binned['age'], bins=bins, include_lowest=True).apply(str)\n",
    "    binned = binned.groupby(['binned']).mean().dropna() # in case any bin was not used\n",
    "    binned.reset_index(inplace=True)\n",
    "    return binned"
   ]
  },
  {
   "cell_type": "code",
   "execution_count": 61,
   "metadata": {},
   "outputs": [],
   "source": [
    "import plotly.graph_objects as go\n",
    "\n",
    "def plot_binned_offer_type(dataset, offer_type):\n",
    "    \n",
    "    dataset = dataset[dataset['type'] == offer_type]\n",
    "    \n",
    "    fig = go.Figure()\n",
    "\n",
    "    bins = range(0, 120, 10)\n",
    "    for gender, color in zip(['F', 'M', 'O'], ['indianred', 'lightsalmon', 'lightblue']):\n",
    "\n",
    "        binned = get_gender_age_binned(dataset, gender, bins)\n",
    "        \n",
    "        fig.add_trace(go.Bar(\n",
    "            x=binned['binned'],\n",
    "            y=binned['completed'],\n",
    "            name=gender,\n",
    "            marker_color=color\n",
    "        ))\n",
    "\n",
    "    # Here we modify the tickangle of the xaxis, resulting in rotated labels.\n",
    "    fig.update_layout(barmode='group', xaxis_tickangle=-45)\n",
    "    fig.show()"
   ]
  },
  {
   "cell_type": "code",
   "execution_count": 62,
   "metadata": {},
   "outputs": [
    {
     "data": {
      "application/vnd.plotly.v1+json": {
       "config": {
        "plotlyServerURL": "https://plot.ly"
       },
       "data": [
        {
         "marker": {
          "color": "indianred"
         },
         "name": "F",
         "type": "bar",
         "x": [
          "(10.0, 20.0]",
          "(20.0, 30.0]",
          "(30.0, 40.0]",
          "(40.0, 50.0]",
          "(50.0, 60.0]",
          "(60.0, 70.0]",
          "(70.0, 80.0]",
          "(80.0, 90.0]",
          "(90.0, 100.0]",
          "(100.0, 110.0]"
         ],
         "y": [
          0.37662337662337664,
          0.39280958721704395,
          0.4803063457330416,
          0.5094577553593947,
          0.48616039744499645,
          0.49657240788346185,
          0.4603960396039604,
          0.5033025099075297,
          0.46530612244897956,
          1
         ]
        },
        {
         "marker": {
          "color": "lightsalmon"
         },
         "name": "M",
         "type": "bar",
         "x": [
          "(10.0, 20.0]",
          "(20.0, 30.0]",
          "(30.0, 40.0]",
          "(40.0, 50.0]",
          "(50.0, 60.0]",
          "(60.0, 70.0]",
          "(70.0, 80.0]",
          "(80.0, 90.0]",
          "(90.0, 100.0]"
         ],
         "y": [
          0.20964360587002095,
          0.24235152969406118,
          0.3054371002132196,
          0.3681442524417731,
          0.3857998289136014,
          0.3621545003543586,
          0.3989254533243788,
          0.39454545454545453,
          0.4177215189873418
         ]
        },
        {
         "marker": {
          "color": "lightblue"
         },
         "name": "O",
         "type": "bar",
         "x": [
          "(10.0, 20.0]",
          "(20.0, 30.0]",
          "(30.0, 40.0]",
          "(40.0, 50.0]",
          "(50.0, 60.0]",
          "(60.0, 70.0]",
          "(70.0, 80.0]",
          "(80.0, 90.0]",
          "(90.0, 100.0]"
         ],
         "y": [
          0.5,
          0.2727272727272727,
          0.5581395348837209,
          0.6721311475409836,
          0.5578947368421052,
          0.5,
          0.5853658536585366,
          0.3684210526315789,
          0.8
         ]
        }
       ],
       "layout": {
        "barmode": "group",
        "template": {
         "data": {
          "bar": [
           {
            "error_x": {
             "color": "#2a3f5f"
            },
            "error_y": {
             "color": "#2a3f5f"
            },
            "marker": {
             "line": {
              "color": "#E5ECF6",
              "width": 0.5
             }
            },
            "type": "bar"
           }
          ],
          "barpolar": [
           {
            "marker": {
             "line": {
              "color": "#E5ECF6",
              "width": 0.5
             }
            },
            "type": "barpolar"
           }
          ],
          "carpet": [
           {
            "aaxis": {
             "endlinecolor": "#2a3f5f",
             "gridcolor": "white",
             "linecolor": "white",
             "minorgridcolor": "white",
             "startlinecolor": "#2a3f5f"
            },
            "baxis": {
             "endlinecolor": "#2a3f5f",
             "gridcolor": "white",
             "linecolor": "white",
             "minorgridcolor": "white",
             "startlinecolor": "#2a3f5f"
            },
            "type": "carpet"
           }
          ],
          "choropleth": [
           {
            "colorbar": {
             "outlinewidth": 0,
             "ticks": ""
            },
            "type": "choropleth"
           }
          ],
          "contour": [
           {
            "colorbar": {
             "outlinewidth": 0,
             "ticks": ""
            },
            "colorscale": [
             [
              0,
              "#0d0887"
             ],
             [
              0.1111111111111111,
              "#46039f"
             ],
             [
              0.2222222222222222,
              "#7201a8"
             ],
             [
              0.3333333333333333,
              "#9c179e"
             ],
             [
              0.4444444444444444,
              "#bd3786"
             ],
             [
              0.5555555555555556,
              "#d8576b"
             ],
             [
              0.6666666666666666,
              "#ed7953"
             ],
             [
              0.7777777777777778,
              "#fb9f3a"
             ],
             [
              0.8888888888888888,
              "#fdca26"
             ],
             [
              1,
              "#f0f921"
             ]
            ],
            "type": "contour"
           }
          ],
          "contourcarpet": [
           {
            "colorbar": {
             "outlinewidth": 0,
             "ticks": ""
            },
            "type": "contourcarpet"
           }
          ],
          "heatmap": [
           {
            "colorbar": {
             "outlinewidth": 0,
             "ticks": ""
            },
            "colorscale": [
             [
              0,
              "#0d0887"
             ],
             [
              0.1111111111111111,
              "#46039f"
             ],
             [
              0.2222222222222222,
              "#7201a8"
             ],
             [
              0.3333333333333333,
              "#9c179e"
             ],
             [
              0.4444444444444444,
              "#bd3786"
             ],
             [
              0.5555555555555556,
              "#d8576b"
             ],
             [
              0.6666666666666666,
              "#ed7953"
             ],
             [
              0.7777777777777778,
              "#fb9f3a"
             ],
             [
              0.8888888888888888,
              "#fdca26"
             ],
             [
              1,
              "#f0f921"
             ]
            ],
            "type": "heatmap"
           }
          ],
          "heatmapgl": [
           {
            "colorbar": {
             "outlinewidth": 0,
             "ticks": ""
            },
            "colorscale": [
             [
              0,
              "#0d0887"
             ],
             [
              0.1111111111111111,
              "#46039f"
             ],
             [
              0.2222222222222222,
              "#7201a8"
             ],
             [
              0.3333333333333333,
              "#9c179e"
             ],
             [
              0.4444444444444444,
              "#bd3786"
             ],
             [
              0.5555555555555556,
              "#d8576b"
             ],
             [
              0.6666666666666666,
              "#ed7953"
             ],
             [
              0.7777777777777778,
              "#fb9f3a"
             ],
             [
              0.8888888888888888,
              "#fdca26"
             ],
             [
              1,
              "#f0f921"
             ]
            ],
            "type": "heatmapgl"
           }
          ],
          "histogram": [
           {
            "marker": {
             "colorbar": {
              "outlinewidth": 0,
              "ticks": ""
             }
            },
            "type": "histogram"
           }
          ],
          "histogram2d": [
           {
            "colorbar": {
             "outlinewidth": 0,
             "ticks": ""
            },
            "colorscale": [
             [
              0,
              "#0d0887"
             ],
             [
              0.1111111111111111,
              "#46039f"
             ],
             [
              0.2222222222222222,
              "#7201a8"
             ],
             [
              0.3333333333333333,
              "#9c179e"
             ],
             [
              0.4444444444444444,
              "#bd3786"
             ],
             [
              0.5555555555555556,
              "#d8576b"
             ],
             [
              0.6666666666666666,
              "#ed7953"
             ],
             [
              0.7777777777777778,
              "#fb9f3a"
             ],
             [
              0.8888888888888888,
              "#fdca26"
             ],
             [
              1,
              "#f0f921"
             ]
            ],
            "type": "histogram2d"
           }
          ],
          "histogram2dcontour": [
           {
            "colorbar": {
             "outlinewidth": 0,
             "ticks": ""
            },
            "colorscale": [
             [
              0,
              "#0d0887"
             ],
             [
              0.1111111111111111,
              "#46039f"
             ],
             [
              0.2222222222222222,
              "#7201a8"
             ],
             [
              0.3333333333333333,
              "#9c179e"
             ],
             [
              0.4444444444444444,
              "#bd3786"
             ],
             [
              0.5555555555555556,
              "#d8576b"
             ],
             [
              0.6666666666666666,
              "#ed7953"
             ],
             [
              0.7777777777777778,
              "#fb9f3a"
             ],
             [
              0.8888888888888888,
              "#fdca26"
             ],
             [
              1,
              "#f0f921"
             ]
            ],
            "type": "histogram2dcontour"
           }
          ],
          "mesh3d": [
           {
            "colorbar": {
             "outlinewidth": 0,
             "ticks": ""
            },
            "type": "mesh3d"
           }
          ],
          "parcoords": [
           {
            "line": {
             "colorbar": {
              "outlinewidth": 0,
              "ticks": ""
             }
            },
            "type": "parcoords"
           }
          ],
          "pie": [
           {
            "automargin": true,
            "type": "pie"
           }
          ],
          "scatter": [
           {
            "marker": {
             "colorbar": {
              "outlinewidth": 0,
              "ticks": ""
             }
            },
            "type": "scatter"
           }
          ],
          "scatter3d": [
           {
            "line": {
             "colorbar": {
              "outlinewidth": 0,
              "ticks": ""
             }
            },
            "marker": {
             "colorbar": {
              "outlinewidth": 0,
              "ticks": ""
             }
            },
            "type": "scatter3d"
           }
          ],
          "scattercarpet": [
           {
            "marker": {
             "colorbar": {
              "outlinewidth": 0,
              "ticks": ""
             }
            },
            "type": "scattercarpet"
           }
          ],
          "scattergeo": [
           {
            "marker": {
             "colorbar": {
              "outlinewidth": 0,
              "ticks": ""
             }
            },
            "type": "scattergeo"
           }
          ],
          "scattergl": [
           {
            "marker": {
             "colorbar": {
              "outlinewidth": 0,
              "ticks": ""
             }
            },
            "type": "scattergl"
           }
          ],
          "scattermapbox": [
           {
            "marker": {
             "colorbar": {
              "outlinewidth": 0,
              "ticks": ""
             }
            },
            "type": "scattermapbox"
           }
          ],
          "scatterpolar": [
           {
            "marker": {
             "colorbar": {
              "outlinewidth": 0,
              "ticks": ""
             }
            },
            "type": "scatterpolar"
           }
          ],
          "scatterpolargl": [
           {
            "marker": {
             "colorbar": {
              "outlinewidth": 0,
              "ticks": ""
             }
            },
            "type": "scatterpolargl"
           }
          ],
          "scatterternary": [
           {
            "marker": {
             "colorbar": {
              "outlinewidth": 0,
              "ticks": ""
             }
            },
            "type": "scatterternary"
           }
          ],
          "surface": [
           {
            "colorbar": {
             "outlinewidth": 0,
             "ticks": ""
            },
            "colorscale": [
             [
              0,
              "#0d0887"
             ],
             [
              0.1111111111111111,
              "#46039f"
             ],
             [
              0.2222222222222222,
              "#7201a8"
             ],
             [
              0.3333333333333333,
              "#9c179e"
             ],
             [
              0.4444444444444444,
              "#bd3786"
             ],
             [
              0.5555555555555556,
              "#d8576b"
             ],
             [
              0.6666666666666666,
              "#ed7953"
             ],
             [
              0.7777777777777778,
              "#fb9f3a"
             ],
             [
              0.8888888888888888,
              "#fdca26"
             ],
             [
              1,
              "#f0f921"
             ]
            ],
            "type": "surface"
           }
          ],
          "table": [
           {
            "cells": {
             "fill": {
              "color": "#EBF0F8"
             },
             "line": {
              "color": "white"
             }
            },
            "header": {
             "fill": {
              "color": "#C8D4E3"
             },
             "line": {
              "color": "white"
             }
            },
            "type": "table"
           }
          ]
         },
         "layout": {
          "annotationdefaults": {
           "arrowcolor": "#2a3f5f",
           "arrowhead": 0,
           "arrowwidth": 1
          },
          "coloraxis": {
           "colorbar": {
            "outlinewidth": 0,
            "ticks": ""
           }
          },
          "colorscale": {
           "diverging": [
            [
             0,
             "#8e0152"
            ],
            [
             0.1,
             "#c51b7d"
            ],
            [
             0.2,
             "#de77ae"
            ],
            [
             0.3,
             "#f1b6da"
            ],
            [
             0.4,
             "#fde0ef"
            ],
            [
             0.5,
             "#f7f7f7"
            ],
            [
             0.6,
             "#e6f5d0"
            ],
            [
             0.7,
             "#b8e186"
            ],
            [
             0.8,
             "#7fbc41"
            ],
            [
             0.9,
             "#4d9221"
            ],
            [
             1,
             "#276419"
            ]
           ],
           "sequential": [
            [
             0,
             "#0d0887"
            ],
            [
             0.1111111111111111,
             "#46039f"
            ],
            [
             0.2222222222222222,
             "#7201a8"
            ],
            [
             0.3333333333333333,
             "#9c179e"
            ],
            [
             0.4444444444444444,
             "#bd3786"
            ],
            [
             0.5555555555555556,
             "#d8576b"
            ],
            [
             0.6666666666666666,
             "#ed7953"
            ],
            [
             0.7777777777777778,
             "#fb9f3a"
            ],
            [
             0.8888888888888888,
             "#fdca26"
            ],
            [
             1,
             "#f0f921"
            ]
           ],
           "sequentialminus": [
            [
             0,
             "#0d0887"
            ],
            [
             0.1111111111111111,
             "#46039f"
            ],
            [
             0.2222222222222222,
             "#7201a8"
            ],
            [
             0.3333333333333333,
             "#9c179e"
            ],
            [
             0.4444444444444444,
             "#bd3786"
            ],
            [
             0.5555555555555556,
             "#d8576b"
            ],
            [
             0.6666666666666666,
             "#ed7953"
            ],
            [
             0.7777777777777778,
             "#fb9f3a"
            ],
            [
             0.8888888888888888,
             "#fdca26"
            ],
            [
             1,
             "#f0f921"
            ]
           ]
          },
          "colorway": [
           "#636efa",
           "#EF553B",
           "#00cc96",
           "#ab63fa",
           "#FFA15A",
           "#19d3f3",
           "#FF6692",
           "#B6E880",
           "#FF97FF",
           "#FECB52"
          ],
          "font": {
           "color": "#2a3f5f"
          },
          "geo": {
           "bgcolor": "white",
           "lakecolor": "white",
           "landcolor": "#E5ECF6",
           "showlakes": true,
           "showland": true,
           "subunitcolor": "white"
          },
          "hoverlabel": {
           "align": "left"
          },
          "hovermode": "closest",
          "mapbox": {
           "style": "light"
          },
          "paper_bgcolor": "white",
          "plot_bgcolor": "#E5ECF6",
          "polar": {
           "angularaxis": {
            "gridcolor": "white",
            "linecolor": "white",
            "ticks": ""
           },
           "bgcolor": "#E5ECF6",
           "radialaxis": {
            "gridcolor": "white",
            "linecolor": "white",
            "ticks": ""
           }
          },
          "scene": {
           "xaxis": {
            "backgroundcolor": "#E5ECF6",
            "gridcolor": "white",
            "gridwidth": 2,
            "linecolor": "white",
            "showbackground": true,
            "ticks": "",
            "zerolinecolor": "white"
           },
           "yaxis": {
            "backgroundcolor": "#E5ECF6",
            "gridcolor": "white",
            "gridwidth": 2,
            "linecolor": "white",
            "showbackground": true,
            "ticks": "",
            "zerolinecolor": "white"
           },
           "zaxis": {
            "backgroundcolor": "#E5ECF6",
            "gridcolor": "white",
            "gridwidth": 2,
            "linecolor": "white",
            "showbackground": true,
            "ticks": "",
            "zerolinecolor": "white"
           }
          },
          "shapedefaults": {
           "line": {
            "color": "#2a3f5f"
           }
          },
          "ternary": {
           "aaxis": {
            "gridcolor": "white",
            "linecolor": "white",
            "ticks": ""
           },
           "baxis": {
            "gridcolor": "white",
            "linecolor": "white",
            "ticks": ""
           },
           "bgcolor": "#E5ECF6",
           "caxis": {
            "gridcolor": "white",
            "linecolor": "white",
            "ticks": ""
           }
          },
          "title": {
           "x": 0.05
          },
          "xaxis": {
           "automargin": true,
           "gridcolor": "white",
           "linecolor": "white",
           "ticks": "",
           "title": {
            "standoff": 15
           },
           "zerolinecolor": "white",
           "zerolinewidth": 2
          },
          "yaxis": {
           "automargin": true,
           "gridcolor": "white",
           "linecolor": "white",
           "ticks": "",
           "title": {
            "standoff": 15
           },
           "zerolinecolor": "white",
           "zerolinewidth": 2
          }
         }
        },
        "xaxis": {
         "tickangle": -45
        }
       }
      },
      "text/html": [
       "<div>\n",
       "        \n",
       "        \n",
       "            <div id=\"4fc43a7a-69cd-4e6d-950a-8bc375c988aa\" class=\"plotly-graph-div\" style=\"height:525px; width:100%;\"></div>\n",
       "            <script type=\"text/javascript\">\n",
       "                require([\"plotly\"], function(Plotly) {\n",
       "                    window.PLOTLYENV=window.PLOTLYENV || {};\n",
       "                    \n",
       "                if (document.getElementById(\"4fc43a7a-69cd-4e6d-950a-8bc375c988aa\")) {\n",
       "                    Plotly.newPlot(\n",
       "                        '4fc43a7a-69cd-4e6d-950a-8bc375c988aa',\n",
       "                        [{\"marker\": {\"color\": \"indianred\"}, \"name\": \"F\", \"type\": \"bar\", \"x\": [\"(10.0, 20.0]\", \"(20.0, 30.0]\", \"(30.0, 40.0]\", \"(40.0, 50.0]\", \"(50.0, 60.0]\", \"(60.0, 70.0]\", \"(70.0, 80.0]\", \"(80.0, 90.0]\", \"(90.0, 100.0]\", \"(100.0, 110.0]\"], \"y\": [0.37662337662337664, 0.39280958721704395, 0.4803063457330416, 0.5094577553593947, 0.48616039744499645, 0.49657240788346185, 0.4603960396039604, 0.5033025099075297, 0.46530612244897956, 1.0]}, {\"marker\": {\"color\": \"lightsalmon\"}, \"name\": \"M\", \"type\": \"bar\", \"x\": [\"(10.0, 20.0]\", \"(20.0, 30.0]\", \"(30.0, 40.0]\", \"(40.0, 50.0]\", \"(50.0, 60.0]\", \"(60.0, 70.0]\", \"(70.0, 80.0]\", \"(80.0, 90.0]\", \"(90.0, 100.0]\"], \"y\": [0.20964360587002095, 0.24235152969406118, 0.3054371002132196, 0.3681442524417731, 0.3857998289136014, 0.3621545003543586, 0.3989254533243788, 0.39454545454545453, 0.4177215189873418]}, {\"marker\": {\"color\": \"lightblue\"}, \"name\": \"O\", \"type\": \"bar\", \"x\": [\"(10.0, 20.0]\", \"(20.0, 30.0]\", \"(30.0, 40.0]\", \"(40.0, 50.0]\", \"(50.0, 60.0]\", \"(60.0, 70.0]\", \"(70.0, 80.0]\", \"(80.0, 90.0]\", \"(90.0, 100.0]\"], \"y\": [0.5, 0.2727272727272727, 0.5581395348837209, 0.6721311475409836, 0.5578947368421052, 0.5, 0.5853658536585366, 0.3684210526315789, 0.8]}],\n",
       "                        {\"barmode\": \"group\", \"template\": {\"data\": {\"bar\": [{\"error_x\": {\"color\": \"#2a3f5f\"}, \"error_y\": {\"color\": \"#2a3f5f\"}, \"marker\": {\"line\": {\"color\": \"#E5ECF6\", \"width\": 0.5}}, \"type\": \"bar\"}], \"barpolar\": [{\"marker\": {\"line\": {\"color\": \"#E5ECF6\", \"width\": 0.5}}, \"type\": \"barpolar\"}], \"carpet\": [{\"aaxis\": {\"endlinecolor\": \"#2a3f5f\", \"gridcolor\": \"white\", \"linecolor\": \"white\", \"minorgridcolor\": \"white\", \"startlinecolor\": \"#2a3f5f\"}, \"baxis\": {\"endlinecolor\": \"#2a3f5f\", \"gridcolor\": \"white\", \"linecolor\": \"white\", \"minorgridcolor\": \"white\", \"startlinecolor\": \"#2a3f5f\"}, \"type\": \"carpet\"}], \"choropleth\": [{\"colorbar\": {\"outlinewidth\": 0, \"ticks\": \"\"}, \"type\": \"choropleth\"}], \"contour\": [{\"colorbar\": {\"outlinewidth\": 0, \"ticks\": \"\"}, \"colorscale\": [[0.0, \"#0d0887\"], [0.1111111111111111, \"#46039f\"], [0.2222222222222222, \"#7201a8\"], [0.3333333333333333, \"#9c179e\"], [0.4444444444444444, \"#bd3786\"], [0.5555555555555556, \"#d8576b\"], [0.6666666666666666, \"#ed7953\"], [0.7777777777777778, \"#fb9f3a\"], [0.8888888888888888, \"#fdca26\"], [1.0, \"#f0f921\"]], \"type\": \"contour\"}], \"contourcarpet\": [{\"colorbar\": {\"outlinewidth\": 0, \"ticks\": \"\"}, \"type\": \"contourcarpet\"}], \"heatmap\": [{\"colorbar\": {\"outlinewidth\": 0, \"ticks\": \"\"}, \"colorscale\": [[0.0, \"#0d0887\"], [0.1111111111111111, \"#46039f\"], [0.2222222222222222, \"#7201a8\"], [0.3333333333333333, \"#9c179e\"], [0.4444444444444444, \"#bd3786\"], [0.5555555555555556, \"#d8576b\"], [0.6666666666666666, \"#ed7953\"], [0.7777777777777778, \"#fb9f3a\"], [0.8888888888888888, \"#fdca26\"], [1.0, \"#f0f921\"]], \"type\": \"heatmap\"}], \"heatmapgl\": [{\"colorbar\": {\"outlinewidth\": 0, \"ticks\": \"\"}, \"colorscale\": [[0.0, \"#0d0887\"], [0.1111111111111111, \"#46039f\"], [0.2222222222222222, \"#7201a8\"], [0.3333333333333333, \"#9c179e\"], [0.4444444444444444, \"#bd3786\"], [0.5555555555555556, \"#d8576b\"], [0.6666666666666666, \"#ed7953\"], [0.7777777777777778, \"#fb9f3a\"], [0.8888888888888888, \"#fdca26\"], [1.0, \"#f0f921\"]], \"type\": \"heatmapgl\"}], \"histogram\": [{\"marker\": {\"colorbar\": {\"outlinewidth\": 0, \"ticks\": \"\"}}, \"type\": \"histogram\"}], \"histogram2d\": [{\"colorbar\": {\"outlinewidth\": 0, \"ticks\": \"\"}, \"colorscale\": [[0.0, \"#0d0887\"], [0.1111111111111111, \"#46039f\"], [0.2222222222222222, \"#7201a8\"], [0.3333333333333333, \"#9c179e\"], [0.4444444444444444, \"#bd3786\"], [0.5555555555555556, \"#d8576b\"], [0.6666666666666666, \"#ed7953\"], [0.7777777777777778, \"#fb9f3a\"], [0.8888888888888888, \"#fdca26\"], [1.0, \"#f0f921\"]], \"type\": \"histogram2d\"}], \"histogram2dcontour\": [{\"colorbar\": {\"outlinewidth\": 0, \"ticks\": \"\"}, \"colorscale\": [[0.0, \"#0d0887\"], [0.1111111111111111, \"#46039f\"], [0.2222222222222222, \"#7201a8\"], [0.3333333333333333, \"#9c179e\"], [0.4444444444444444, \"#bd3786\"], [0.5555555555555556, \"#d8576b\"], [0.6666666666666666, \"#ed7953\"], [0.7777777777777778, \"#fb9f3a\"], [0.8888888888888888, \"#fdca26\"], [1.0, \"#f0f921\"]], \"type\": \"histogram2dcontour\"}], \"mesh3d\": [{\"colorbar\": {\"outlinewidth\": 0, \"ticks\": \"\"}, \"type\": \"mesh3d\"}], \"parcoords\": [{\"line\": {\"colorbar\": {\"outlinewidth\": 0, \"ticks\": \"\"}}, \"type\": \"parcoords\"}], \"pie\": [{\"automargin\": true, \"type\": \"pie\"}], \"scatter\": [{\"marker\": {\"colorbar\": {\"outlinewidth\": 0, \"ticks\": \"\"}}, \"type\": \"scatter\"}], \"scatter3d\": [{\"line\": {\"colorbar\": {\"outlinewidth\": 0, \"ticks\": \"\"}}, \"marker\": {\"colorbar\": {\"outlinewidth\": 0, \"ticks\": \"\"}}, \"type\": \"scatter3d\"}], \"scattercarpet\": [{\"marker\": {\"colorbar\": {\"outlinewidth\": 0, \"ticks\": \"\"}}, \"type\": \"scattercarpet\"}], \"scattergeo\": [{\"marker\": {\"colorbar\": {\"outlinewidth\": 0, \"ticks\": \"\"}}, \"type\": \"scattergeo\"}], \"scattergl\": [{\"marker\": {\"colorbar\": {\"outlinewidth\": 0, \"ticks\": \"\"}}, \"type\": \"scattergl\"}], \"scattermapbox\": [{\"marker\": {\"colorbar\": {\"outlinewidth\": 0, \"ticks\": \"\"}}, \"type\": \"scattermapbox\"}], \"scatterpolar\": [{\"marker\": {\"colorbar\": {\"outlinewidth\": 0, \"ticks\": \"\"}}, \"type\": \"scatterpolar\"}], \"scatterpolargl\": [{\"marker\": {\"colorbar\": {\"outlinewidth\": 0, \"ticks\": \"\"}}, \"type\": \"scatterpolargl\"}], \"scatterternary\": [{\"marker\": {\"colorbar\": {\"outlinewidth\": 0, \"ticks\": \"\"}}, \"type\": \"scatterternary\"}], \"surface\": [{\"colorbar\": {\"outlinewidth\": 0, \"ticks\": \"\"}, \"colorscale\": [[0.0, \"#0d0887\"], [0.1111111111111111, \"#46039f\"], [0.2222222222222222, \"#7201a8\"], [0.3333333333333333, \"#9c179e\"], [0.4444444444444444, \"#bd3786\"], [0.5555555555555556, \"#d8576b\"], [0.6666666666666666, \"#ed7953\"], [0.7777777777777778, \"#fb9f3a\"], [0.8888888888888888, \"#fdca26\"], [1.0, \"#f0f921\"]], \"type\": \"surface\"}], \"table\": [{\"cells\": {\"fill\": {\"color\": \"#EBF0F8\"}, \"line\": {\"color\": \"white\"}}, \"header\": {\"fill\": {\"color\": \"#C8D4E3\"}, \"line\": {\"color\": \"white\"}}, \"type\": \"table\"}]}, \"layout\": {\"annotationdefaults\": {\"arrowcolor\": \"#2a3f5f\", \"arrowhead\": 0, \"arrowwidth\": 1}, \"coloraxis\": {\"colorbar\": {\"outlinewidth\": 0, \"ticks\": \"\"}}, \"colorscale\": {\"diverging\": [[0, \"#8e0152\"], [0.1, \"#c51b7d\"], [0.2, \"#de77ae\"], [0.3, \"#f1b6da\"], [0.4, \"#fde0ef\"], [0.5, \"#f7f7f7\"], [0.6, \"#e6f5d0\"], [0.7, \"#b8e186\"], [0.8, \"#7fbc41\"], [0.9, \"#4d9221\"], [1, \"#276419\"]], \"sequential\": [[0.0, \"#0d0887\"], [0.1111111111111111, \"#46039f\"], [0.2222222222222222, \"#7201a8\"], [0.3333333333333333, \"#9c179e\"], [0.4444444444444444, \"#bd3786\"], [0.5555555555555556, \"#d8576b\"], [0.6666666666666666, \"#ed7953\"], [0.7777777777777778, \"#fb9f3a\"], [0.8888888888888888, \"#fdca26\"], [1.0, \"#f0f921\"]], \"sequentialminus\": [[0.0, \"#0d0887\"], [0.1111111111111111, \"#46039f\"], [0.2222222222222222, \"#7201a8\"], [0.3333333333333333, \"#9c179e\"], [0.4444444444444444, \"#bd3786\"], [0.5555555555555556, \"#d8576b\"], [0.6666666666666666, \"#ed7953\"], [0.7777777777777778, \"#fb9f3a\"], [0.8888888888888888, \"#fdca26\"], [1.0, \"#f0f921\"]]}, \"colorway\": [\"#636efa\", \"#EF553B\", \"#00cc96\", \"#ab63fa\", \"#FFA15A\", \"#19d3f3\", \"#FF6692\", \"#B6E880\", \"#FF97FF\", \"#FECB52\"], \"font\": {\"color\": \"#2a3f5f\"}, \"geo\": {\"bgcolor\": \"white\", \"lakecolor\": \"white\", \"landcolor\": \"#E5ECF6\", \"showlakes\": true, \"showland\": true, \"subunitcolor\": \"white\"}, \"hoverlabel\": {\"align\": \"left\"}, \"hovermode\": \"closest\", \"mapbox\": {\"style\": \"light\"}, \"paper_bgcolor\": \"white\", \"plot_bgcolor\": \"#E5ECF6\", \"polar\": {\"angularaxis\": {\"gridcolor\": \"white\", \"linecolor\": \"white\", \"ticks\": \"\"}, \"bgcolor\": \"#E5ECF6\", \"radialaxis\": {\"gridcolor\": \"white\", \"linecolor\": \"white\", \"ticks\": \"\"}}, \"scene\": {\"xaxis\": {\"backgroundcolor\": \"#E5ECF6\", \"gridcolor\": \"white\", \"gridwidth\": 2, \"linecolor\": \"white\", \"showbackground\": true, \"ticks\": \"\", \"zerolinecolor\": \"white\"}, \"yaxis\": {\"backgroundcolor\": \"#E5ECF6\", \"gridcolor\": \"white\", \"gridwidth\": 2, \"linecolor\": \"white\", \"showbackground\": true, \"ticks\": \"\", \"zerolinecolor\": \"white\"}, \"zaxis\": {\"backgroundcolor\": \"#E5ECF6\", \"gridcolor\": \"white\", \"gridwidth\": 2, \"linecolor\": \"white\", \"showbackground\": true, \"ticks\": \"\", \"zerolinecolor\": \"white\"}}, \"shapedefaults\": {\"line\": {\"color\": \"#2a3f5f\"}}, \"ternary\": {\"aaxis\": {\"gridcolor\": \"white\", \"linecolor\": \"white\", \"ticks\": \"\"}, \"baxis\": {\"gridcolor\": \"white\", \"linecolor\": \"white\", \"ticks\": \"\"}, \"bgcolor\": \"#E5ECF6\", \"caxis\": {\"gridcolor\": \"white\", \"linecolor\": \"white\", \"ticks\": \"\"}}, \"title\": {\"x\": 0.05}, \"xaxis\": {\"automargin\": true, \"gridcolor\": \"white\", \"linecolor\": \"white\", \"ticks\": \"\", \"title\": {\"standoff\": 15}, \"zerolinecolor\": \"white\", \"zerolinewidth\": 2}, \"yaxis\": {\"automargin\": true, \"gridcolor\": \"white\", \"linecolor\": \"white\", \"ticks\": \"\", \"title\": {\"standoff\": 15}, \"zerolinecolor\": \"white\", \"zerolinewidth\": 2}}}, \"xaxis\": {\"tickangle\": -45}},\n",
       "                        {\"responsive\": true}\n",
       "                    ).then(function(){\n",
       "                            \n",
       "var gd = document.getElementById('4fc43a7a-69cd-4e6d-950a-8bc375c988aa');\n",
       "var x = new MutationObserver(function (mutations, observer) {{\n",
       "        var display = window.getComputedStyle(gd).display;\n",
       "        if (!display || display === 'none') {{\n",
       "            console.log([gd, 'removed!']);\n",
       "            Plotly.purge(gd);\n",
       "            observer.disconnect();\n",
       "        }}\n",
       "}});\n",
       "\n",
       "// Listen for the removal of the full notebook cells\n",
       "var notebookContainer = gd.closest('#notebook-container');\n",
       "if (notebookContainer) {{\n",
       "    x.observe(notebookContainer, {childList: true});\n",
       "}}\n",
       "\n",
       "// Listen for the clearing of the current output cell\n",
       "var outputEl = gd.closest('.output');\n",
       "if (outputEl) {{\n",
       "    x.observe(outputEl, {childList: true});\n",
       "}}\n",
       "\n",
       "                        })\n",
       "                };\n",
       "                });\n",
       "            </script>\n",
       "        </div>"
      ]
     },
     "metadata": {},
     "output_type": "display_data"
    }
   ],
   "source": [
    "plot_binned_offer_type(dataset, 'bogo')"
   ]
  },
  {
   "cell_type": "code",
   "execution_count": 63,
   "metadata": {},
   "outputs": [
    {
     "data": {
      "application/vnd.plotly.v1+json": {
       "config": {
        "plotlyServerURL": "https://plot.ly"
       },
       "data": [
        {
         "marker": {
          "color": "indianred"
         },
         "name": "F",
         "type": "bar",
         "x": [
          "(10.0, 20.0]",
          "(20.0, 30.0]",
          "(30.0, 40.0]",
          "(40.0, 50.0]",
          "(50.0, 60.0]",
          "(60.0, 70.0]",
          "(70.0, 80.0]",
          "(80.0, 90.0]",
          "(90.0, 100.0]",
          "(100.0, 110.0]"
         ],
         "y": [
          0.3252032520325203,
          0.4101123595505618,
          0.4790794979079498,
          0.5166771554436753,
          0.48246844319775595,
          0.5012626262626263,
          0.46131386861313867,
          0.4814305364511692,
          0.5178571428571429,
          0.42857142857142855
         ]
        },
        {
         "marker": {
          "color": "lightsalmon"
         },
         "name": "M",
         "type": "bar",
         "x": [
          "(10.0, 20.0]",
          "(20.0, 30.0]",
          "(30.0, 40.0]",
          "(40.0, 50.0]",
          "(50.0, 60.0]",
          "(60.0, 70.0]",
          "(70.0, 80.0]",
          "(80.0, 90.0]",
          "(90.0, 100.0]"
         ],
         "y": [
          0.35498839907192575,
          0.33627829928216457,
          0.3960804538421867,
          0.44422546314544736,
          0.43916998294485504,
          0.42892156862745096,
          0.44621513944223107,
          0.4654605263157895,
          0.3783783783783784
         ]
        },
        {
         "marker": {
          "color": "lightblue"
         },
         "name": "O",
         "type": "bar",
         "x": [
          "(10.0, 20.0]",
          "(20.0, 30.0]",
          "(30.0, 40.0]",
          "(40.0, 50.0]",
          "(50.0, 60.0]",
          "(60.0, 70.0]",
          "(70.0, 80.0]",
          "(80.0, 90.0]",
          "(90.0, 100.0]"
         ],
         "y": [
          0.2222222222222222,
          0.3333333333333333,
          0.5227272727272727,
          0.6190476190476191,
          0.5614035087719298,
          0.509090909090909,
          0.5952380952380952,
          0.6666666666666666,
          1
         ]
        }
       ],
       "layout": {
        "barmode": "group",
        "template": {
         "data": {
          "bar": [
           {
            "error_x": {
             "color": "#2a3f5f"
            },
            "error_y": {
             "color": "#2a3f5f"
            },
            "marker": {
             "line": {
              "color": "#E5ECF6",
              "width": 0.5
             }
            },
            "type": "bar"
           }
          ],
          "barpolar": [
           {
            "marker": {
             "line": {
              "color": "#E5ECF6",
              "width": 0.5
             }
            },
            "type": "barpolar"
           }
          ],
          "carpet": [
           {
            "aaxis": {
             "endlinecolor": "#2a3f5f",
             "gridcolor": "white",
             "linecolor": "white",
             "minorgridcolor": "white",
             "startlinecolor": "#2a3f5f"
            },
            "baxis": {
             "endlinecolor": "#2a3f5f",
             "gridcolor": "white",
             "linecolor": "white",
             "minorgridcolor": "white",
             "startlinecolor": "#2a3f5f"
            },
            "type": "carpet"
           }
          ],
          "choropleth": [
           {
            "colorbar": {
             "outlinewidth": 0,
             "ticks": ""
            },
            "type": "choropleth"
           }
          ],
          "contour": [
           {
            "colorbar": {
             "outlinewidth": 0,
             "ticks": ""
            },
            "colorscale": [
             [
              0,
              "#0d0887"
             ],
             [
              0.1111111111111111,
              "#46039f"
             ],
             [
              0.2222222222222222,
              "#7201a8"
             ],
             [
              0.3333333333333333,
              "#9c179e"
             ],
             [
              0.4444444444444444,
              "#bd3786"
             ],
             [
              0.5555555555555556,
              "#d8576b"
             ],
             [
              0.6666666666666666,
              "#ed7953"
             ],
             [
              0.7777777777777778,
              "#fb9f3a"
             ],
             [
              0.8888888888888888,
              "#fdca26"
             ],
             [
              1,
              "#f0f921"
             ]
            ],
            "type": "contour"
           }
          ],
          "contourcarpet": [
           {
            "colorbar": {
             "outlinewidth": 0,
             "ticks": ""
            },
            "type": "contourcarpet"
           }
          ],
          "heatmap": [
           {
            "colorbar": {
             "outlinewidth": 0,
             "ticks": ""
            },
            "colorscale": [
             [
              0,
              "#0d0887"
             ],
             [
              0.1111111111111111,
              "#46039f"
             ],
             [
              0.2222222222222222,
              "#7201a8"
             ],
             [
              0.3333333333333333,
              "#9c179e"
             ],
             [
              0.4444444444444444,
              "#bd3786"
             ],
             [
              0.5555555555555556,
              "#d8576b"
             ],
             [
              0.6666666666666666,
              "#ed7953"
             ],
             [
              0.7777777777777778,
              "#fb9f3a"
             ],
             [
              0.8888888888888888,
              "#fdca26"
             ],
             [
              1,
              "#f0f921"
             ]
            ],
            "type": "heatmap"
           }
          ],
          "heatmapgl": [
           {
            "colorbar": {
             "outlinewidth": 0,
             "ticks": ""
            },
            "colorscale": [
             [
              0,
              "#0d0887"
             ],
             [
              0.1111111111111111,
              "#46039f"
             ],
             [
              0.2222222222222222,
              "#7201a8"
             ],
             [
              0.3333333333333333,
              "#9c179e"
             ],
             [
              0.4444444444444444,
              "#bd3786"
             ],
             [
              0.5555555555555556,
              "#d8576b"
             ],
             [
              0.6666666666666666,
              "#ed7953"
             ],
             [
              0.7777777777777778,
              "#fb9f3a"
             ],
             [
              0.8888888888888888,
              "#fdca26"
             ],
             [
              1,
              "#f0f921"
             ]
            ],
            "type": "heatmapgl"
           }
          ],
          "histogram": [
           {
            "marker": {
             "colorbar": {
              "outlinewidth": 0,
              "ticks": ""
             }
            },
            "type": "histogram"
           }
          ],
          "histogram2d": [
           {
            "colorbar": {
             "outlinewidth": 0,
             "ticks": ""
            },
            "colorscale": [
             [
              0,
              "#0d0887"
             ],
             [
              0.1111111111111111,
              "#46039f"
             ],
             [
              0.2222222222222222,
              "#7201a8"
             ],
             [
              0.3333333333333333,
              "#9c179e"
             ],
             [
              0.4444444444444444,
              "#bd3786"
             ],
             [
              0.5555555555555556,
              "#d8576b"
             ],
             [
              0.6666666666666666,
              "#ed7953"
             ],
             [
              0.7777777777777778,
              "#fb9f3a"
             ],
             [
              0.8888888888888888,
              "#fdca26"
             ],
             [
              1,
              "#f0f921"
             ]
            ],
            "type": "histogram2d"
           }
          ],
          "histogram2dcontour": [
           {
            "colorbar": {
             "outlinewidth": 0,
             "ticks": ""
            },
            "colorscale": [
             [
              0,
              "#0d0887"
             ],
             [
              0.1111111111111111,
              "#46039f"
             ],
             [
              0.2222222222222222,
              "#7201a8"
             ],
             [
              0.3333333333333333,
              "#9c179e"
             ],
             [
              0.4444444444444444,
              "#bd3786"
             ],
             [
              0.5555555555555556,
              "#d8576b"
             ],
             [
              0.6666666666666666,
              "#ed7953"
             ],
             [
              0.7777777777777778,
              "#fb9f3a"
             ],
             [
              0.8888888888888888,
              "#fdca26"
             ],
             [
              1,
              "#f0f921"
             ]
            ],
            "type": "histogram2dcontour"
           }
          ],
          "mesh3d": [
           {
            "colorbar": {
             "outlinewidth": 0,
             "ticks": ""
            },
            "type": "mesh3d"
           }
          ],
          "parcoords": [
           {
            "line": {
             "colorbar": {
              "outlinewidth": 0,
              "ticks": ""
             }
            },
            "type": "parcoords"
           }
          ],
          "pie": [
           {
            "automargin": true,
            "type": "pie"
           }
          ],
          "scatter": [
           {
            "marker": {
             "colorbar": {
              "outlinewidth": 0,
              "ticks": ""
             }
            },
            "type": "scatter"
           }
          ],
          "scatter3d": [
           {
            "line": {
             "colorbar": {
              "outlinewidth": 0,
              "ticks": ""
             }
            },
            "marker": {
             "colorbar": {
              "outlinewidth": 0,
              "ticks": ""
             }
            },
            "type": "scatter3d"
           }
          ],
          "scattercarpet": [
           {
            "marker": {
             "colorbar": {
              "outlinewidth": 0,
              "ticks": ""
             }
            },
            "type": "scattercarpet"
           }
          ],
          "scattergeo": [
           {
            "marker": {
             "colorbar": {
              "outlinewidth": 0,
              "ticks": ""
             }
            },
            "type": "scattergeo"
           }
          ],
          "scattergl": [
           {
            "marker": {
             "colorbar": {
              "outlinewidth": 0,
              "ticks": ""
             }
            },
            "type": "scattergl"
           }
          ],
          "scattermapbox": [
           {
            "marker": {
             "colorbar": {
              "outlinewidth": 0,
              "ticks": ""
             }
            },
            "type": "scattermapbox"
           }
          ],
          "scatterpolar": [
           {
            "marker": {
             "colorbar": {
              "outlinewidth": 0,
              "ticks": ""
             }
            },
            "type": "scatterpolar"
           }
          ],
          "scatterpolargl": [
           {
            "marker": {
             "colorbar": {
              "outlinewidth": 0,
              "ticks": ""
             }
            },
            "type": "scatterpolargl"
           }
          ],
          "scatterternary": [
           {
            "marker": {
             "colorbar": {
              "outlinewidth": 0,
              "ticks": ""
             }
            },
            "type": "scatterternary"
           }
          ],
          "surface": [
           {
            "colorbar": {
             "outlinewidth": 0,
             "ticks": ""
            },
            "colorscale": [
             [
              0,
              "#0d0887"
             ],
             [
              0.1111111111111111,
              "#46039f"
             ],
             [
              0.2222222222222222,
              "#7201a8"
             ],
             [
              0.3333333333333333,
              "#9c179e"
             ],
             [
              0.4444444444444444,
              "#bd3786"
             ],
             [
              0.5555555555555556,
              "#d8576b"
             ],
             [
              0.6666666666666666,
              "#ed7953"
             ],
             [
              0.7777777777777778,
              "#fb9f3a"
             ],
             [
              0.8888888888888888,
              "#fdca26"
             ],
             [
              1,
              "#f0f921"
             ]
            ],
            "type": "surface"
           }
          ],
          "table": [
           {
            "cells": {
             "fill": {
              "color": "#EBF0F8"
             },
             "line": {
              "color": "white"
             }
            },
            "header": {
             "fill": {
              "color": "#C8D4E3"
             },
             "line": {
              "color": "white"
             }
            },
            "type": "table"
           }
          ]
         },
         "layout": {
          "annotationdefaults": {
           "arrowcolor": "#2a3f5f",
           "arrowhead": 0,
           "arrowwidth": 1
          },
          "coloraxis": {
           "colorbar": {
            "outlinewidth": 0,
            "ticks": ""
           }
          },
          "colorscale": {
           "diverging": [
            [
             0,
             "#8e0152"
            ],
            [
             0.1,
             "#c51b7d"
            ],
            [
             0.2,
             "#de77ae"
            ],
            [
             0.3,
             "#f1b6da"
            ],
            [
             0.4,
             "#fde0ef"
            ],
            [
             0.5,
             "#f7f7f7"
            ],
            [
             0.6,
             "#e6f5d0"
            ],
            [
             0.7,
             "#b8e186"
            ],
            [
             0.8,
             "#7fbc41"
            ],
            [
             0.9,
             "#4d9221"
            ],
            [
             1,
             "#276419"
            ]
           ],
           "sequential": [
            [
             0,
             "#0d0887"
            ],
            [
             0.1111111111111111,
             "#46039f"
            ],
            [
             0.2222222222222222,
             "#7201a8"
            ],
            [
             0.3333333333333333,
             "#9c179e"
            ],
            [
             0.4444444444444444,
             "#bd3786"
            ],
            [
             0.5555555555555556,
             "#d8576b"
            ],
            [
             0.6666666666666666,
             "#ed7953"
            ],
            [
             0.7777777777777778,
             "#fb9f3a"
            ],
            [
             0.8888888888888888,
             "#fdca26"
            ],
            [
             1,
             "#f0f921"
            ]
           ],
           "sequentialminus": [
            [
             0,
             "#0d0887"
            ],
            [
             0.1111111111111111,
             "#46039f"
            ],
            [
             0.2222222222222222,
             "#7201a8"
            ],
            [
             0.3333333333333333,
             "#9c179e"
            ],
            [
             0.4444444444444444,
             "#bd3786"
            ],
            [
             0.5555555555555556,
             "#d8576b"
            ],
            [
             0.6666666666666666,
             "#ed7953"
            ],
            [
             0.7777777777777778,
             "#fb9f3a"
            ],
            [
             0.8888888888888888,
             "#fdca26"
            ],
            [
             1,
             "#f0f921"
            ]
           ]
          },
          "colorway": [
           "#636efa",
           "#EF553B",
           "#00cc96",
           "#ab63fa",
           "#FFA15A",
           "#19d3f3",
           "#FF6692",
           "#B6E880",
           "#FF97FF",
           "#FECB52"
          ],
          "font": {
           "color": "#2a3f5f"
          },
          "geo": {
           "bgcolor": "white",
           "lakecolor": "white",
           "landcolor": "#E5ECF6",
           "showlakes": true,
           "showland": true,
           "subunitcolor": "white"
          },
          "hoverlabel": {
           "align": "left"
          },
          "hovermode": "closest",
          "mapbox": {
           "style": "light"
          },
          "paper_bgcolor": "white",
          "plot_bgcolor": "#E5ECF6",
          "polar": {
           "angularaxis": {
            "gridcolor": "white",
            "linecolor": "white",
            "ticks": ""
           },
           "bgcolor": "#E5ECF6",
           "radialaxis": {
            "gridcolor": "white",
            "linecolor": "white",
            "ticks": ""
           }
          },
          "scene": {
           "xaxis": {
            "backgroundcolor": "#E5ECF6",
            "gridcolor": "white",
            "gridwidth": 2,
            "linecolor": "white",
            "showbackground": true,
            "ticks": "",
            "zerolinecolor": "white"
           },
           "yaxis": {
            "backgroundcolor": "#E5ECF6",
            "gridcolor": "white",
            "gridwidth": 2,
            "linecolor": "white",
            "showbackground": true,
            "ticks": "",
            "zerolinecolor": "white"
           },
           "zaxis": {
            "backgroundcolor": "#E5ECF6",
            "gridcolor": "white",
            "gridwidth": 2,
            "linecolor": "white",
            "showbackground": true,
            "ticks": "",
            "zerolinecolor": "white"
           }
          },
          "shapedefaults": {
           "line": {
            "color": "#2a3f5f"
           }
          },
          "ternary": {
           "aaxis": {
            "gridcolor": "white",
            "linecolor": "white",
            "ticks": ""
           },
           "baxis": {
            "gridcolor": "white",
            "linecolor": "white",
            "ticks": ""
           },
           "bgcolor": "#E5ECF6",
           "caxis": {
            "gridcolor": "white",
            "linecolor": "white",
            "ticks": ""
           }
          },
          "title": {
           "x": 0.05
          },
          "xaxis": {
           "automargin": true,
           "gridcolor": "white",
           "linecolor": "white",
           "ticks": "",
           "title": {
            "standoff": 15
           },
           "zerolinecolor": "white",
           "zerolinewidth": 2
          },
          "yaxis": {
           "automargin": true,
           "gridcolor": "white",
           "linecolor": "white",
           "ticks": "",
           "title": {
            "standoff": 15
           },
           "zerolinecolor": "white",
           "zerolinewidth": 2
          }
         }
        },
        "xaxis": {
         "tickangle": -45
        }
       }
      },
      "text/html": [
       "<div>\n",
       "        \n",
       "        \n",
       "            <div id=\"c02510b9-70db-418d-a03a-be5e00954470\" class=\"plotly-graph-div\" style=\"height:525px; width:100%;\"></div>\n",
       "            <script type=\"text/javascript\">\n",
       "                require([\"plotly\"], function(Plotly) {\n",
       "                    window.PLOTLYENV=window.PLOTLYENV || {};\n",
       "                    \n",
       "                if (document.getElementById(\"c02510b9-70db-418d-a03a-be5e00954470\")) {\n",
       "                    Plotly.newPlot(\n",
       "                        'c02510b9-70db-418d-a03a-be5e00954470',\n",
       "                        [{\"marker\": {\"color\": \"indianred\"}, \"name\": \"F\", \"type\": \"bar\", \"x\": [\"(10.0, 20.0]\", \"(20.0, 30.0]\", \"(30.0, 40.0]\", \"(40.0, 50.0]\", \"(50.0, 60.0]\", \"(60.0, 70.0]\", \"(70.0, 80.0]\", \"(80.0, 90.0]\", \"(90.0, 100.0]\", \"(100.0, 110.0]\"], \"y\": [0.3252032520325203, 0.4101123595505618, 0.4790794979079498, 0.5166771554436753, 0.48246844319775595, 0.5012626262626263, 0.46131386861313867, 0.4814305364511692, 0.5178571428571429, 0.42857142857142855]}, {\"marker\": {\"color\": \"lightsalmon\"}, \"name\": \"M\", \"type\": \"bar\", \"x\": [\"(10.0, 20.0]\", \"(20.0, 30.0]\", \"(30.0, 40.0]\", \"(40.0, 50.0]\", \"(50.0, 60.0]\", \"(60.0, 70.0]\", \"(70.0, 80.0]\", \"(80.0, 90.0]\", \"(90.0, 100.0]\"], \"y\": [0.35498839907192575, 0.33627829928216457, 0.3960804538421867, 0.44422546314544736, 0.43916998294485504, 0.42892156862745096, 0.44621513944223107, 0.4654605263157895, 0.3783783783783784]}, {\"marker\": {\"color\": \"lightblue\"}, \"name\": \"O\", \"type\": \"bar\", \"x\": [\"(10.0, 20.0]\", \"(20.0, 30.0]\", \"(30.0, 40.0]\", \"(40.0, 50.0]\", \"(50.0, 60.0]\", \"(60.0, 70.0]\", \"(70.0, 80.0]\", \"(80.0, 90.0]\", \"(90.0, 100.0]\"], \"y\": [0.2222222222222222, 0.3333333333333333, 0.5227272727272727, 0.6190476190476191, 0.5614035087719298, 0.509090909090909, 0.5952380952380952, 0.6666666666666666, 1.0]}],\n",
       "                        {\"barmode\": \"group\", \"template\": {\"data\": {\"bar\": [{\"error_x\": {\"color\": \"#2a3f5f\"}, \"error_y\": {\"color\": \"#2a3f5f\"}, \"marker\": {\"line\": {\"color\": \"#E5ECF6\", \"width\": 0.5}}, \"type\": \"bar\"}], \"barpolar\": [{\"marker\": {\"line\": {\"color\": \"#E5ECF6\", \"width\": 0.5}}, \"type\": \"barpolar\"}], \"carpet\": [{\"aaxis\": {\"endlinecolor\": \"#2a3f5f\", \"gridcolor\": \"white\", \"linecolor\": \"white\", \"minorgridcolor\": \"white\", \"startlinecolor\": \"#2a3f5f\"}, \"baxis\": {\"endlinecolor\": \"#2a3f5f\", \"gridcolor\": \"white\", \"linecolor\": \"white\", \"minorgridcolor\": \"white\", \"startlinecolor\": \"#2a3f5f\"}, \"type\": \"carpet\"}], \"choropleth\": [{\"colorbar\": {\"outlinewidth\": 0, \"ticks\": \"\"}, \"type\": \"choropleth\"}], \"contour\": [{\"colorbar\": {\"outlinewidth\": 0, \"ticks\": \"\"}, \"colorscale\": [[0.0, \"#0d0887\"], [0.1111111111111111, \"#46039f\"], [0.2222222222222222, \"#7201a8\"], [0.3333333333333333, \"#9c179e\"], [0.4444444444444444, \"#bd3786\"], [0.5555555555555556, \"#d8576b\"], [0.6666666666666666, \"#ed7953\"], [0.7777777777777778, \"#fb9f3a\"], [0.8888888888888888, \"#fdca26\"], [1.0, \"#f0f921\"]], \"type\": \"contour\"}], \"contourcarpet\": [{\"colorbar\": {\"outlinewidth\": 0, \"ticks\": \"\"}, \"type\": \"contourcarpet\"}], \"heatmap\": [{\"colorbar\": {\"outlinewidth\": 0, \"ticks\": \"\"}, \"colorscale\": [[0.0, \"#0d0887\"], [0.1111111111111111, \"#46039f\"], [0.2222222222222222, \"#7201a8\"], [0.3333333333333333, \"#9c179e\"], [0.4444444444444444, \"#bd3786\"], [0.5555555555555556, \"#d8576b\"], [0.6666666666666666, \"#ed7953\"], [0.7777777777777778, \"#fb9f3a\"], [0.8888888888888888, \"#fdca26\"], [1.0, \"#f0f921\"]], \"type\": \"heatmap\"}], \"heatmapgl\": [{\"colorbar\": {\"outlinewidth\": 0, \"ticks\": \"\"}, \"colorscale\": [[0.0, \"#0d0887\"], [0.1111111111111111, \"#46039f\"], [0.2222222222222222, \"#7201a8\"], [0.3333333333333333, \"#9c179e\"], [0.4444444444444444, \"#bd3786\"], [0.5555555555555556, \"#d8576b\"], [0.6666666666666666, \"#ed7953\"], [0.7777777777777778, \"#fb9f3a\"], [0.8888888888888888, \"#fdca26\"], [1.0, \"#f0f921\"]], \"type\": \"heatmapgl\"}], \"histogram\": [{\"marker\": {\"colorbar\": {\"outlinewidth\": 0, \"ticks\": \"\"}}, \"type\": \"histogram\"}], \"histogram2d\": [{\"colorbar\": {\"outlinewidth\": 0, \"ticks\": \"\"}, \"colorscale\": [[0.0, \"#0d0887\"], [0.1111111111111111, \"#46039f\"], [0.2222222222222222, \"#7201a8\"], [0.3333333333333333, \"#9c179e\"], [0.4444444444444444, \"#bd3786\"], [0.5555555555555556, \"#d8576b\"], [0.6666666666666666, \"#ed7953\"], [0.7777777777777778, \"#fb9f3a\"], [0.8888888888888888, \"#fdca26\"], [1.0, \"#f0f921\"]], \"type\": \"histogram2d\"}], \"histogram2dcontour\": [{\"colorbar\": {\"outlinewidth\": 0, \"ticks\": \"\"}, \"colorscale\": [[0.0, \"#0d0887\"], [0.1111111111111111, \"#46039f\"], [0.2222222222222222, \"#7201a8\"], [0.3333333333333333, \"#9c179e\"], [0.4444444444444444, \"#bd3786\"], [0.5555555555555556, \"#d8576b\"], [0.6666666666666666, \"#ed7953\"], [0.7777777777777778, \"#fb9f3a\"], [0.8888888888888888, \"#fdca26\"], [1.0, \"#f0f921\"]], \"type\": \"histogram2dcontour\"}], \"mesh3d\": [{\"colorbar\": {\"outlinewidth\": 0, \"ticks\": \"\"}, \"type\": \"mesh3d\"}], \"parcoords\": [{\"line\": {\"colorbar\": {\"outlinewidth\": 0, \"ticks\": \"\"}}, \"type\": \"parcoords\"}], \"pie\": [{\"automargin\": true, \"type\": \"pie\"}], \"scatter\": [{\"marker\": {\"colorbar\": {\"outlinewidth\": 0, \"ticks\": \"\"}}, \"type\": \"scatter\"}], \"scatter3d\": [{\"line\": {\"colorbar\": {\"outlinewidth\": 0, \"ticks\": \"\"}}, \"marker\": {\"colorbar\": {\"outlinewidth\": 0, \"ticks\": \"\"}}, \"type\": \"scatter3d\"}], \"scattercarpet\": [{\"marker\": {\"colorbar\": {\"outlinewidth\": 0, \"ticks\": \"\"}}, \"type\": \"scattercarpet\"}], \"scattergeo\": [{\"marker\": {\"colorbar\": {\"outlinewidth\": 0, \"ticks\": \"\"}}, \"type\": \"scattergeo\"}], \"scattergl\": [{\"marker\": {\"colorbar\": {\"outlinewidth\": 0, \"ticks\": \"\"}}, \"type\": \"scattergl\"}], \"scattermapbox\": [{\"marker\": {\"colorbar\": {\"outlinewidth\": 0, \"ticks\": \"\"}}, \"type\": \"scattermapbox\"}], \"scatterpolar\": [{\"marker\": {\"colorbar\": {\"outlinewidth\": 0, \"ticks\": \"\"}}, \"type\": \"scatterpolar\"}], \"scatterpolargl\": [{\"marker\": {\"colorbar\": {\"outlinewidth\": 0, \"ticks\": \"\"}}, \"type\": \"scatterpolargl\"}], \"scatterternary\": [{\"marker\": {\"colorbar\": {\"outlinewidth\": 0, \"ticks\": \"\"}}, \"type\": \"scatterternary\"}], \"surface\": [{\"colorbar\": {\"outlinewidth\": 0, \"ticks\": \"\"}, \"colorscale\": [[0.0, \"#0d0887\"], [0.1111111111111111, \"#46039f\"], [0.2222222222222222, \"#7201a8\"], [0.3333333333333333, \"#9c179e\"], [0.4444444444444444, \"#bd3786\"], [0.5555555555555556, \"#d8576b\"], [0.6666666666666666, \"#ed7953\"], [0.7777777777777778, \"#fb9f3a\"], [0.8888888888888888, \"#fdca26\"], [1.0, \"#f0f921\"]], \"type\": \"surface\"}], \"table\": [{\"cells\": {\"fill\": {\"color\": \"#EBF0F8\"}, \"line\": {\"color\": \"white\"}}, \"header\": {\"fill\": {\"color\": \"#C8D4E3\"}, \"line\": {\"color\": \"white\"}}, \"type\": \"table\"}]}, \"layout\": {\"annotationdefaults\": {\"arrowcolor\": \"#2a3f5f\", \"arrowhead\": 0, \"arrowwidth\": 1}, \"coloraxis\": {\"colorbar\": {\"outlinewidth\": 0, \"ticks\": \"\"}}, \"colorscale\": {\"diverging\": [[0, \"#8e0152\"], [0.1, \"#c51b7d\"], [0.2, \"#de77ae\"], [0.3, \"#f1b6da\"], [0.4, \"#fde0ef\"], [0.5, \"#f7f7f7\"], [0.6, \"#e6f5d0\"], [0.7, \"#b8e186\"], [0.8, \"#7fbc41\"], [0.9, \"#4d9221\"], [1, \"#276419\"]], \"sequential\": [[0.0, \"#0d0887\"], [0.1111111111111111, \"#46039f\"], [0.2222222222222222, \"#7201a8\"], [0.3333333333333333, \"#9c179e\"], [0.4444444444444444, \"#bd3786\"], [0.5555555555555556, \"#d8576b\"], [0.6666666666666666, \"#ed7953\"], [0.7777777777777778, \"#fb9f3a\"], [0.8888888888888888, \"#fdca26\"], [1.0, \"#f0f921\"]], \"sequentialminus\": [[0.0, \"#0d0887\"], [0.1111111111111111, \"#46039f\"], [0.2222222222222222, \"#7201a8\"], [0.3333333333333333, \"#9c179e\"], [0.4444444444444444, \"#bd3786\"], [0.5555555555555556, \"#d8576b\"], [0.6666666666666666, \"#ed7953\"], [0.7777777777777778, \"#fb9f3a\"], [0.8888888888888888, \"#fdca26\"], [1.0, \"#f0f921\"]]}, \"colorway\": [\"#636efa\", \"#EF553B\", \"#00cc96\", \"#ab63fa\", \"#FFA15A\", \"#19d3f3\", \"#FF6692\", \"#B6E880\", \"#FF97FF\", \"#FECB52\"], \"font\": {\"color\": \"#2a3f5f\"}, \"geo\": {\"bgcolor\": \"white\", \"lakecolor\": \"white\", \"landcolor\": \"#E5ECF6\", \"showlakes\": true, \"showland\": true, \"subunitcolor\": \"white\"}, \"hoverlabel\": {\"align\": \"left\"}, \"hovermode\": \"closest\", \"mapbox\": {\"style\": \"light\"}, \"paper_bgcolor\": \"white\", \"plot_bgcolor\": \"#E5ECF6\", \"polar\": {\"angularaxis\": {\"gridcolor\": \"white\", \"linecolor\": \"white\", \"ticks\": \"\"}, \"bgcolor\": \"#E5ECF6\", \"radialaxis\": {\"gridcolor\": \"white\", \"linecolor\": \"white\", \"ticks\": \"\"}}, \"scene\": {\"xaxis\": {\"backgroundcolor\": \"#E5ECF6\", \"gridcolor\": \"white\", \"gridwidth\": 2, \"linecolor\": \"white\", \"showbackground\": true, \"ticks\": \"\", \"zerolinecolor\": \"white\"}, \"yaxis\": {\"backgroundcolor\": \"#E5ECF6\", \"gridcolor\": \"white\", \"gridwidth\": 2, \"linecolor\": \"white\", \"showbackground\": true, \"ticks\": \"\", \"zerolinecolor\": \"white\"}, \"zaxis\": {\"backgroundcolor\": \"#E5ECF6\", \"gridcolor\": \"white\", \"gridwidth\": 2, \"linecolor\": \"white\", \"showbackground\": true, \"ticks\": \"\", \"zerolinecolor\": \"white\"}}, \"shapedefaults\": {\"line\": {\"color\": \"#2a3f5f\"}}, \"ternary\": {\"aaxis\": {\"gridcolor\": \"white\", \"linecolor\": \"white\", \"ticks\": \"\"}, \"baxis\": {\"gridcolor\": \"white\", \"linecolor\": \"white\", \"ticks\": \"\"}, \"bgcolor\": \"#E5ECF6\", \"caxis\": {\"gridcolor\": \"white\", \"linecolor\": \"white\", \"ticks\": \"\"}}, \"title\": {\"x\": 0.05}, \"xaxis\": {\"automargin\": true, \"gridcolor\": \"white\", \"linecolor\": \"white\", \"ticks\": \"\", \"title\": {\"standoff\": 15}, \"zerolinecolor\": \"white\", \"zerolinewidth\": 2}, \"yaxis\": {\"automargin\": true, \"gridcolor\": \"white\", \"linecolor\": \"white\", \"ticks\": \"\", \"title\": {\"standoff\": 15}, \"zerolinecolor\": \"white\", \"zerolinewidth\": 2}}}, \"xaxis\": {\"tickangle\": -45}},\n",
       "                        {\"responsive\": true}\n",
       "                    ).then(function(){\n",
       "                            \n",
       "var gd = document.getElementById('c02510b9-70db-418d-a03a-be5e00954470');\n",
       "var x = new MutationObserver(function (mutations, observer) {{\n",
       "        var display = window.getComputedStyle(gd).display;\n",
       "        if (!display || display === 'none') {{\n",
       "            console.log([gd, 'removed!']);\n",
       "            Plotly.purge(gd);\n",
       "            observer.disconnect();\n",
       "        }}\n",
       "}});\n",
       "\n",
       "// Listen for the removal of the full notebook cells\n",
       "var notebookContainer = gd.closest('#notebook-container');\n",
       "if (notebookContainer) {{\n",
       "    x.observe(notebookContainer, {childList: true});\n",
       "}}\n",
       "\n",
       "// Listen for the clearing of the current output cell\n",
       "var outputEl = gd.closest('.output');\n",
       "if (outputEl) {{\n",
       "    x.observe(outputEl, {childList: true});\n",
       "}}\n",
       "\n",
       "                        })\n",
       "                };\n",
       "                });\n",
       "            </script>\n",
       "        </div>"
      ]
     },
     "metadata": {},
     "output_type": "display_data"
    }
   ],
   "source": [
    "plot_binned_offer_type(dataset, 'discount')"
   ]
  },
  {
   "cell_type": "markdown",
   "metadata": {},
   "source": [
    "#### Some takeaways\n",
    "\n",
    "- BOGO seems to be more effective towards women (according to graphs), while discounts have less of a difference in effectiveness (still more effective on women overall though).\n",
    "- There is a difference on promotion engagement according to age bins, however it is quite subtle."
   ]
  },
  {
   "cell_type": "markdown",
   "metadata": {},
   "source": [
    "### Correlation"
   ]
  },
  {
   "cell_type": "code",
   "execution_count": 69,
   "metadata": {},
   "outputs": [
    {
     "data": {
      "text/html": [
       "<div>\n",
       "<style scoped>\n",
       "    .dataframe tbody tr th:only-of-type {\n",
       "        vertical-align: middle;\n",
       "    }\n",
       "\n",
       "    .dataframe tbody tr th {\n",
       "        vertical-align: top;\n",
       "    }\n",
       "\n",
       "    .dataframe thead th {\n",
       "        text-align: right;\n",
       "    }\n",
       "</style>\n",
       "<table border=\"1\" class=\"dataframe\">\n",
       "  <thead>\n",
       "    <tr style=\"text-align: right;\">\n",
       "      <th></th>\n",
       "      <th>gender</th>\n",
       "      <th>age</th>\n",
       "      <th>id</th>\n",
       "      <th>became_member_on</th>\n",
       "      <th>income</th>\n",
       "      <th>offer_id</th>\n",
       "      <th>type</th>\n",
       "      <th>duration</th>\n",
       "      <th>difficulty</th>\n",
       "      <th>reward</th>\n",
       "      <th>completed</th>\n",
       "    </tr>\n",
       "  </thead>\n",
       "  <tbody>\n",
       "    <tr>\n",
       "      <th>0</th>\n",
       "      <td>F</td>\n",
       "      <td>75</td>\n",
       "      <td>78afa995795e4d85b5d9ceeca43f5fef</td>\n",
       "      <td>20170509</td>\n",
       "      <td>100000.0</td>\n",
       "      <td>9b98b8c7a33c4b65b9aebfe6a799e6d9</td>\n",
       "      <td>bogo</td>\n",
       "      <td>168</td>\n",
       "      <td>5</td>\n",
       "      <td>5</td>\n",
       "      <td>True</td>\n",
       "    </tr>\n",
       "    <tr>\n",
       "      <th>2</th>\n",
       "      <td>F</td>\n",
       "      <td>75</td>\n",
       "      <td>78afa995795e4d85b5d9ceeca43f5fef</td>\n",
       "      <td>20170509</td>\n",
       "      <td>100000.0</td>\n",
       "      <td>ae264e3637204a6fb9bb56bc8210ddfd</td>\n",
       "      <td>bogo</td>\n",
       "      <td>168</td>\n",
       "      <td>10</td>\n",
       "      <td>10</td>\n",
       "      <td>True</td>\n",
       "    </tr>\n",
       "    <tr>\n",
       "      <th>3</th>\n",
       "      <td>F</td>\n",
       "      <td>75</td>\n",
       "      <td>78afa995795e4d85b5d9ceeca43f5fef</td>\n",
       "      <td>20170509</td>\n",
       "      <td>100000.0</td>\n",
       "      <td>f19421c1d4aa40978ebb69ca19b0e20d</td>\n",
       "      <td>bogo</td>\n",
       "      <td>120</td>\n",
       "      <td>5</td>\n",
       "      <td>5</td>\n",
       "      <td>False</td>\n",
       "    </tr>\n",
       "    <tr>\n",
       "      <th>9</th>\n",
       "      <td>M</td>\n",
       "      <td>68</td>\n",
       "      <td>e2127556f4f64592b11af22de27a7932</td>\n",
       "      <td>20180426</td>\n",
       "      <td>70000.0</td>\n",
       "      <td>2906b810c7d4411798c6938adc9daaa5</td>\n",
       "      <td>discount</td>\n",
       "      <td>168</td>\n",
       "      <td>10</td>\n",
       "      <td>2</td>\n",
       "      <td>False</td>\n",
       "    </tr>\n",
       "    <tr>\n",
       "      <th>11</th>\n",
       "      <td>M</td>\n",
       "      <td>68</td>\n",
       "      <td>e2127556f4f64592b11af22de27a7932</td>\n",
       "      <td>20180426</td>\n",
       "      <td>70000.0</td>\n",
       "      <td>9b98b8c7a33c4b65b9aebfe6a799e6d9</td>\n",
       "      <td>bogo</td>\n",
       "      <td>168</td>\n",
       "      <td>5</td>\n",
       "      <td>5</td>\n",
       "      <td>True</td>\n",
       "    </tr>\n",
       "  </tbody>\n",
       "</table>\n",
       "</div>"
      ],
      "text/plain": [
       "   gender  age                                id  became_member_on    income  \\\n",
       "0       F   75  78afa995795e4d85b5d9ceeca43f5fef          20170509  100000.0   \n",
       "2       F   75  78afa995795e4d85b5d9ceeca43f5fef          20170509  100000.0   \n",
       "3       F   75  78afa995795e4d85b5d9ceeca43f5fef          20170509  100000.0   \n",
       "9       M   68  e2127556f4f64592b11af22de27a7932          20180426   70000.0   \n",
       "11      M   68  e2127556f4f64592b11af22de27a7932          20180426   70000.0   \n",
       "\n",
       "                            offer_id      type  duration  difficulty  reward  \\\n",
       "0   9b98b8c7a33c4b65b9aebfe6a799e6d9      bogo       168           5       5   \n",
       "2   ae264e3637204a6fb9bb56bc8210ddfd      bogo       168          10      10   \n",
       "3   f19421c1d4aa40978ebb69ca19b0e20d      bogo       120           5       5   \n",
       "9   2906b810c7d4411798c6938adc9daaa5  discount       168          10       2   \n",
       "11  9b98b8c7a33c4b65b9aebfe6a799e6d9      bogo       168           5       5   \n",
       "\n",
       "    completed  \n",
       "0        True  \n",
       "2        True  \n",
       "3       False  \n",
       "9       False  \n",
       "11       True  "
      ]
     },
     "execution_count": 69,
     "metadata": {},
     "output_type": "execute_result"
    }
   ],
   "source": [
    "dataset.head(5)"
   ]
  },
  {
   "cell_type": "code",
   "execution_count": 87,
   "metadata": {},
   "outputs": [],
   "source": [
    "corr_df = dataset.copy()\n",
    "corr_df['gender'] = corr_df['gender'].map({'F': 0, 'M': 1, 'O': 3})\n",
    "corr_df['type'] = corr_df['type'].map({'bogo': 0, 'discount': 1})"
   ]
  },
  {
   "cell_type": "code",
   "execution_count": 88,
   "metadata": {},
   "outputs": [
    {
     "data": {
      "text/html": [
       "<style  type=\"text/css\" >\n",
       "    #T_01c89e60_83ef_11ea_a085_c0b5d7dc9e03row0_col0 {\n",
       "            background-color:  #b40426;\n",
       "            color:  #f1f1f1;\n",
       "        }    #T_01c89e60_83ef_11ea_a085_c0b5d7dc9e03row0_col1 {\n",
       "            background-color:  #3b4cc0;\n",
       "            color:  #f1f1f1;\n",
       "        }    #T_01c89e60_83ef_11ea_a085_c0b5d7dc9e03row0_col2 {\n",
       "            background-color:  #6384eb;\n",
       "            color:  #000000;\n",
       "        }    #T_01c89e60_83ef_11ea_a085_c0b5d7dc9e03row0_col3 {\n",
       "            background-color:  #3b4cc0;\n",
       "            color:  #f1f1f1;\n",
       "        }    #T_01c89e60_83ef_11ea_a085_c0b5d7dc9e03row0_col4 {\n",
       "            background-color:  #cad8ef;\n",
       "            color:  #000000;\n",
       "        }    #T_01c89e60_83ef_11ea_a085_c0b5d7dc9e03row0_col5 {\n",
       "            background-color:  #a3c2fe;\n",
       "            color:  #000000;\n",
       "        }    #T_01c89e60_83ef_11ea_a085_c0b5d7dc9e03row0_col6 {\n",
       "            background-color:  #6384eb;\n",
       "            color:  #000000;\n",
       "        }    #T_01c89e60_83ef_11ea_a085_c0b5d7dc9e03row0_col7 {\n",
       "            background-color:  #c9d7f0;\n",
       "            color:  #000000;\n",
       "        }    #T_01c89e60_83ef_11ea_a085_c0b5d7dc9e03row0_col8 {\n",
       "            background-color:  #506bda;\n",
       "            color:  #000000;\n",
       "        }    #T_01c89e60_83ef_11ea_a085_c0b5d7dc9e03row1_col0 {\n",
       "            background-color:  #4c66d6;\n",
       "            color:  #000000;\n",
       "        }    #T_01c89e60_83ef_11ea_a085_c0b5d7dc9e03row1_col1 {\n",
       "            background-color:  #b40426;\n",
       "            color:  #f1f1f1;\n",
       "        }    #T_01c89e60_83ef_11ea_a085_c0b5d7dc9e03row1_col2 {\n",
       "            background-color:  #6282ea;\n",
       "            color:  #000000;\n",
       "        }    #T_01c89e60_83ef_11ea_a085_c0b5d7dc9e03row1_col3 {\n",
       "            background-color:  #c7d7f0;\n",
       "            color:  #000000;\n",
       "        }    #T_01c89e60_83ef_11ea_a085_c0b5d7dc9e03row1_col4 {\n",
       "            background-color:  #c9d7f0;\n",
       "            color:  #000000;\n",
       "        }    #T_01c89e60_83ef_11ea_a085_c0b5d7dc9e03row1_col5 {\n",
       "            background-color:  #a3c2fe;\n",
       "            color:  #000000;\n",
       "        }    #T_01c89e60_83ef_11ea_a085_c0b5d7dc9e03row1_col6 {\n",
       "            background-color:  #6485ec;\n",
       "            color:  #000000;\n",
       "        }    #T_01c89e60_83ef_11ea_a085_c0b5d7dc9e03row1_col7 {\n",
       "            background-color:  #c9d7f0;\n",
       "            color:  #000000;\n",
       "        }    #T_01c89e60_83ef_11ea_a085_c0b5d7dc9e03row1_col8 {\n",
       "            background-color:  #799cf8;\n",
       "            color:  #000000;\n",
       "        }    #T_01c89e60_83ef_11ea_a085_c0b5d7dc9e03row2_col0 {\n",
       "            background-color:  #7093f3;\n",
       "            color:  #000000;\n",
       "        }    #T_01c89e60_83ef_11ea_a085_c0b5d7dc9e03row2_col1 {\n",
       "            background-color:  #5b7ae5;\n",
       "            color:  #000000;\n",
       "        }    #T_01c89e60_83ef_11ea_a085_c0b5d7dc9e03row2_col2 {\n",
       "            background-color:  #b40426;\n",
       "            color:  #f1f1f1;\n",
       "        }    #T_01c89e60_83ef_11ea_a085_c0b5d7dc9e03row2_col3 {\n",
       "            background-color:  #6a8bef;\n",
       "            color:  #000000;\n",
       "        }    #T_01c89e60_83ef_11ea_a085_c0b5d7dc9e03row2_col4 {\n",
       "            background-color:  #cad8ef;\n",
       "            color:  #000000;\n",
       "        }    #T_01c89e60_83ef_11ea_a085_c0b5d7dc9e03row2_col5 {\n",
       "            background-color:  #a2c1ff;\n",
       "            color:  #000000;\n",
       "        }    #T_01c89e60_83ef_11ea_a085_c0b5d7dc9e03row2_col6 {\n",
       "            background-color:  #6384eb;\n",
       "            color:  #000000;\n",
       "        }    #T_01c89e60_83ef_11ea_a085_c0b5d7dc9e03row2_col7 {\n",
       "            background-color:  #c9d7f0;\n",
       "            color:  #000000;\n",
       "        }    #T_01c89e60_83ef_11ea_a085_c0b5d7dc9e03row2_col8 {\n",
       "            background-color:  #3b4cc0;\n",
       "            color:  #f1f1f1;\n",
       "        }    #T_01c89e60_83ef_11ea_a085_c0b5d7dc9e03row3_col0 {\n",
       "            background-color:  #3b4cc0;\n",
       "            color:  #f1f1f1;\n",
       "        }    #T_01c89e60_83ef_11ea_a085_c0b5d7dc9e03row3_col1 {\n",
       "            background-color:  #bcd2f7;\n",
       "            color:  #000000;\n",
       "        }    #T_01c89e60_83ef_11ea_a085_c0b5d7dc9e03row3_col2 {\n",
       "            background-color:  #5d7ce6;\n",
       "            color:  #000000;\n",
       "        }    #T_01c89e60_83ef_11ea_a085_c0b5d7dc9e03row3_col3 {\n",
       "            background-color:  #b40426;\n",
       "            color:  #f1f1f1;\n",
       "        }    #T_01c89e60_83ef_11ea_a085_c0b5d7dc9e03row3_col4 {\n",
       "            background-color:  #c9d7f0;\n",
       "            color:  #000000;\n",
       "        }    #T_01c89e60_83ef_11ea_a085_c0b5d7dc9e03row3_col5 {\n",
       "            background-color:  #a2c1ff;\n",
       "            color:  #000000;\n",
       "        }    #T_01c89e60_83ef_11ea_a085_c0b5d7dc9e03row3_col6 {\n",
       "            background-color:  #6384eb;\n",
       "            color:  #000000;\n",
       "        }    #T_01c89e60_83ef_11ea_a085_c0b5d7dc9e03row3_col7 {\n",
       "            background-color:  #cad8ef;\n",
       "            color:  #000000;\n",
       "        }    #T_01c89e60_83ef_11ea_a085_c0b5d7dc9e03row3_col8 {\n",
       "            background-color:  #8db0fe;\n",
       "            color:  #000000;\n",
       "        }    #T_01c89e60_83ef_11ea_a085_c0b5d7dc9e03row4_col0 {\n",
       "            background-color:  #7295f4;\n",
       "            color:  #000000;\n",
       "        }    #T_01c89e60_83ef_11ea_a085_c0b5d7dc9e03row4_col1 {\n",
       "            background-color:  #5e7de7;\n",
       "            color:  #000000;\n",
       "        }    #T_01c89e60_83ef_11ea_a085_c0b5d7dc9e03row4_col2 {\n",
       "            background-color:  #6687ed;\n",
       "            color:  #000000;\n",
       "        }    #T_01c89e60_83ef_11ea_a085_c0b5d7dc9e03row4_col3 {\n",
       "            background-color:  #6f92f3;\n",
       "            color:  #000000;\n",
       "        }    #T_01c89e60_83ef_11ea_a085_c0b5d7dc9e03row4_col4 {\n",
       "            background-color:  #b40426;\n",
       "            color:  #f1f1f1;\n",
       "        }    #T_01c89e60_83ef_11ea_a085_c0b5d7dc9e03row4_col5 {\n",
       "            background-color:  #ee8669;\n",
       "            color:  #000000;\n",
       "        }    #T_01c89e60_83ef_11ea_a085_c0b5d7dc9e03row4_col6 {\n",
       "            background-color:  #e9d5cb;\n",
       "            color:  #000000;\n",
       "        }    #T_01c89e60_83ef_11ea_a085_c0b5d7dc9e03row4_col7 {\n",
       "            background-color:  #3b4cc0;\n",
       "            color:  #f1f1f1;\n",
       "        }    #T_01c89e60_83ef_11ea_a085_c0b5d7dc9e03row4_col8 {\n",
       "            background-color:  #7093f3;\n",
       "            color:  #000000;\n",
       "        }    #T_01c89e60_83ef_11ea_a085_c0b5d7dc9e03row5_col0 {\n",
       "            background-color:  #7295f4;\n",
       "            color:  #000000;\n",
       "        }    #T_01c89e60_83ef_11ea_a085_c0b5d7dc9e03row5_col1 {\n",
       "            background-color:  #5f7fe8;\n",
       "            color:  #000000;\n",
       "        }    #T_01c89e60_83ef_11ea_a085_c0b5d7dc9e03row5_col2 {\n",
       "            background-color:  #6384eb;\n",
       "            color:  #000000;\n",
       "        }    #T_01c89e60_83ef_11ea_a085_c0b5d7dc9e03row5_col3 {\n",
       "            background-color:  #6f92f3;\n",
       "            color:  #000000;\n",
       "        }    #T_01c89e60_83ef_11ea_a085_c0b5d7dc9e03row5_col4 {\n",
       "            background-color:  #e8765c;\n",
       "            color:  #000000;\n",
       "        }    #T_01c89e60_83ef_11ea_a085_c0b5d7dc9e03row5_col5 {\n",
       "            background-color:  #b40426;\n",
       "            color:  #f1f1f1;\n",
       "        }    #T_01c89e60_83ef_11ea_a085_c0b5d7dc9e03row5_col6 {\n",
       "            background-color:  #f7b093;\n",
       "            color:  #000000;\n",
       "        }    #T_01c89e60_83ef_11ea_a085_c0b5d7dc9e03row5_col7 {\n",
       "            background-color:  #7093f3;\n",
       "            color:  #000000;\n",
       "        }    #T_01c89e60_83ef_11ea_a085_c0b5d7dc9e03row5_col8 {\n",
       "            background-color:  #5e7de7;\n",
       "            color:  #000000;\n",
       "        }    #T_01c89e60_83ef_11ea_a085_c0b5d7dc9e03row6_col0 {\n",
       "            background-color:  #7093f3;\n",
       "            color:  #000000;\n",
       "        }    #T_01c89e60_83ef_11ea_a085_c0b5d7dc9e03row6_col1 {\n",
       "            background-color:  #5e7de7;\n",
       "            color:  #000000;\n",
       "        }    #T_01c89e60_83ef_11ea_a085_c0b5d7dc9e03row6_col2 {\n",
       "            background-color:  #6384eb;\n",
       "            color:  #000000;\n",
       "        }    #T_01c89e60_83ef_11ea_a085_c0b5d7dc9e03row6_col3 {\n",
       "            background-color:  #7093f3;\n",
       "            color:  #000000;\n",
       "        }    #T_01c89e60_83ef_11ea_a085_c0b5d7dc9e03row6_col4 {\n",
       "            background-color:  #f7ac8e;\n",
       "            color:  #000000;\n",
       "        }    #T_01c89e60_83ef_11ea_a085_c0b5d7dc9e03row6_col5 {\n",
       "            background-color:  #f39778;\n",
       "            color:  #000000;\n",
       "        }    #T_01c89e60_83ef_11ea_a085_c0b5d7dc9e03row6_col6 {\n",
       "            background-color:  #b40426;\n",
       "            color:  #f1f1f1;\n",
       "        }    #T_01c89e60_83ef_11ea_a085_c0b5d7dc9e03row6_col7 {\n",
       "            background-color:  #d4dbe6;\n",
       "            color:  #000000;\n",
       "        }    #T_01c89e60_83ef_11ea_a085_c0b5d7dc9e03row6_col8 {\n",
       "            background-color:  #3b4cc0;\n",
       "            color:  #f1f1f1;\n",
       "        }    #T_01c89e60_83ef_11ea_a085_c0b5d7dc9e03row7_col0 {\n",
       "            background-color:  #6f92f3;\n",
       "            color:  #000000;\n",
       "        }    #T_01c89e60_83ef_11ea_a085_c0b5d7dc9e03row7_col1 {\n",
       "            background-color:  #5e7de7;\n",
       "            color:  #000000;\n",
       "        }    #T_01c89e60_83ef_11ea_a085_c0b5d7dc9e03row7_col2 {\n",
       "            background-color:  #6384eb;\n",
       "            color:  #000000;\n",
       "        }    #T_01c89e60_83ef_11ea_a085_c0b5d7dc9e03row7_col3 {\n",
       "            background-color:  #7093f3;\n",
       "            color:  #000000;\n",
       "        }    #T_01c89e60_83ef_11ea_a085_c0b5d7dc9e03row7_col4 {\n",
       "            background-color:  #3b4cc0;\n",
       "            color:  #f1f1f1;\n",
       "        }    #T_01c89e60_83ef_11ea_a085_c0b5d7dc9e03row7_col5 {\n",
       "            background-color:  #3b4cc0;\n",
       "            color:  #f1f1f1;\n",
       "        }    #T_01c89e60_83ef_11ea_a085_c0b5d7dc9e03row7_col6 {\n",
       "            background-color:  #779af7;\n",
       "            color:  #000000;\n",
       "        }    #T_01c89e60_83ef_11ea_a085_c0b5d7dc9e03row7_col7 {\n",
       "            background-color:  #b40426;\n",
       "            color:  #f1f1f1;\n",
       "        }    #T_01c89e60_83ef_11ea_a085_c0b5d7dc9e03row7_col8 {\n",
       "            background-color:  #4c66d6;\n",
       "            color:  #000000;\n",
       "        }    #T_01c89e60_83ef_11ea_a085_c0b5d7dc9e03row8_col0 {\n",
       "            background-color:  #5d7ce6;\n",
       "            color:  #000000;\n",
       "        }    #T_01c89e60_83ef_11ea_a085_c0b5d7dc9e03row8_col1 {\n",
       "            background-color:  #7396f5;\n",
       "            color:  #000000;\n",
       "        }    #T_01c89e60_83ef_11ea_a085_c0b5d7dc9e03row8_col2 {\n",
       "            background-color:  #3b4cc0;\n",
       "            color:  #f1f1f1;\n",
       "        }    #T_01c89e60_83ef_11ea_a085_c0b5d7dc9e03row8_col3 {\n",
       "            background-color:  #98b9ff;\n",
       "            color:  #000000;\n",
       "        }    #T_01c89e60_83ef_11ea_a085_c0b5d7dc9e03row8_col4 {\n",
       "            background-color:  #cfdaea;\n",
       "            color:  #000000;\n",
       "        }    #T_01c89e60_83ef_11ea_a085_c0b5d7dc9e03row8_col5 {\n",
       "            background-color:  #9ebeff;\n",
       "            color:  #000000;\n",
       "        }    #T_01c89e60_83ef_11ea_a085_c0b5d7dc9e03row8_col6 {\n",
       "            background-color:  #3b4cc0;\n",
       "            color:  #f1f1f1;\n",
       "        }    #T_01c89e60_83ef_11ea_a085_c0b5d7dc9e03row8_col7 {\n",
       "            background-color:  #bad0f8;\n",
       "            color:  #000000;\n",
       "        }    #T_01c89e60_83ef_11ea_a085_c0b5d7dc9e03row8_col8 {\n",
       "            background-color:  #b40426;\n",
       "            color:  #f1f1f1;\n",
       "        }</style><table id=\"T_01c89e60_83ef_11ea_a085_c0b5d7dc9e03\" ><thead>    <tr>        <th class=\"blank level0\" ></th>        <th class=\"col_heading level0 col0\" >gender</th>        <th class=\"col_heading level0 col1\" >age</th>        <th class=\"col_heading level0 col2\" >became_member_on</th>        <th class=\"col_heading level0 col3\" >income</th>        <th class=\"col_heading level0 col4\" >type</th>        <th class=\"col_heading level0 col5\" >duration</th>        <th class=\"col_heading level0 col6\" >difficulty</th>        <th class=\"col_heading level0 col7\" >reward</th>        <th class=\"col_heading level0 col8\" >completed</th>    </tr></thead><tbody>\n",
       "                <tr>\n",
       "                        <th id=\"T_01c89e60_83ef_11ea_a085_c0b5d7dc9e03level0_row0\" class=\"row_heading level0 row0\" >gender</th>\n",
       "                        <td id=\"T_01c89e60_83ef_11ea_a085_c0b5d7dc9e03row0_col0\" class=\"data row0 col0\" >1.000000</td>\n",
       "                        <td id=\"T_01c89e60_83ef_11ea_a085_c0b5d7dc9e03row0_col1\" class=\"data row0 col1\" >-0.132503</td>\n",
       "                        <td id=\"T_01c89e60_83ef_11ea_a085_c0b5d7dc9e03row0_col2\" class=\"data row0 col2\" >-0.001327</td>\n",
       "                        <td id=\"T_01c89e60_83ef_11ea_a085_c0b5d7dc9e03row0_col3\" class=\"data row0 col3\" >-0.204161</td>\n",
       "                        <td id=\"T_01c89e60_83ef_11ea_a085_c0b5d7dc9e03row0_col4\" class=\"data row0 col4\" >0.003562</td>\n",
       "                        <td id=\"T_01c89e60_83ef_11ea_a085_c0b5d7dc9e03row0_col5\" class=\"data row0 col5\" >0.004048</td>\n",
       "                        <td id=\"T_01c89e60_83ef_11ea_a085_c0b5d7dc9e03row0_col6\" class=\"data row0 col6\" >-0.001455</td>\n",
       "                        <td id=\"T_01c89e60_83ef_11ea_a085_c0b5d7dc9e03row0_col7\" class=\"data row0 col7\" >-0.004602</td>\n",
       "                        <td id=\"T_01c89e60_83ef_11ea_a085_c0b5d7dc9e03row0_col8\" class=\"data row0 col8\" >-0.069854</td>\n",
       "            </tr>\n",
       "            <tr>\n",
       "                        <th id=\"T_01c89e60_83ef_11ea_a085_c0b5d7dc9e03level0_row1\" class=\"row_heading level0 row1\" >age</th>\n",
       "                        <td id=\"T_01c89e60_83ef_11ea_a085_c0b5d7dc9e03row1_col0\" class=\"data row1 col0\" >-0.132503</td>\n",
       "                        <td id=\"T_01c89e60_83ef_11ea_a085_c0b5d7dc9e03row1_col1\" class=\"data row1 col1\" >1.000000</td>\n",
       "                        <td id=\"T_01c89e60_83ef_11ea_a085_c0b5d7dc9e03row1_col2\" class=\"data row1 col2\" >-0.009134</td>\n",
       "                        <td id=\"T_01c89e60_83ef_11ea_a085_c0b5d7dc9e03row1_col3\" class=\"data row1 col3\" >0.305578</td>\n",
       "                        <td id=\"T_01c89e60_83ef_11ea_a085_c0b5d7dc9e03row1_col4\" class=\"data row1 col4\" >-0.000628</td>\n",
       "                        <td id=\"T_01c89e60_83ef_11ea_a085_c0b5d7dc9e03row1_col5\" class=\"data row1 col5\" >0.000901</td>\n",
       "                        <td id=\"T_01c89e60_83ef_11ea_a085_c0b5d7dc9e03row1_col6\" class=\"data row1 col6\" >-0.000435</td>\n",
       "                        <td id=\"T_01c89e60_83ef_11ea_a085_c0b5d7dc9e03row1_col7\" class=\"data row1 col7\" >-0.001330</td>\n",
       "                        <td id=\"T_01c89e60_83ef_11ea_a085_c0b5d7dc9e03row1_col8\" class=\"data row1 col8\" >0.068896</td>\n",
       "            </tr>\n",
       "            <tr>\n",
       "                        <th id=\"T_01c89e60_83ef_11ea_a085_c0b5d7dc9e03level0_row2\" class=\"row_heading level0 row2\" >became_member_on</th>\n",
       "                        <td id=\"T_01c89e60_83ef_11ea_a085_c0b5d7dc9e03row2_col0\" class=\"data row2 col0\" >-0.001327</td>\n",
       "                        <td id=\"T_01c89e60_83ef_11ea_a085_c0b5d7dc9e03row2_col1\" class=\"data row2 col1\" >-0.009134</td>\n",
       "                        <td id=\"T_01c89e60_83ef_11ea_a085_c0b5d7dc9e03row2_col2\" class=\"data row2 col2\" >1.000000</td>\n",
       "                        <td id=\"T_01c89e60_83ef_11ea_a085_c0b5d7dc9e03row2_col3\" class=\"data row2 col3\" >-0.025077</td>\n",
       "                        <td id=\"T_01c89e60_83ef_11ea_a085_c0b5d7dc9e03row2_col4\" class=\"data row2 col4\" >0.004457</td>\n",
       "                        <td id=\"T_01c89e60_83ef_11ea_a085_c0b5d7dc9e03row2_col5\" class=\"data row2 col5\" >-0.001822</td>\n",
       "                        <td id=\"T_01c89e60_83ef_11ea_a085_c0b5d7dc9e03row2_col6\" class=\"data row2 col6\" >-0.001765</td>\n",
       "                        <td id=\"T_01c89e60_83ef_11ea_a085_c0b5d7dc9e03row2_col7\" class=\"data row2 col7\" >-0.004337</td>\n",
       "                        <td id=\"T_01c89e60_83ef_11ea_a085_c0b5d7dc9e03row2_col8\" class=\"data row2 col8\" >-0.154178</td>\n",
       "            </tr>\n",
       "            <tr>\n",
       "                        <th id=\"T_01c89e60_83ef_11ea_a085_c0b5d7dc9e03level0_row3\" class=\"row_heading level0 row3\" >income</th>\n",
       "                        <td id=\"T_01c89e60_83ef_11ea_a085_c0b5d7dc9e03row3_col0\" class=\"data row3 col0\" >-0.204161</td>\n",
       "                        <td id=\"T_01c89e60_83ef_11ea_a085_c0b5d7dc9e03row3_col1\" class=\"data row3 col1\" >0.305578</td>\n",
       "                        <td id=\"T_01c89e60_83ef_11ea_a085_c0b5d7dc9e03row3_col2\" class=\"data row3 col2\" >-0.025077</td>\n",
       "                        <td id=\"T_01c89e60_83ef_11ea_a085_c0b5d7dc9e03row3_col3\" class=\"data row3 col3\" >1.000000</td>\n",
       "                        <td id=\"T_01c89e60_83ef_11ea_a085_c0b5d7dc9e03row3_col4\" class=\"data row3 col4\" >-0.002443</td>\n",
       "                        <td id=\"T_01c89e60_83ef_11ea_a085_c0b5d7dc9e03row3_col5\" class=\"data row3 col5\" >-0.003093</td>\n",
       "                        <td id=\"T_01c89e60_83ef_11ea_a085_c0b5d7dc9e03row3_col6\" class=\"data row3 col6\" >-0.001331</td>\n",
       "                        <td id=\"T_01c89e60_83ef_11ea_a085_c0b5d7dc9e03row3_col7\" class=\"data row3 col7\" >0.002803</td>\n",
       "                        <td id=\"T_01c89e60_83ef_11ea_a085_c0b5d7dc9e03row3_col8\" class=\"data row3 col8\" >0.136830</td>\n",
       "            </tr>\n",
       "            <tr>\n",
       "                        <th id=\"T_01c89e60_83ef_11ea_a085_c0b5d7dc9e03level0_row4\" class=\"row_heading level0 row4\" >type</th>\n",
       "                        <td id=\"T_01c89e60_83ef_11ea_a085_c0b5d7dc9e03row4_col0\" class=\"data row4 col0\" >0.003562</td>\n",
       "                        <td id=\"T_01c89e60_83ef_11ea_a085_c0b5d7dc9e03row4_col1\" class=\"data row4 col1\" >-0.000628</td>\n",
       "                        <td id=\"T_01c89e60_83ef_11ea_a085_c0b5d7dc9e03row4_col2\" class=\"data row4 col2\" >0.004457</td>\n",
       "                        <td id=\"T_01c89e60_83ef_11ea_a085_c0b5d7dc9e03row4_col3\" class=\"data row4 col3\" >-0.002443</td>\n",
       "                        <td id=\"T_01c89e60_83ef_11ea_a085_c0b5d7dc9e03row4_col4\" class=\"data row4 col4\" >1.000000</td>\n",
       "                        <td id=\"T_01c89e60_83ef_11ea_a085_c0b5d7dc9e03row4_col5\" class=\"data row4 col5\" >0.699648</td>\n",
       "                        <td id=\"T_01c89e60_83ef_11ea_a085_c0b5d7dc9e03row4_col6\" class=\"data row4 col6\" >0.479191</td>\n",
       "                        <td id=\"T_01c89e60_83ef_11ea_a085_c0b5d7dc9e03row4_col7\" class=\"data row4 col7\" >-0.752348</td>\n",
       "                        <td id=\"T_01c89e60_83ef_11ea_a085_c0b5d7dc9e03row4_col8\" class=\"data row4 col8\" >0.041304</td>\n",
       "            </tr>\n",
       "            <tr>\n",
       "                        <th id=\"T_01c89e60_83ef_11ea_a085_c0b5d7dc9e03level0_row5\" class=\"row_heading level0 row5\" >duration</th>\n",
       "                        <td id=\"T_01c89e60_83ef_11ea_a085_c0b5d7dc9e03row5_col0\" class=\"data row5 col0\" >0.004048</td>\n",
       "                        <td id=\"T_01c89e60_83ef_11ea_a085_c0b5d7dc9e03row5_col1\" class=\"data row5 col1\" >0.000901</td>\n",
       "                        <td id=\"T_01c89e60_83ef_11ea_a085_c0b5d7dc9e03row5_col2\" class=\"data row5 col2\" >-0.001822</td>\n",
       "                        <td id=\"T_01c89e60_83ef_11ea_a085_c0b5d7dc9e03row5_col3\" class=\"data row5 col3\" >-0.003093</td>\n",
       "                        <td id=\"T_01c89e60_83ef_11ea_a085_c0b5d7dc9e03row5_col4\" class=\"data row5 col4\" >0.699648</td>\n",
       "                        <td id=\"T_01c89e60_83ef_11ea_a085_c0b5d7dc9e03row5_col5\" class=\"data row5 col5\" >1.000000</td>\n",
       "                        <td id=\"T_01c89e60_83ef_11ea_a085_c0b5d7dc9e03row5_col6\" class=\"data row5 col6\" >0.643648</td>\n",
       "                        <td id=\"T_01c89e60_83ef_11ea_a085_c0b5d7dc9e03row5_col7\" class=\"data row5 col7\" >-0.455532</td>\n",
       "                        <td id=\"T_01c89e60_83ef_11ea_a085_c0b5d7dc9e03row5_col8\" class=\"data row5 col8\" >-0.021681</td>\n",
       "            </tr>\n",
       "            <tr>\n",
       "                        <th id=\"T_01c89e60_83ef_11ea_a085_c0b5d7dc9e03level0_row6\" class=\"row_heading level0 row6\" >difficulty</th>\n",
       "                        <td id=\"T_01c89e60_83ef_11ea_a085_c0b5d7dc9e03row6_col0\" class=\"data row6 col0\" >-0.001455</td>\n",
       "                        <td id=\"T_01c89e60_83ef_11ea_a085_c0b5d7dc9e03row6_col1\" class=\"data row6 col1\" >-0.000435</td>\n",
       "                        <td id=\"T_01c89e60_83ef_11ea_a085_c0b5d7dc9e03row6_col2\" class=\"data row6 col2\" >-0.001765</td>\n",
       "                        <td id=\"T_01c89e60_83ef_11ea_a085_c0b5d7dc9e03row6_col3\" class=\"data row6 col3\" >-0.001331</td>\n",
       "                        <td id=\"T_01c89e60_83ef_11ea_a085_c0b5d7dc9e03row6_col4\" class=\"data row6 col4\" >0.479191</td>\n",
       "                        <td id=\"T_01c89e60_83ef_11ea_a085_c0b5d7dc9e03row6_col5\" class=\"data row6 col5\" >0.643648</td>\n",
       "                        <td id=\"T_01c89e60_83ef_11ea_a085_c0b5d7dc9e03row6_col6\" class=\"data row6 col6\" >1.000000</td>\n",
       "                        <td id=\"T_01c89e60_83ef_11ea_a085_c0b5d7dc9e03row6_col7\" class=\"data row6 col7\" >0.063028</td>\n",
       "                        <td id=\"T_01c89e60_83ef_11ea_a085_c0b5d7dc9e03row6_col8\" class=\"data row6 col8\" >-0.154155</td>\n",
       "            </tr>\n",
       "            <tr>\n",
       "                        <th id=\"T_01c89e60_83ef_11ea_a085_c0b5d7dc9e03level0_row7\" class=\"row_heading level0 row7\" >reward</th>\n",
       "                        <td id=\"T_01c89e60_83ef_11ea_a085_c0b5d7dc9e03row7_col0\" class=\"data row7 col0\" >-0.004602</td>\n",
       "                        <td id=\"T_01c89e60_83ef_11ea_a085_c0b5d7dc9e03row7_col1\" class=\"data row7 col1\" >-0.001330</td>\n",
       "                        <td id=\"T_01c89e60_83ef_11ea_a085_c0b5d7dc9e03row7_col2\" class=\"data row7 col2\" >-0.004337</td>\n",
       "                        <td id=\"T_01c89e60_83ef_11ea_a085_c0b5d7dc9e03row7_col3\" class=\"data row7 col3\" >0.002803</td>\n",
       "                        <td id=\"T_01c89e60_83ef_11ea_a085_c0b5d7dc9e03row7_col4\" class=\"data row7 col4\" >-0.752348</td>\n",
       "                        <td id=\"T_01c89e60_83ef_11ea_a085_c0b5d7dc9e03row7_col5\" class=\"data row7 col5\" >-0.455532</td>\n",
       "                        <td id=\"T_01c89e60_83ef_11ea_a085_c0b5d7dc9e03row7_col6\" class=\"data row7 col6\" >0.063028</td>\n",
       "                        <td id=\"T_01c89e60_83ef_11ea_a085_c0b5d7dc9e03row7_col7\" class=\"data row7 col7\" >1.000000</td>\n",
       "                        <td id=\"T_01c89e60_83ef_11ea_a085_c0b5d7dc9e03row7_col8\" class=\"data row7 col8\" >-0.082538</td>\n",
       "            </tr>\n",
       "            <tr>\n",
       "                        <th id=\"T_01c89e60_83ef_11ea_a085_c0b5d7dc9e03level0_row8\" class=\"row_heading level0 row8\" >completed</th>\n",
       "                        <td id=\"T_01c89e60_83ef_11ea_a085_c0b5d7dc9e03row8_col0\" class=\"data row8 col0\" >-0.069854</td>\n",
       "                        <td id=\"T_01c89e60_83ef_11ea_a085_c0b5d7dc9e03row8_col1\" class=\"data row8 col1\" >0.068896</td>\n",
       "                        <td id=\"T_01c89e60_83ef_11ea_a085_c0b5d7dc9e03row8_col2\" class=\"data row8 col2\" >-0.154178</td>\n",
       "                        <td id=\"T_01c89e60_83ef_11ea_a085_c0b5d7dc9e03row8_col3\" class=\"data row8 col3\" >0.136830</td>\n",
       "                        <td id=\"T_01c89e60_83ef_11ea_a085_c0b5d7dc9e03row8_col4\" class=\"data row8 col4\" >0.041304</td>\n",
       "                        <td id=\"T_01c89e60_83ef_11ea_a085_c0b5d7dc9e03row8_col5\" class=\"data row8 col5\" >-0.021681</td>\n",
       "                        <td id=\"T_01c89e60_83ef_11ea_a085_c0b5d7dc9e03row8_col6\" class=\"data row8 col6\" >-0.154155</td>\n",
       "                        <td id=\"T_01c89e60_83ef_11ea_a085_c0b5d7dc9e03row8_col7\" class=\"data row8 col7\" >-0.082538</td>\n",
       "                        <td id=\"T_01c89e60_83ef_11ea_a085_c0b5d7dc9e03row8_col8\" class=\"data row8 col8\" >1.000000</td>\n",
       "            </tr>\n",
       "    </tbody></table>"
      ],
      "text/plain": [
       "<pandas.io.formats.style.Styler at 0x7f49ab18a8d0>"
      ]
     },
     "execution_count": 88,
     "metadata": {},
     "output_type": "execute_result"
    }
   ],
   "source": [
    "corr = corr_df.corr()\n",
    "corr.style.background_gradient(cmap='coolwarm')"
   ]
  },
  {
   "cell_type": "markdown",
   "metadata": {},
   "source": [
    "### #TODO plot some graphs looking at promotion completion vs. its rewards and difficulties"
   ]
  },
  {
   "cell_type": "markdown",
   "metadata": {},
   "source": [
    "## XGBoost\n",
    "\n",
    "Ideas:\n",
    "1. Given demographics and promotion type, predict if it is going to be completed or not\n",
    "2. Given demographics and promotion type, predict optimal reward/difficulty\n",
    "3. Given promotion type, reward and difficulty, predict to which demographic it would be most succesful."
   ]
  },
  {
   "cell_type": "code",
   "execution_count": 24,
   "metadata": {},
   "outputs": [],
   "source": [
    "import xgboost as xgb\n",
    "from sklearn.model_selection import train_test_split\n",
    "from sklearn.metrics import accuracy_score\n",
    "from sklearn.svm import SVC\n",
    "from sklearn.ensemble import RandomForestClassifier"
   ]
  },
  {
   "cell_type": "code",
   "execution_count": 25,
   "metadata": {},
   "outputs": [],
   "source": [
    "train_df = dataset.copy()\n",
    "train_df['gender'] = dataset['gender'].map({'F': 0, 'M': 1, 'O': 3})\n",
    "train_df['type'] = dataset['type'].map({'bogo': 0, 'discount': 1})"
   ]
  },
  {
   "cell_type": "code",
   "execution_count": 26,
   "metadata": {},
   "outputs": [],
   "source": [
    "def make_dataset(train_df, feature_cols, label_cols, make_val=True):\n",
    "    X = train_df[feature_cols].values\n",
    "    y = train_df[label_cols].values\n",
    "    \n",
    "    X_train, X_test, y_train, y_test = train_test_split(X, y, \n",
    "                                                        test_size=0.33, \n",
    "                                                        random_state=42)\n",
    "    y_train = y_train.reshape(-1)\n",
    "    y_test  = y_test.reshape(-1)\n",
    "    \n",
    "    assert X_train.shape[0] == y_train.shape[0]\n",
    "    assert X_test.shape[0]  == y_test.shape[0]\n",
    "    \n",
    "    if make_val:\n",
    "        X_train, X_val, y_train, y_val = train_test_split(X_train, y_train, \n",
    "                                                          test_size=0.33, \n",
    "                                                          random_state=42)\n",
    "        y_val = y_val.reshape(-1)\n",
    "        assert X_val.shape[0]   == y_val.shape[0]\n",
    "    \n",
    "    \n",
    "        return X_train, y_train, X_val, y_val, X_test, y_test\n",
    "    return X_train, y_train, X_test, y_test"
   ]
  },
  {
   "cell_type": "markdown",
   "metadata": {},
   "source": [
    "### Model 1"
   ]
  },
  {
   "cell_type": "code",
   "execution_count": 27,
   "metadata": {},
   "outputs": [],
   "source": [
    "features_cols = 'gender age income type'.split()\n",
    "labels_cols = ['completed']\n",
    "X_train, y_train, X_val, y_val, X_test, y_test = make_dataset(train_df,\n",
    "                                                              features_cols,\n",
    "                                                              labels_cols)"
   ]
  },
  {
   "cell_type": "code",
   "execution_count": 28,
   "metadata": {},
   "outputs": [
    {
     "data": {
      "text/plain": [
       "(23881, 10216)"
      ]
     },
     "execution_count": 28,
     "metadata": {},
     "output_type": "execute_result"
    }
   ],
   "source": [
    "y_train.shape[0], y_train.sum()"
   ]
  },
  {
   "cell_type": "code",
   "execution_count": 29,
   "metadata": {},
   "outputs": [
    {
     "name": "stdout",
     "output_type": "stream",
     "text": [
      "[0]\tvalidation_0-logloss:0.687988\tvalidation_0-auc:0.598092\tvalidation_0-error:0.420041\tvalidation_1-logloss:0.68773\tvalidation_1-auc:0.597393\tvalidation_1-error:0.419111\n",
      "[1]\tvalidation_0-logloss:0.683887\tvalidation_0-auc:0.602767\tvalidation_0-error:0.425443\tvalidation_1-logloss:0.683285\tvalidation_1-auc:0.602467\tvalidation_1-error:0.422596\n",
      "[2]\tvalidation_0-logloss:0.680401\tvalidation_0-auc:0.603549\tvalidation_0-error:0.425568\tvalidation_1-logloss:0.679518\tvalidation_1-auc:0.604105\tvalidation_1-error:0.422936\n",
      "[3]\tvalidation_0-logloss:0.677618\tvalidation_0-auc:0.603689\tvalidation_0-error:0.42561\tvalidation_1-logloss:0.676557\tvalidation_1-auc:0.604349\tvalidation_1-error:0.423021\n",
      "[4]\tvalidation_0-logloss:0.675243\tvalidation_0-auc:0.60418\tvalidation_0-error:0.425192\tvalidation_1-logloss:0.674126\tvalidation_1-auc:0.604736\tvalidation_1-error:0.422001\n",
      "[5]\tvalidation_0-logloss:0.673249\tvalidation_0-auc:0.604365\tvalidation_0-error:0.425652\tvalidation_1-logloss:0.67192\tvalidation_1-auc:0.605119\tvalidation_1-error:0.422936\n",
      "[6]\tvalidation_0-logloss:0.671623\tvalidation_0-auc:0.604427\tvalidation_0-error:0.425652\tvalidation_1-logloss:0.670261\tvalidation_1-auc:0.605077\tvalidation_1-error:0.422936\n",
      "[7]\tvalidation_0-logloss:0.670271\tvalidation_0-auc:0.604742\tvalidation_0-error:0.425108\tvalidation_1-logloss:0.668654\tvalidation_1-auc:0.606139\tvalidation_1-error:0.422001\n",
      "[8]\tvalidation_0-logloss:0.668984\tvalidation_0-auc:0.606606\tvalidation_0-error:0.425108\tvalidation_1-logloss:0.667123\tvalidation_1-auc:0.608962\tvalidation_1-error:0.422001\n",
      "[9]\tvalidation_0-logloss:0.667817\tvalidation_0-auc:0.607203\tvalidation_0-error:0.422093\tvalidation_1-logloss:0.665802\tvalidation_1-auc:0.609945\tvalidation_1-error:0.418091\n",
      "[10]\tvalidation_0-logloss:0.66701\tvalidation_0-auc:0.609267\tvalidation_0-error:0.42226\tvalidation_1-logloss:0.664906\tvalidation_1-auc:0.611342\tvalidation_1-error:0.418516\n",
      "[11]\tvalidation_0-logloss:0.666188\tvalidation_0-auc:0.609289\tvalidation_0-error:0.418324\tvalidation_1-logloss:0.663914\tvalidation_1-auc:0.61127\tvalidation_1-error:0.413245\n",
      "[12]\tvalidation_0-logloss:0.665463\tvalidation_0-auc:0.611182\tvalidation_0-error:0.417277\tvalidation_1-logloss:0.663109\tvalidation_1-auc:0.61259\tvalidation_1-error:0.41231\n",
      "[13]\tvalidation_0-logloss:0.664923\tvalidation_0-auc:0.612049\tvalidation_0-error:0.415393\tvalidation_1-logloss:0.662642\tvalidation_1-auc:0.612735\tvalidation_1-error:0.412395\n",
      "[14]\tvalidation_0-logloss:0.66436\tvalidation_0-auc:0.613752\tvalidation_0-error:0.410452\tvalidation_1-logloss:0.662003\tvalidation_1-auc:0.6142\tvalidation_1-error:0.407464\n",
      "[15]\tvalidation_0-logloss:0.663933\tvalidation_0-auc:0.614514\tvalidation_0-error:0.410284\tvalidation_1-logloss:0.661401\tvalidation_1-auc:0.615336\tvalidation_1-error:0.407209\n",
      "[16]\tvalidation_0-logloss:0.663607\tvalidation_0-auc:0.614854\tvalidation_0-error:0.409237\tvalidation_1-logloss:0.661056\tvalidation_1-auc:0.615519\tvalidation_1-error:0.407379\n",
      "[17]\tvalidation_0-logloss:0.663197\tvalidation_0-auc:0.615382\tvalidation_0-error:0.408526\tvalidation_1-logloss:0.660618\tvalidation_1-auc:0.616326\tvalidation_1-error:0.407379\n",
      "[18]\tvalidation_0-logloss:0.662946\tvalidation_0-auc:0.615588\tvalidation_0-error:0.408526\tvalidation_1-logloss:0.660408\tvalidation_1-auc:0.616297\tvalidation_1-error:0.407379\n",
      "[19]\tvalidation_0-logloss:0.662634\tvalidation_0-auc:0.615874\tvalidation_0-error:0.406934\tvalidation_1-logloss:0.660067\tvalidation_1-auc:0.616954\tvalidation_1-error:0.405424\n",
      "[20]\tvalidation_0-logloss:0.662259\tvalidation_0-auc:0.616364\tvalidation_0-error:0.406641\tvalidation_1-logloss:0.659708\tvalidation_1-auc:0.617581\tvalidation_1-error:0.405764\n",
      "[21]\tvalidation_0-logloss:0.662097\tvalidation_0-auc:0.616633\tvalidation_0-error:0.406683\tvalidation_1-logloss:0.659517\tvalidation_1-auc:0.617799\tvalidation_1-error:0.405764\n",
      "[22]\tvalidation_0-logloss:0.66178\tvalidation_0-auc:0.616835\tvalidation_0-error:0.406013\tvalidation_1-logloss:0.65914\tvalidation_1-auc:0.618023\tvalidation_1-error:0.406104\n",
      "[23]\tvalidation_0-logloss:0.66163\tvalidation_0-auc:0.617103\tvalidation_0-error:0.405636\tvalidation_1-logloss:0.658972\tvalidation_1-auc:0.618267\tvalidation_1-error:0.406019\n",
      "[24]\tvalidation_0-logloss:0.661493\tvalidation_0-auc:0.61722\tvalidation_0-error:0.406013\tvalidation_1-logloss:0.658886\tvalidation_1-auc:0.618016\tvalidation_1-error:0.406019\n",
      "[25]\tvalidation_0-logloss:0.661334\tvalidation_0-auc:0.617412\tvalidation_0-error:0.406767\tvalidation_1-logloss:0.658725\tvalidation_1-auc:0.618225\tvalidation_1-error:0.404574\n",
      "[26]\tvalidation_0-logloss:0.661186\tvalidation_0-auc:0.617536\tvalidation_0-error:0.406264\tvalidation_1-logloss:0.658645\tvalidation_1-auc:0.618177\tvalidation_1-error:0.406444\n",
      "[27]\tvalidation_0-logloss:0.661023\tvalidation_0-auc:0.617767\tvalidation_0-error:0.406013\tvalidation_1-logloss:0.658459\tvalidation_1-auc:0.618168\tvalidation_1-error:0.404829\n",
      "[28]\tvalidation_0-logloss:0.660909\tvalidation_0-auc:0.617923\tvalidation_0-error:0.406013\tvalidation_1-logloss:0.658411\tvalidation_1-auc:0.61813\tvalidation_1-error:0.404829\n",
      "[29]\tvalidation_0-logloss:0.660807\tvalidation_0-auc:0.618061\tvalidation_0-error:0.406013\tvalidation_1-logloss:0.658307\tvalidation_1-auc:0.618296\tvalidation_1-error:0.404829\n",
      "[30]\tvalidation_0-logloss:0.660618\tvalidation_0-auc:0.618558\tvalidation_0-error:0.406055\tvalidation_1-logloss:0.658043\tvalidation_1-auc:0.618949\tvalidation_1-error:0.404914\n",
      "[31]\tvalidation_0-logloss:0.66049\tvalidation_0-auc:0.618598\tvalidation_0-error:0.406306\tvalidation_1-logloss:0.657931\tvalidation_1-auc:0.619058\tvalidation_1-error:0.403979\n",
      "[32]\tvalidation_0-logloss:0.660392\tvalidation_0-auc:0.618743\tvalidation_0-error:0.405218\tvalidation_1-logloss:0.657829\tvalidation_1-auc:0.619053\tvalidation_1-error:0.401258\n",
      "[33]\tvalidation_0-logloss:0.660292\tvalidation_0-auc:0.619022\tvalidation_0-error:0.406809\tvalidation_1-logloss:0.657771\tvalidation_1-auc:0.619351\tvalidation_1-error:0.403979\n",
      "[34]\tvalidation_0-logloss:0.660168\tvalidation_0-auc:0.61929\tvalidation_0-error:0.404841\tvalidation_1-logloss:0.657671\tvalidation_1-auc:0.619527\tvalidation_1-error:0.400833\n",
      "[35]\tvalidation_0-logloss:0.660126\tvalidation_0-auc:0.619594\tvalidation_0-error:0.405427\tvalidation_1-logloss:0.657678\tvalidation_1-auc:0.619597\tvalidation_1-error:0.400153\n",
      "[36]\tvalidation_0-logloss:0.66003\tvalidation_0-auc:0.619756\tvalidation_0-error:0.40572\tvalidation_1-logloss:0.65761\tvalidation_1-auc:0.619615\tvalidation_1-error:0.400068\n",
      "[37]\tvalidation_0-logloss:0.659949\tvalidation_0-auc:0.620251\tvalidation_0-error:0.405469\tvalidation_1-logloss:0.657537\tvalidation_1-auc:0.61993\tvalidation_1-error:0.401258\n",
      "[38]\tvalidation_0-logloss:0.659847\tvalidation_0-auc:0.620432\tvalidation_0-error:0.405427\tvalidation_1-logloss:0.657542\tvalidation_1-auc:0.619841\tvalidation_1-error:0.401003\n",
      "[39]\tvalidation_0-logloss:0.659777\tvalidation_0-auc:0.620497\tvalidation_0-error:0.404966\tvalidation_1-logloss:0.657461\tvalidation_1-auc:0.61988\tvalidation_1-error:0.401428\n",
      "[40]\tvalidation_0-logloss:0.659684\tvalidation_0-auc:0.620813\tvalidation_0-error:0.405469\tvalidation_1-logloss:0.657408\tvalidation_1-auc:0.620094\tvalidation_1-error:0.402448\n",
      "[41]\tvalidation_0-logloss:0.659586\tvalidation_0-auc:0.620868\tvalidation_0-error:0.405594\tvalidation_1-logloss:0.657304\tvalidation_1-auc:0.620168\tvalidation_1-error:0.402278\n",
      "[42]\tvalidation_0-logloss:0.659495\tvalidation_0-auc:0.621077\tvalidation_0-error:0.404589\tvalidation_1-logloss:0.657215\tvalidation_1-auc:0.620116\tvalidation_1-error:0.401258\n",
      "[43]\tvalidation_0-logloss:0.659392\tvalidation_0-auc:0.621287\tvalidation_0-error:0.404254\tvalidation_1-logloss:0.657132\tvalidation_1-auc:0.620374\tvalidation_1-error:0.403128\n",
      "[44]\tvalidation_0-logloss:0.659353\tvalidation_0-auc:0.62148\tvalidation_0-error:0.404129\tvalidation_1-logloss:0.657113\tvalidation_1-auc:0.620515\tvalidation_1-error:0.402958\n",
      "[45]\tvalidation_0-logloss:0.659272\tvalidation_0-auc:0.621583\tvalidation_0-error:0.404129\tvalidation_1-logloss:0.657031\tvalidation_1-auc:0.620591\tvalidation_1-error:0.403043\n",
      "[46]\tvalidation_0-logloss:0.659213\tvalidation_0-auc:0.621782\tvalidation_0-error:0.403626\tvalidation_1-logloss:0.657011\tvalidation_1-auc:0.620713\tvalidation_1-error:0.403128\n",
      "[47]\tvalidation_0-logloss:0.65917\tvalidation_0-auc:0.621873\tvalidation_0-error:0.403584\tvalidation_1-logloss:0.657007\tvalidation_1-auc:0.620681\tvalidation_1-error:0.402788\n"
     ]
    },
    {
     "name": "stdout",
     "output_type": "stream",
     "text": [
      "[48]\tvalidation_0-logloss:0.659099\tvalidation_0-auc:0.6223\tvalidation_0-error:0.403208\tvalidation_1-logloss:0.65699\tvalidation_1-auc:0.620702\tvalidation_1-error:0.402788\n",
      "[49]\tvalidation_0-logloss:0.659019\tvalidation_0-auc:0.622603\tvalidation_0-error:0.402914\tvalidation_1-logloss:0.656985\tvalidation_1-auc:0.620526\tvalidation_1-error:0.403128\n",
      "[50]\tvalidation_0-logloss:0.658949\tvalidation_0-auc:0.622629\tvalidation_0-error:0.402914\tvalidation_1-logloss:0.656919\tvalidation_1-auc:0.620615\tvalidation_1-error:0.403128\n",
      "[51]\tvalidation_0-logloss:0.658889\tvalidation_0-auc:0.62269\tvalidation_0-error:0.402956\tvalidation_1-logloss:0.656913\tvalidation_1-auc:0.620509\tvalidation_1-error:0.403128\n",
      "[52]\tvalidation_0-logloss:0.658811\tvalidation_0-auc:0.6229\tvalidation_0-error:0.403166\tvalidation_1-logloss:0.656841\tvalidation_1-auc:0.620662\tvalidation_1-error:0.402448\n",
      "[53]\tvalidation_0-logloss:0.658768\tvalidation_0-auc:0.622983\tvalidation_0-error:0.403459\tvalidation_1-logloss:0.656836\tvalidation_1-auc:0.620675\tvalidation_1-error:0.402533\n",
      "[54]\tvalidation_0-logloss:0.658691\tvalidation_0-auc:0.623466\tvalidation_0-error:0.402621\tvalidation_1-logloss:0.656832\tvalidation_1-auc:0.620794\tvalidation_1-error:0.402448\n",
      "[55]\tvalidation_0-logloss:0.658611\tvalidation_0-auc:0.623819\tvalidation_0-error:0.402747\tvalidation_1-logloss:0.656845\tvalidation_1-auc:0.620758\tvalidation_1-error:0.402958\n",
      "[56]\tvalidation_0-logloss:0.65856\tvalidation_0-auc:0.623961\tvalidation_0-error:0.402663\tvalidation_1-logloss:0.656847\tvalidation_1-auc:0.620786\tvalidation_1-error:0.402873\n",
      "[57]\tvalidation_0-logloss:0.658527\tvalidation_0-auc:0.62406\tvalidation_0-error:0.402747\tvalidation_1-logloss:0.656852\tvalidation_1-auc:0.620728\tvalidation_1-error:0.402958\n",
      "[58]\tvalidation_0-logloss:0.658481\tvalidation_0-auc:0.624195\tvalidation_0-error:0.40237\tvalidation_1-logloss:0.656858\tvalidation_1-auc:0.620768\tvalidation_1-error:0.402618\n",
      "[59]\tvalidation_0-logloss:0.658441\tvalidation_0-auc:0.624285\tvalidation_0-error:0.40237\tvalidation_1-logloss:0.656866\tvalidation_1-auc:0.62075\tvalidation_1-error:0.402448\n",
      "[60]\tvalidation_0-logloss:0.658408\tvalidation_0-auc:0.624283\tvalidation_0-error:0.402328\tvalidation_1-logloss:0.656915\tvalidation_1-auc:0.620627\tvalidation_1-error:0.402618\n",
      "[61]\tvalidation_0-logloss:0.658347\tvalidation_0-auc:0.624413\tvalidation_0-error:0.40237\tvalidation_1-logloss:0.656882\tvalidation_1-auc:0.620633\tvalidation_1-error:0.402278\n",
      "[62]\tvalidation_0-logloss:0.658293\tvalidation_0-auc:0.62454\tvalidation_0-error:0.402203\tvalidation_1-logloss:0.65691\tvalidation_1-auc:0.62069\tvalidation_1-error:0.402533\n",
      "[63]\tvalidation_0-logloss:0.658214\tvalidation_0-auc:0.624672\tvalidation_0-error:0.402621\tvalidation_1-logloss:0.656918\tvalidation_1-auc:0.620603\tvalidation_1-error:0.402703\n",
      "[64]\tvalidation_0-logloss:0.658177\tvalidation_0-auc:0.624757\tvalidation_0-error:0.402579\tvalidation_1-logloss:0.656961\tvalidation_1-auc:0.620583\tvalidation_1-error:0.402703\n",
      "[65]\tvalidation_0-logloss:0.658084\tvalidation_0-auc:0.624857\tvalidation_0-error:0.402579\tvalidation_1-logloss:0.656961\tvalidation_1-auc:0.620578\tvalidation_1-error:0.402703\n",
      "[66]\tvalidation_0-logloss:0.658066\tvalidation_0-auc:0.624891\tvalidation_0-error:0.402538\tvalidation_1-logloss:0.656973\tvalidation_1-auc:0.620586\tvalidation_1-error:0.402703\n",
      "[67]\tvalidation_0-logloss:0.65799\tvalidation_0-auc:0.625092\tvalidation_0-error:0.401742\tvalidation_1-logloss:0.656961\tvalidation_1-auc:0.62071\tvalidation_1-error:0.402533\n",
      "[68]\tvalidation_0-logloss:0.657935\tvalidation_0-auc:0.625206\tvalidation_0-error:0.401909\tvalidation_1-logloss:0.65694\tvalidation_1-auc:0.620718\tvalidation_1-error:0.402703\n",
      "[69]\tvalidation_0-logloss:0.657864\tvalidation_0-auc:0.625417\tvalidation_0-error:0.400737\tvalidation_1-logloss:0.656906\tvalidation_1-auc:0.620853\tvalidation_1-error:0.402193\n",
      "[70]\tvalidation_0-logloss:0.65784\tvalidation_0-auc:0.625449\tvalidation_0-error:0.400653\tvalidation_1-logloss:0.656914\tvalidation_1-auc:0.620823\tvalidation_1-error:0.401768\n",
      "[71]\tvalidation_0-logloss:0.657807\tvalidation_0-auc:0.625485\tvalidation_0-error:0.401365\tvalidation_1-logloss:0.656912\tvalidation_1-auc:0.620898\tvalidation_1-error:0.402023\n",
      "[72]\tvalidation_0-logloss:0.657779\tvalidation_0-auc:0.625516\tvalidation_0-error:0.401114\tvalidation_1-logloss:0.656917\tvalidation_1-auc:0.620832\tvalidation_1-error:0.402023\n",
      "[73]\tvalidation_0-logloss:0.657722\tvalidation_0-auc:0.625576\tvalidation_0-error:0.401323\tvalidation_1-logloss:0.656923\tvalidation_1-auc:0.620782\tvalidation_1-error:0.402023\n",
      "[74]\tvalidation_0-logloss:0.657701\tvalidation_0-auc:0.625605\tvalidation_0-error:0.401323\tvalidation_1-logloss:0.656937\tvalidation_1-auc:0.62072\tvalidation_1-error:0.401938\n",
      "[75]\tvalidation_0-logloss:0.657637\tvalidation_0-auc:0.625688\tvalidation_0-error:0.401281\tvalidation_1-logloss:0.656965\tvalidation_1-auc:0.620644\tvalidation_1-error:0.402193\n",
      "[76]\tvalidation_0-logloss:0.657576\tvalidation_0-auc:0.625734\tvalidation_0-error:0.401281\tvalidation_1-logloss:0.656986\tvalidation_1-auc:0.62059\tvalidation_1-error:0.402193\n",
      "[77]\tvalidation_0-logloss:0.657549\tvalidation_0-auc:0.625844\tvalidation_0-error:0.401281\tvalidation_1-logloss:0.656978\tvalidation_1-auc:0.620613\tvalidation_1-error:0.402533\n",
      "[78]\tvalidation_0-logloss:0.657492\tvalidation_0-auc:0.62596\tvalidation_0-error:0.401407\tvalidation_1-logloss:0.656933\tvalidation_1-auc:0.620657\tvalidation_1-error:0.401938\n",
      "[79]\tvalidation_0-logloss:0.657439\tvalidation_0-auc:0.626092\tvalidation_0-error:0.401491\tvalidation_1-logloss:0.656895\tvalidation_1-auc:0.620809\tvalidation_1-error:0.402108\n",
      "[80]\tvalidation_0-logloss:0.657401\tvalidation_0-auc:0.626233\tvalidation_0-error:0.401449\tvalidation_1-logloss:0.656905\tvalidation_1-auc:0.620783\tvalidation_1-error:0.402363\n",
      "[81]\tvalidation_0-logloss:0.657376\tvalidation_0-auc:0.626252\tvalidation_0-error:0.401491\tvalidation_1-logloss:0.656921\tvalidation_1-auc:0.62072\tvalidation_1-error:0.402618\n",
      "[82]\tvalidation_0-logloss:0.65732\tvalidation_0-auc:0.626362\tvalidation_0-error:0.401449\tvalidation_1-logloss:0.65692\tvalidation_1-auc:0.62075\tvalidation_1-error:0.402873\n",
      "[83]\tvalidation_0-logloss:0.657306\tvalidation_0-auc:0.626395\tvalidation_0-error:0.401449\tvalidation_1-logloss:0.656924\tvalidation_1-auc:0.620773\tvalidation_1-error:0.402873\n",
      "[84]\tvalidation_0-logloss:0.657226\tvalidation_0-auc:0.626685\tvalidation_0-error:0.401574\tvalidation_1-logloss:0.656918\tvalidation_1-auc:0.620761\tvalidation_1-error:0.402958\n",
      "[85]\tvalidation_0-logloss:0.657161\tvalidation_0-auc:0.626947\tvalidation_0-error:0.401993\tvalidation_1-logloss:0.65687\tvalidation_1-auc:0.621033\tvalidation_1-error:0.402278\n",
      "[86]\tvalidation_0-logloss:0.657084\tvalidation_0-auc:0.627112\tvalidation_0-error:0.401784\tvalidation_1-logloss:0.656929\tvalidation_1-auc:0.620952\tvalidation_1-error:0.402618\n",
      "[87]\tvalidation_0-logloss:0.657029\tvalidation_0-auc:0.627202\tvalidation_0-error:0.401533\tvalidation_1-logloss:0.656927\tvalidation_1-auc:0.620937\tvalidation_1-error:0.402278\n",
      "[88]\tvalidation_0-logloss:0.656987\tvalidation_0-auc:0.627305\tvalidation_0-error:0.401407\tvalidation_1-logloss:0.656938\tvalidation_1-auc:0.620885\tvalidation_1-error:0.402278\n",
      "[89]\tvalidation_0-logloss:0.656942\tvalidation_0-auc:0.627335\tvalidation_0-error:0.401449\tvalidation_1-logloss:0.656957\tvalidation_1-auc:0.620834\tvalidation_1-error:0.402278\n",
      "[90]\tvalidation_0-logloss:0.656898\tvalidation_0-auc:0.627455\tvalidation_0-error:0.401407\tvalidation_1-logloss:0.656918\tvalidation_1-auc:0.620921\tvalidation_1-error:0.402533\n",
      "[91]\tvalidation_0-logloss:0.656834\tvalidation_0-auc:0.627641\tvalidation_0-error:0.402203\tvalidation_1-logloss:0.656882\tvalidation_1-auc:0.620957\tvalidation_1-error:0.402108\n",
      "[92]\tvalidation_0-logloss:0.656763\tvalidation_0-auc:0.627766\tvalidation_0-error:0.401658\tvalidation_1-logloss:0.65682\tvalidation_1-auc:0.621125\tvalidation_1-error:0.402023\n",
      "[93]\tvalidation_0-logloss:0.656717\tvalidation_0-auc:0.627878\tvalidation_0-error:0.401616\tvalidation_1-logloss:0.656817\tvalidation_1-auc:0.621149\tvalidation_1-error:0.402023\n",
      "[94]\tvalidation_0-logloss:0.656683\tvalidation_0-auc:0.627911\tvalidation_0-error:0.401658\tvalidation_1-logloss:0.656796\tvalidation_1-auc:0.621177\tvalidation_1-error:0.401768\n",
      "[95]\tvalidation_0-logloss:0.656634\tvalidation_0-auc:0.628114\tvalidation_0-error:0.401156\tvalidation_1-logloss:0.656775\tvalidation_1-auc:0.621286\tvalidation_1-error:0.401938\n"
     ]
    },
    {
     "name": "stdout",
     "output_type": "stream",
     "text": [
      "[96]\tvalidation_0-logloss:0.656621\tvalidation_0-auc:0.628129\tvalidation_0-error:0.401114\tvalidation_1-logloss:0.656773\tvalidation_1-auc:0.621298\tvalidation_1-error:0.401938\n",
      "[97]\tvalidation_0-logloss:0.656546\tvalidation_0-auc:0.628358\tvalidation_0-error:0.401239\tvalidation_1-logloss:0.656737\tvalidation_1-auc:0.621553\tvalidation_1-error:0.402193\n",
      "[98]\tvalidation_0-logloss:0.656473\tvalidation_0-auc:0.628514\tvalidation_0-error:0.400653\tvalidation_1-logloss:0.656715\tvalidation_1-auc:0.621641\tvalidation_1-error:0.401428\n",
      "[99]\tvalidation_0-logloss:0.656376\tvalidation_0-auc:0.628809\tvalidation_0-error:0.400486\tvalidation_1-logloss:0.65665\tvalidation_1-auc:0.621828\tvalidation_1-error:0.401088\n"
     ]
    }
   ],
   "source": [
    "model = xgb.XGBClassifier(seed=42).fit(X_train, y_train, \n",
    "                                       eval_set=[(X_train, y_train), (X_val, y_val)], \n",
    "                                       eval_metric=['logloss', 'auc', 'error'])"
   ]
  },
  {
   "cell_type": "code",
   "execution_count": 30,
   "metadata": {},
   "outputs": [
    {
     "data": {
      "text/plain": [
       "0.5895654155037877"
      ]
     },
     "execution_count": 30,
     "metadata": {},
     "output_type": "execute_result"
    }
   ],
   "source": [
    "preds = model.predict(X_test)\n",
    "accuracy_score(y_test, preds)"
   ]
  },
  {
   "cell_type": "markdown",
   "metadata": {},
   "source": [
    "#### Quick tests with other algorithms to compare results"
   ]
  },
  {
   "cell_type": "code",
   "execution_count": 31,
   "metadata": {},
   "outputs": [
    {
     "data": {
      "text/plain": [
       "0.5843253403201002"
      ]
     },
     "execution_count": 31,
     "metadata": {},
     "output_type": "execute_result"
    }
   ],
   "source": [
    "clf = SVC(gamma='auto')\n",
    "clf.fit(X_train, y_train)\n",
    "preds = clf.predict(X_test)\n",
    "accuracy_score(y_test, preds)"
   ]
  },
  {
   "cell_type": "code",
   "execution_count": 32,
   "metadata": {},
   "outputs": [
    {
     "data": {
      "text/plain": [
       "0.5785156917468816"
      ]
     },
     "execution_count": 32,
     "metadata": {},
     "output_type": "execute_result"
    }
   ],
   "source": [
    "clf = RandomForestClassifier(n_estimators=100)\n",
    "clf.fit(X_train, y_train)\n",
    "preds = clf.predict(X_test)\n",
    "accuracy_score(y_test, preds)"
   ]
  },
  {
   "cell_type": "markdown",
   "metadata": {},
   "source": [
    "### Model 2"
   ]
  },
  {
   "cell_type": "code",
   "execution_count": 33,
   "metadata": {},
   "outputs": [],
   "source": [
    "features_cols = 'gender age income'.split()\n",
    "labels_cols = ['type']\n",
    "X_train, y_train, X_val, y_val, X_test, y_test = make_dataset(train_df,\n",
    "                                                              features_cols,\n",
    "                                                              labels_cols)"
   ]
  },
  {
   "cell_type": "code",
   "execution_count": 34,
   "metadata": {},
   "outputs": [
    {
     "data": {
      "text/plain": [
       "((11763,), 5873)"
      ]
     },
     "execution_count": 34,
     "metadata": {},
     "output_type": "execute_result"
    }
   ],
   "source": [
    "y_val.shape, y_val.sum() # ~6k of discount promos"
   ]
  },
  {
   "cell_type": "code",
   "execution_count": 35,
   "metadata": {},
   "outputs": [
    {
     "name": "stdout",
     "output_type": "stream",
     "text": [
      "[0]\tvalidation_0-logloss:0.693142\tvalidation_0-auc:0.508235\tvalidation_0-error:0.495373\tvalidation_1-logloss:0.693153\tvalidation_1-auc:0.500803\tvalidation_1-error:0.500638\n",
      "[1]\tvalidation_0-logloss:0.692831\tvalidation_0-auc:0.510367\tvalidation_0-error:0.494996\tvalidation_1-logloss:0.693137\tvalidation_1-auc:0.49988\tvalidation_1-error:0.500638\n",
      "[2]\tvalidation_0-logloss:0.692879\tvalidation_0-auc:0.518207\tvalidation_0-error:0.488673\tvalidation_1-logloss:0.693172\tvalidation_1-auc:0.499915\tvalidation_1-error:0.499532\n",
      "[3]\tvalidation_0-logloss:0.6926\tvalidation_0-auc:0.517976\tvalidation_0-error:0.488673\tvalidation_1-logloss:0.693254\tvalidation_1-auc:0.49974\tvalidation_1-error:0.499617\n",
      "[4]\tvalidation_0-logloss:0.692529\tvalidation_0-auc:0.517839\tvalidation_0-error:0.488673\tvalidation_1-logloss:0.693351\tvalidation_1-auc:0.499584\tvalidation_1-error:0.499617\n",
      "[5]\tvalidation_0-logloss:0.69255\tvalidation_0-auc:0.518562\tvalidation_0-error:0.488799\tvalidation_1-logloss:0.693316\tvalidation_1-auc:0.49972\tvalidation_1-error:0.499617\n",
      "[6]\tvalidation_0-logloss:0.692314\tvalidation_0-auc:0.519032\tvalidation_0-error:0.488631\tvalidation_1-logloss:0.693416\tvalidation_1-auc:0.499343\tvalidation_1-error:0.499702\n",
      "[7]\tvalidation_0-logloss:0.692244\tvalidation_0-auc:0.518909\tvalidation_0-error:0.488631\tvalidation_1-logloss:0.693421\tvalidation_1-auc:0.499417\tvalidation_1-error:0.499702\n",
      "[8]\tvalidation_0-logloss:0.692348\tvalidation_0-auc:0.519678\tvalidation_0-error:0.488338\tvalidation_1-logloss:0.693418\tvalidation_1-auc:0.499553\tvalidation_1-error:0.499617\n",
      "[9]\tvalidation_0-logloss:0.692082\tvalidation_0-auc:0.52236\tvalidation_0-error:0.486161\tvalidation_1-logloss:0.693433\tvalidation_1-auc:0.500543\tvalidation_1-error:0.499022\n",
      "[10]\tvalidation_0-logloss:0.692191\tvalidation_0-auc:0.522486\tvalidation_0-error:0.486077\tvalidation_1-logloss:0.693492\tvalidation_1-auc:0.500652\tvalidation_1-error:0.499022\n",
      "[11]\tvalidation_0-logloss:0.692003\tvalidation_0-auc:0.524478\tvalidation_0-error:0.484737\tvalidation_1-logloss:0.69351\tvalidation_1-auc:0.498577\tvalidation_1-error:0.500808\n",
      "[12]\tvalidation_0-logloss:0.692159\tvalidation_0-auc:0.524244\tvalidation_0-error:0.484737\tvalidation_1-logloss:0.693558\tvalidation_1-auc:0.498392\tvalidation_1-error:0.500808\n",
      "[13]\tvalidation_0-logloss:0.691919\tvalidation_0-auc:0.526953\tvalidation_0-error:0.482266\tvalidation_1-logloss:0.693578\tvalidation_1-auc:0.49839\tvalidation_1-error:0.500298\n",
      "[14]\tvalidation_0-logloss:0.691977\tvalidation_0-auc:0.526956\tvalidation_0-error:0.482266\tvalidation_1-logloss:0.693648\tvalidation_1-auc:0.498398\tvalidation_1-error:0.500298\n",
      "[15]\tvalidation_0-logloss:0.691866\tvalidation_0-auc:0.526764\tvalidation_0-error:0.48235\tvalidation_1-logloss:0.693667\tvalidation_1-auc:0.498522\tvalidation_1-error:0.499872\n",
      "[16]\tvalidation_0-logloss:0.691862\tvalidation_0-auc:0.52769\tvalidation_0-error:0.482224\tvalidation_1-logloss:0.693656\tvalidation_1-auc:0.499866\tvalidation_1-error:0.499532\n",
      "[17]\tvalidation_0-logloss:0.691766\tvalidation_0-auc:0.53154\tvalidation_0-error:0.478791\tvalidation_1-logloss:0.6937\tvalidation_1-auc:0.500023\tvalidation_1-error:0.499107\n",
      "[18]\tvalidation_0-logloss:0.691812\tvalidation_0-auc:0.531535\tvalidation_0-error:0.478707\tvalidation_1-logloss:0.69371\tvalidation_1-auc:0.500019\tvalidation_1-error:0.499532\n",
      "[19]\tvalidation_0-logloss:0.691711\tvalidation_0-auc:0.531924\tvalidation_0-error:0.478665\tvalidation_1-logloss:0.693738\tvalidation_1-auc:0.499533\tvalidation_1-error:0.498852\n",
      "[20]\tvalidation_0-logloss:0.691772\tvalidation_0-auc:0.532098\tvalidation_0-error:0.477911\tvalidation_1-logloss:0.693746\tvalidation_1-auc:0.499626\tvalidation_1-error:0.499532\n",
      "[21]\tvalidation_0-logloss:0.691657\tvalidation_0-auc:0.532507\tvalidation_0-error:0.477493\tvalidation_1-logloss:0.693787\tvalidation_1-auc:0.498846\tvalidation_1-error:0.500638\n",
      "[22]\tvalidation_0-logloss:0.691647\tvalidation_0-auc:0.532495\tvalidation_0-error:0.477493\tvalidation_1-logloss:0.693805\tvalidation_1-auc:0.498842\tvalidation_1-error:0.500723\n",
      "[23]\tvalidation_0-logloss:0.691527\tvalidation_0-auc:0.532621\tvalidation_0-error:0.478204\tvalidation_1-logloss:0.693823\tvalidation_1-auc:0.498937\tvalidation_1-error:0.499787\n",
      "[24]\tvalidation_0-logloss:0.691541\tvalidation_0-auc:0.538839\tvalidation_0-error:0.471002\tvalidation_1-logloss:0.693852\tvalidation_1-auc:0.497453\tvalidation_1-error:0.502678\n",
      "[25]\tvalidation_0-logloss:0.691479\tvalidation_0-auc:0.538647\tvalidation_0-error:0.471253\tvalidation_1-logloss:0.693835\tvalidation_1-auc:0.498141\tvalidation_1-error:0.502338\n",
      "[26]\tvalidation_0-logloss:0.691459\tvalidation_0-auc:0.539392\tvalidation_0-error:0.470583\tvalidation_1-logloss:0.693875\tvalidation_1-auc:0.49783\tvalidation_1-error:0.503018\n",
      "[27]\tvalidation_0-logloss:0.691392\tvalidation_0-auc:0.540701\tvalidation_0-error:0.470541\tvalidation_1-logloss:0.693873\tvalidation_1-auc:0.497906\tvalidation_1-error:0.503528\n",
      "[28]\tvalidation_0-logloss:0.691312\tvalidation_0-auc:0.540858\tvalidation_0-error:0.469411\tvalidation_1-logloss:0.693879\tvalidation_1-auc:0.497822\tvalidation_1-error:0.503868\n",
      "[29]\tvalidation_0-logloss:0.691248\tvalidation_0-auc:0.541467\tvalidation_0-error:0.469327\tvalidation_1-logloss:0.693869\tvalidation_1-auc:0.498042\tvalidation_1-error:0.503613\n",
      "[30]\tvalidation_0-logloss:0.691199\tvalidation_0-auc:0.542013\tvalidation_0-error:0.469285\tvalidation_1-logloss:0.693927\tvalidation_1-auc:0.498375\tvalidation_1-error:0.502933\n",
      "[31]\tvalidation_0-logloss:0.691105\tvalidation_0-auc:0.543666\tvalidation_0-error:0.467987\tvalidation_1-logloss:0.693981\tvalidation_1-auc:0.49722\tvalidation_1-error:0.503613\n",
      "[32]\tvalidation_0-logloss:0.691067\tvalidation_0-auc:0.544099\tvalidation_0-error:0.46761\tvalidation_1-logloss:0.694028\tvalidation_1-auc:0.497106\tvalidation_1-error:0.501743\n",
      "[33]\tvalidation_0-logloss:0.691065\tvalidation_0-auc:0.544029\tvalidation_0-error:0.467568\tvalidation_1-logloss:0.694048\tvalidation_1-auc:0.497063\tvalidation_1-error:0.502083\n",
      "[34]\tvalidation_0-logloss:0.691001\tvalidation_0-auc:0.544816\tvalidation_0-error:0.46849\tvalidation_1-logloss:0.69403\tvalidation_1-auc:0.497186\tvalidation_1-error:0.501743\n",
      "[35]\tvalidation_0-logloss:0.690955\tvalidation_0-auc:0.545015\tvalidation_0-error:0.46849\tvalidation_1-logloss:0.694044\tvalidation_1-auc:0.497228\tvalidation_1-error:0.501743\n",
      "[36]\tvalidation_0-logloss:0.690908\tvalidation_0-auc:0.544865\tvalidation_0-error:0.468783\tvalidation_1-logloss:0.694093\tvalidation_1-auc:0.497773\tvalidation_1-error:0.501403\n",
      "[37]\tvalidation_0-logloss:0.690835\tvalidation_0-auc:0.54568\tvalidation_0-error:0.467317\tvalidation_1-logloss:0.694095\tvalidation_1-auc:0.49742\tvalidation_1-error:0.501743\n",
      "[38]\tvalidation_0-logloss:0.69079\tvalidation_0-auc:0.545819\tvalidation_0-error:0.467443\tvalidation_1-logloss:0.694121\tvalidation_1-auc:0.497619\tvalidation_1-error:0.500978\n",
      "[39]\tvalidation_0-logloss:0.690742\tvalidation_0-auc:0.546517\tvalidation_0-error:0.46782\tvalidation_1-logloss:0.694202\tvalidation_1-auc:0.497016\tvalidation_1-error:0.501488\n",
      "[40]\tvalidation_0-logloss:0.690706\tvalidation_0-auc:0.547042\tvalidation_0-error:0.467359\tvalidation_1-logloss:0.694177\tvalidation_1-auc:0.497513\tvalidation_1-error:0.501063\n",
      "[41]\tvalidation_0-logloss:0.690587\tvalidation_0-auc:0.547924\tvalidation_0-error:0.466605\tvalidation_1-logloss:0.69425\tvalidation_1-auc:0.497474\tvalidation_1-error:0.500638\n",
      "[42]\tvalidation_0-logloss:0.690551\tvalidation_0-auc:0.548036\tvalidation_0-error:0.466605\tvalidation_1-logloss:0.694288\tvalidation_1-auc:0.497265\tvalidation_1-error:0.500638\n",
      "[43]\tvalidation_0-logloss:0.690522\tvalidation_0-auc:0.548418\tvalidation_0-error:0.466773\tvalidation_1-logloss:0.69429\tvalidation_1-auc:0.497209\tvalidation_1-error:0.500723\n",
      "[44]\tvalidation_0-logloss:0.690482\tvalidation_0-auc:0.548651\tvalidation_0-error:0.466396\tvalidation_1-logloss:0.694353\tvalidation_1-auc:0.496678\tvalidation_1-error:0.500808\n",
      "[45]\tvalidation_0-logloss:0.690467\tvalidation_0-auc:0.548834\tvalidation_0-error:0.466438\tvalidation_1-logloss:0.694366\tvalidation_1-auc:0.496646\tvalidation_1-error:0.500723\n",
      "[46]\tvalidation_0-logloss:0.690424\tvalidation_0-auc:0.548976\tvalidation_0-error:0.466354\tvalidation_1-logloss:0.694376\tvalidation_1-auc:0.496835\tvalidation_1-error:0.499958\n",
      "[47]\tvalidation_0-logloss:0.690382\tvalidation_0-auc:0.550165\tvalidation_0-error:0.465307\tvalidation_1-logloss:0.694393\tvalidation_1-auc:0.497119\tvalidation_1-error:0.500127\n"
     ]
    },
    {
     "name": "stdout",
     "output_type": "stream",
     "text": [
      "[48]\tvalidation_0-logloss:0.690371\tvalidation_0-auc:0.550346\tvalidation_0-error:0.464888\tvalidation_1-logloss:0.694407\tvalidation_1-auc:0.497\tvalidation_1-error:0.500127\n",
      "[49]\tvalidation_0-logloss:0.690332\tvalidation_0-auc:0.549978\tvalidation_0-error:0.464888\tvalidation_1-logloss:0.694418\tvalidation_1-auc:0.497431\tvalidation_1-error:0.500127\n",
      "[50]\tvalidation_0-logloss:0.690288\tvalidation_0-auc:0.549961\tvalidation_0-error:0.465642\tvalidation_1-logloss:0.694432\tvalidation_1-auc:0.4974\tvalidation_1-error:0.499787\n",
      "[51]\tvalidation_0-logloss:0.690252\tvalidation_0-auc:0.550312\tvalidation_0-error:0.4656\tvalidation_1-logloss:0.694447\tvalidation_1-auc:0.497684\tvalidation_1-error:0.499447\n",
      "[52]\tvalidation_0-logloss:0.690257\tvalidation_0-auc:0.550278\tvalidation_0-error:0.46493\tvalidation_1-logloss:0.694479\tvalidation_1-auc:0.497388\tvalidation_1-error:0.499107\n",
      "[53]\tvalidation_0-logloss:0.690246\tvalidation_0-auc:0.550284\tvalidation_0-error:0.464888\tvalidation_1-logloss:0.694487\tvalidation_1-auc:0.497198\tvalidation_1-error:0.499277\n",
      "[54]\tvalidation_0-logloss:0.69023\tvalidation_0-auc:0.550241\tvalidation_0-error:0.464888\tvalidation_1-logloss:0.694511\tvalidation_1-auc:0.497135\tvalidation_1-error:0.499362\n",
      "[55]\tvalidation_0-logloss:0.690183\tvalidation_0-auc:0.550446\tvalidation_0-error:0.465223\tvalidation_1-logloss:0.694525\tvalidation_1-auc:0.497715\tvalidation_1-error:0.499022\n",
      "[56]\tvalidation_0-logloss:0.690165\tvalidation_0-auc:0.550665\tvalidation_0-error:0.4656\tvalidation_1-logloss:0.694497\tvalidation_1-auc:0.497883\tvalidation_1-error:0.500553\n",
      "[57]\tvalidation_0-logloss:0.690128\tvalidation_0-auc:0.550703\tvalidation_0-error:0.465223\tvalidation_1-logloss:0.69453\tvalidation_1-auc:0.497877\tvalidation_1-error:0.499022\n",
      "[58]\tvalidation_0-logloss:0.690124\tvalidation_0-auc:0.550778\tvalidation_0-error:0.465223\tvalidation_1-logloss:0.694549\tvalidation_1-auc:0.497713\tvalidation_1-error:0.499022\n",
      "[59]\tvalidation_0-logloss:0.690064\tvalidation_0-auc:0.551487\tvalidation_0-error:0.465265\tvalidation_1-logloss:0.694565\tvalidation_1-auc:0.497409\tvalidation_1-error:0.499958\n",
      "[60]\tvalidation_0-logloss:0.689987\tvalidation_0-auc:0.551789\tvalidation_0-error:0.465265\tvalidation_1-logloss:0.694616\tvalidation_1-auc:0.497347\tvalidation_1-error:0.499958\n",
      "[61]\tvalidation_0-logloss:0.689949\tvalidation_0-auc:0.552413\tvalidation_0-error:0.465517\tvalidation_1-logloss:0.694603\tvalidation_1-auc:0.498408\tvalidation_1-error:0.501913\n",
      "[62]\tvalidation_0-logloss:0.689899\tvalidation_0-auc:0.553068\tvalidation_0-error:0.465223\tvalidation_1-logloss:0.694676\tvalidation_1-auc:0.497823\tvalidation_1-error:0.502083\n",
      "[63]\tvalidation_0-logloss:0.689827\tvalidation_0-auc:0.553162\tvalidation_0-error:0.465349\tvalidation_1-logloss:0.694715\tvalidation_1-auc:0.497736\tvalidation_1-error:0.502763\n",
      "[64]\tvalidation_0-logloss:0.689771\tvalidation_0-auc:0.554041\tvalidation_0-error:0.464553\tvalidation_1-logloss:0.694736\tvalidation_1-auc:0.49785\tvalidation_1-error:0.501828\n",
      "[65]\tvalidation_0-logloss:0.689748\tvalidation_0-auc:0.554048\tvalidation_0-error:0.464512\tvalidation_1-logloss:0.694727\tvalidation_1-auc:0.497973\tvalidation_1-error:0.501828\n",
      "[66]\tvalidation_0-logloss:0.689743\tvalidation_0-auc:0.553788\tvalidation_0-error:0.464888\tvalidation_1-logloss:0.694734\tvalidation_1-auc:0.498215\tvalidation_1-error:0.502083\n",
      "[67]\tvalidation_0-logloss:0.689673\tvalidation_0-auc:0.554625\tvalidation_0-error:0.46447\tvalidation_1-logloss:0.694725\tvalidation_1-auc:0.498109\tvalidation_1-error:0.501063\n",
      "[68]\tvalidation_0-logloss:0.689619\tvalidation_0-auc:0.555049\tvalidation_0-error:0.464428\tvalidation_1-logloss:0.694758\tvalidation_1-auc:0.497755\tvalidation_1-error:0.501148\n",
      "[69]\tvalidation_0-logloss:0.689602\tvalidation_0-auc:0.555107\tvalidation_0-error:0.46447\tvalidation_1-logloss:0.694778\tvalidation_1-auc:0.497532\tvalidation_1-error:0.501998\n",
      "[70]\tvalidation_0-logloss:0.689601\tvalidation_0-auc:0.555076\tvalidation_0-error:0.464595\tvalidation_1-logloss:0.694783\tvalidation_1-auc:0.497502\tvalidation_1-error:0.501913\n",
      "[71]\tvalidation_0-logloss:0.689548\tvalidation_0-auc:0.555351\tvalidation_0-error:0.464344\tvalidation_1-logloss:0.694802\tvalidation_1-auc:0.497242\tvalidation_1-error:0.501318\n",
      "[72]\tvalidation_0-logloss:0.689503\tvalidation_0-auc:0.555877\tvalidation_0-error:0.463883\tvalidation_1-logloss:0.694814\tvalidation_1-auc:0.497805\tvalidation_1-error:0.500978\n",
      "[73]\tvalidation_0-logloss:0.68946\tvalidation_0-auc:0.556102\tvalidation_0-error:0.463172\tvalidation_1-logloss:0.694834\tvalidation_1-auc:0.497244\tvalidation_1-error:0.502763\n",
      "[74]\tvalidation_0-logloss:0.689421\tvalidation_0-auc:0.556271\tvalidation_0-error:0.463632\tvalidation_1-logloss:0.694853\tvalidation_1-auc:0.497109\tvalidation_1-error:0.504293\n",
      "[75]\tvalidation_0-logloss:0.689364\tvalidation_0-auc:0.55641\tvalidation_0-error:0.462334\tvalidation_1-logloss:0.694851\tvalidation_1-auc:0.497362\tvalidation_1-error:0.503188\n",
      "[76]\tvalidation_0-logloss:0.689293\tvalidation_0-auc:0.556643\tvalidation_0-error:0.461873\tvalidation_1-logloss:0.694916\tvalidation_1-auc:0.497027\tvalidation_1-error:0.503273\n",
      "[77]\tvalidation_0-logloss:0.68924\tvalidation_0-auc:0.556902\tvalidation_0-error:0.46158\tvalidation_1-logloss:0.694938\tvalidation_1-auc:0.496958\tvalidation_1-error:0.502763\n",
      "[78]\tvalidation_0-logloss:0.689243\tvalidation_0-auc:0.557041\tvalidation_0-error:0.461413\tvalidation_1-logloss:0.694917\tvalidation_1-auc:0.497302\tvalidation_1-error:0.502423\n",
      "[79]\tvalidation_0-logloss:0.689196\tvalidation_0-auc:0.557279\tvalidation_0-error:0.461999\tvalidation_1-logloss:0.694951\tvalidation_1-auc:0.49688\tvalidation_1-error:0.503273\n",
      "[80]\tvalidation_0-logloss:0.689143\tvalidation_0-auc:0.557412\tvalidation_0-error:0.46112\tvalidation_1-logloss:0.695003\tvalidation_1-auc:0.496533\tvalidation_1-error:0.502083\n",
      "[81]\tvalidation_0-logloss:0.689116\tvalidation_0-auc:0.55752\tvalidation_0-error:0.461497\tvalidation_1-logloss:0.694999\tvalidation_1-auc:0.496724\tvalidation_1-error:0.502168\n",
      "[82]\tvalidation_0-logloss:0.689037\tvalidation_0-auc:0.558254\tvalidation_0-error:0.461078\tvalidation_1-logloss:0.695053\tvalidation_1-auc:0.496591\tvalidation_1-error:0.501743\n",
      "[83]\tvalidation_0-logloss:0.689016\tvalidation_0-auc:0.558406\tvalidation_0-error:0.461706\tvalidation_1-logloss:0.695058\tvalidation_1-auc:0.49658\tvalidation_1-error:0.501488\n",
      "[84]\tvalidation_0-logloss:0.688977\tvalidation_0-auc:0.558536\tvalidation_0-error:0.461664\tvalidation_1-logloss:0.695053\tvalidation_1-auc:0.496404\tvalidation_1-error:0.501063\n",
      "[85]\tvalidation_0-logloss:0.688928\tvalidation_0-auc:0.558596\tvalidation_0-error:0.46158\tvalidation_1-logloss:0.695088\tvalidation_1-auc:0.496262\tvalidation_1-error:0.501743\n",
      "[86]\tvalidation_0-logloss:0.6889\tvalidation_0-auc:0.559158\tvalidation_0-error:0.461413\tvalidation_1-logloss:0.695136\tvalidation_1-auc:0.495813\tvalidation_1-error:0.501658\n",
      "[87]\tvalidation_0-logloss:0.688856\tvalidation_0-auc:0.559146\tvalidation_0-error:0.461538\tvalidation_1-logloss:0.695115\tvalidation_1-auc:0.495979\tvalidation_1-error:0.502253\n",
      "[88]\tvalidation_0-logloss:0.688796\tvalidation_0-auc:0.55917\tvalidation_0-error:0.462292\tvalidation_1-logloss:0.695121\tvalidation_1-auc:0.496357\tvalidation_1-error:0.500468\n",
      "[89]\tvalidation_0-logloss:0.688733\tvalidation_0-auc:0.559863\tvalidation_0-error:0.461413\tvalidation_1-logloss:0.695129\tvalidation_1-auc:0.496795\tvalidation_1-error:0.501318\n",
      "[90]\tvalidation_0-logloss:0.688713\tvalidation_0-auc:0.559843\tvalidation_0-error:0.461413\tvalidation_1-logloss:0.695146\tvalidation_1-auc:0.496621\tvalidation_1-error:0.501573\n",
      "[91]\tvalidation_0-logloss:0.688707\tvalidation_0-auc:0.559992\tvalidation_0-error:0.461455\tvalidation_1-logloss:0.695168\tvalidation_1-auc:0.49644\tvalidation_1-error:0.501318\n",
      "[92]\tvalidation_0-logloss:0.688679\tvalidation_0-auc:0.560064\tvalidation_0-error:0.461162\tvalidation_1-logloss:0.69517\tvalidation_1-auc:0.496288\tvalidation_1-error:0.501573\n",
      "[93]\tvalidation_0-logloss:0.688645\tvalidation_0-auc:0.56046\tvalidation_0-error:0.460743\tvalidation_1-logloss:0.695194\tvalidation_1-auc:0.495971\tvalidation_1-error:0.501913\n",
      "[94]\tvalidation_0-logloss:0.688607\tvalidation_0-auc:0.560658\tvalidation_0-error:0.460575\tvalidation_1-logloss:0.695161\tvalidation_1-auc:0.496538\tvalidation_1-error:0.502083\n",
      "[95]\tvalidation_0-logloss:0.688565\tvalidation_0-auc:0.561214\tvalidation_0-error:0.461329\tvalidation_1-logloss:0.695156\tvalidation_1-auc:0.496812\tvalidation_1-error:0.501403\n"
     ]
    },
    {
     "name": "stdout",
     "output_type": "stream",
     "text": [
      "[96]\tvalidation_0-logloss:0.688537\tvalidation_0-auc:0.56127\tvalidation_0-error:0.46112\tvalidation_1-logloss:0.695172\tvalidation_1-auc:0.496643\tvalidation_1-error:0.501658\n",
      "[97]\tvalidation_0-logloss:0.688479\tvalidation_0-auc:0.561409\tvalidation_0-error:0.46158\tvalidation_1-logloss:0.695202\tvalidation_1-auc:0.49629\tvalidation_1-error:0.501488\n",
      "[98]\tvalidation_0-logloss:0.688453\tvalidation_0-auc:0.56161\tvalidation_0-error:0.46045\tvalidation_1-logloss:0.69521\tvalidation_1-auc:0.496361\tvalidation_1-error:0.501403\n",
      "[99]\tvalidation_0-logloss:0.688432\tvalidation_0-auc:0.561669\tvalidation_0-error:0.460575\tvalidation_1-logloss:0.695234\tvalidation_1-auc:0.496409\tvalidation_1-error:0.501318\n"
     ]
    }
   ],
   "source": [
    "model = xgb.XGBClassifier(seed=42).fit(X_train, y_train, \n",
    "                                       eval_set=[(X_train, y_train.astype(int)), (X_val, y_val.astype(int))], \n",
    "                                       eval_metric=['logloss', 'auc', 'error'])"
   ]
  },
  {
   "cell_type": "code",
   "execution_count": 36,
   "metadata": {},
   "outputs": [
    {
     "data": {
      "text/plain": [
       "0.5021359002107422"
      ]
     },
     "execution_count": 36,
     "metadata": {},
     "output_type": "execute_result"
    }
   ],
   "source": [
    "preds = model.predict(X_test)\n",
    "accuracy_score(y_test, preds)"
   ]
  },
  {
   "cell_type": "markdown",
   "metadata": {},
   "source": [
    "### Model 3 - Neural net"
   ]
  },
  {
   "cell_type": "code",
   "execution_count": 37,
   "metadata": {},
   "outputs": [],
   "source": [
    "import tensorflow as tf\n",
    "from tensorflow.keras.models import Sequential\n",
    "from tensorflow.keras.layers import Dense\n",
    "from tensorflow.keras.utils import to_categorical"
   ]
  },
  {
   "cell_type": "code",
   "execution_count": 38,
   "metadata": {},
   "outputs": [],
   "source": [
    "neural_df = dataset.copy()\n",
    "neural_df['gender'] = dataset['gender'].map({'F': 0, 'M': 1, 'O': 3})\n",
    "neural_df['type'] = dataset['type'].map({'bogo': 0, 'discount': 1})\n",
    "neural_df['age'] = (neural_df['age'] - neural_df['age'].min())/(neural_df['age'].max() - neural_df['age'].min())\n",
    "neural_df['income'] = (neural_df['income'] - neural_df['income'].min())/(neural_df['income'].max() - neural_df['income'].min())"
   ]
  },
  {
   "cell_type": "code",
   "execution_count": 39,
   "metadata": {},
   "outputs": [
    {
     "data": {
      "text/plain": [
       "(1.0, 0.0)"
      ]
     },
     "execution_count": 39,
     "metadata": {},
     "output_type": "execute_result"
    }
   ],
   "source": [
    "neural_df['income'].max(), neural_df['income'].min()"
   ]
  },
  {
   "cell_type": "code",
   "execution_count": 40,
   "metadata": {},
   "outputs": [],
   "source": [
    "features_cols = 'gender age income type'.split()\n",
    "labels_cols = ['completed']\n",
    "X_train, y_train, X_val, y_val, X_test, y_test = make_dataset(neural_df,\n",
    "                                                              features_cols,\n",
    "                                                              labels_cols)"
   ]
  },
  {
   "cell_type": "code",
   "execution_count": 41,
   "metadata": {},
   "outputs": [
    {
     "data": {
      "text/plain": [
       "(23881, 4)"
      ]
     },
     "execution_count": 41,
     "metadata": {},
     "output_type": "execute_result"
    }
   ],
   "source": [
    "X_train.shape"
   ]
  },
  {
   "cell_type": "code",
   "execution_count": 42,
   "metadata": {},
   "outputs": [
    {
     "name": "stderr",
     "output_type": "stream",
     "text": [
      "WARNING: Logging before flag parsing goes to stderr.\n",
      "W0421 13:32:01.952569 139955610257216 deprecation.py:506] From /home/luiza.pozzobon/.virtualenvs/xtrv2/lib/python3.7/site-packages/tensorflow/python/ops/init_ops.py:1251: calling VarianceScaling.__init__ (from tensorflow.python.ops.init_ops) with dtype is deprecated and will be removed in a future version.\n",
      "Instructions for updating:\n",
      "Call initializer instance with the dtype argument instead of passing it to the constructor\n"
     ]
    }
   ],
   "source": [
    "nn = Sequential([Dense(64, activation='relu', input_shape=(X_train.shape[1],)),\n",
    "                 Dense(64, activation='relu'),\n",
    "                 Dense(2, activation='softmax')])"
   ]
  },
  {
   "cell_type": "code",
   "execution_count": 43,
   "metadata": {},
   "outputs": [],
   "source": [
    "nn.compile(\n",
    "  optimizer='sgd',\n",
    "  loss='categorical_crossentropy',\n",
    "  metrics=['accuracy'],\n",
    ")"
   ]
  },
  {
   "cell_type": "code",
   "execution_count": 44,
   "metadata": {},
   "outputs": [
    {
     "name": "stdout",
     "output_type": "stream",
     "text": [
      "Train on 23881 samples, validate on 11763 samples\n",
      "Epoch 1/5\n",
      "23881/23881 [==============================] - 1s 42us/sample - loss: 0.6830 - acc: 0.5640 - val_loss: 0.6745 - val_acc: 0.5804\n",
      "Epoch 2/5\n",
      "23881/23881 [==============================] - 1s 53us/sample - loss: 0.6755 - acc: 0.5721 - val_loss: 0.6713 - val_acc: 0.5781\n",
      "Epoch 3/5\n",
      "23881/23881 [==============================] - 1s 42us/sample - loss: 0.6729 - acc: 0.5689 - val_loss: 0.6694 - val_acc: 0.5714\n",
      "Epoch 4/5\n",
      "23881/23881 [==============================] - 1s 34us/sample - loss: 0.6711 - acc: 0.5674 - val_loss: 0.6674 - val_acc: 0.5713\n",
      "Epoch 5/5\n",
      "23881/23881 [==============================] - 1s 33us/sample - loss: 0.6699 - acc: 0.5707 - val_loss: 0.6666 - val_acc: 0.5728\n"
     ]
    },
    {
     "data": {
      "text/plain": [
       "<tensorflow.python.keras.callbacks.History at 0x7f49ab12ca10>"
      ]
     },
     "execution_count": 44,
     "metadata": {},
     "output_type": "execute_result"
    }
   ],
   "source": [
    "nn.fit(X_train,\n",
    "       to_categorical(y_train),\n",
    "       epochs=5,\n",
    "       batch_size=32,\n",
    "       validation_data=(X_val, to_categorical(y_val)))"
   ]
  },
  {
   "cell_type": "code",
   "execution_count": 45,
   "metadata": {},
   "outputs": [
    {
     "name": "stdout",
     "output_type": "stream",
     "text": [
      "17557/17557 [==============================] - 0s 13us/sample - loss: 0.6705 - acc: 0.5708\n"
     ]
    },
    {
     "data": {
      "text/plain": [
       "[0.6705410578103274, 0.5708265]"
      ]
     },
     "execution_count": 45,
     "metadata": {},
     "output_type": "execute_result"
    }
   ],
   "source": [
    "nn.evaluate(X_test, to_categorical(y_test))"
   ]
  },
  {
   "cell_type": "code",
   "execution_count": null,
   "metadata": {},
   "outputs": [],
   "source": []
  }
 ],
 "metadata": {
  "kernelspec": {
   "display_name": "Python 3",
   "language": "python",
   "name": "python3"
  },
  "language_info": {
   "codemirror_mode": {
    "name": "ipython",
    "version": 3
   },
   "file_extension": ".py",
   "mimetype": "text/x-python",
   "name": "python",
   "nbconvert_exporter": "python",
   "pygments_lexer": "ipython3",
   "version": "3.7.5"
  }
 },
 "nbformat": 4,
 "nbformat_minor": 4
}
